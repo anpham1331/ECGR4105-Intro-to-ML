{
  "nbformat": 4,
  "nbformat_minor": 0,
  "metadata": {
    "colab": {
      "provenance": [],
      "authorship_tag": "ABX9TyMqQhGU6QBshwo6bsf/6DNb",
      "include_colab_link": true
    },
    "kernelspec": {
      "name": "python3",
      "display_name": "Python 3"
    },
    "language_info": {
      "name": "python"
    }
  },
  "cells": [
    {
      "cell_type": "markdown",
      "metadata": {
        "id": "view-in-github",
        "colab_type": "text"
      },
      "source": [
        "<a href=\"https://colab.research.google.com/github/anpham1331/Intro-to-ML-HW1-Gradient-Descent/blob/main/ECGR_4105_Homework_1.ipynb\" target=\"_parent\"><img src=\"https://colab.research.google.com/assets/colab-badge.svg\" alt=\"Open In Colab\"/></a>"
      ]
    },
    {
      "cell_type": "code",
      "execution_count": null,
      "metadata": {
        "id": "vK4cRCOzlT37"
      },
      "outputs": [],
      "source": [
        "import numpy as np\n",
        "import matplotlib.pyplot as plt\n",
        "import pandas as pd\n",
        "\n",
        "from google.colab import drive\n",
        "drive.mount('/content/drive')\n",
        "\n",
        "path_file = \"/content/drive/MyDrive/Colab Notebooks/D3.csv\"\n",
        "df = pd.read_csv(path_file)\n",
        "\n",
        "\n",
        "#Calculate cost function first, then find the gradient from that cost function,\n",
        "#then put it in the gradient descent function.\n",
        "#Set parameters = 0, set learning rate = 0.1 to 0.01. Do for each column\n",
        "\n",
        "#steps for finding gradient descent:\n",
        "#1 - Find loss function, predicted value h0\n",
        "#2 - Init parameters with initial values\n",
        "#3 - Init learning rate and number of iterations\n",
        "#4 - Find gradient, and then gradient descent by updating parameters\n",
        "\n",
        "\n",
        "#Cost Function: 1/2m * sum(h0(xi-yi))^2\n",
        "\n",
        "#Gradient Descent: theta = theta - learningRate*gradient, gradient =\n",
        "\n",
        "print(df.head())"
      ]
    },
    {
      "cell_type": "code",
      "source": [
        "#Problem 1: Separated Variables Gradient Descent\n",
        "\n",
        "#Labels\n",
        "X1 = df.values[:,0] #Get input values from X1, first column\n",
        "X2 = df.values[:,1] #Get input values from X2, second column\n",
        "X3 = df.values[:,2] #Get input values from X3, third column\n",
        "y = df.values[:,3] #Get output values from y, fourth column\n",
        "m1 = len(X1) #Number of training examples for X1\n",
        "m2 = len(X2) #Number of training examples for X2\n",
        "m3 = len(X3) #Number of training examples for X3\n",
        "n = len(y) #Number of training examples for y\n",
        "\n",
        "#Creating the Matrix for X1\n",
        "X1_0 = np.ones((m1, 1))\n",
        "X1_1 = X1.reshape(m1, 1)\n",
        "X1 = np.hstack((X1_0, X1_1))\n",
        "#Creating the Matrix for X2\n",
        "X2_0 = np.ones((m2, 1))\n",
        "X2_1 = X2.reshape(m2, 1)\n",
        "X2 = np.hstack((X2_0, X2_1))\n",
        "#Creating the Matrix for X3\n",
        "X3_0 = np.ones((m3, 1))\n",
        "X3_1 = X3.reshape(m3, 1)\n",
        "X3 = np.hstack((X3_0, X3_1))\n",
        "\n",
        "theta = np.zeros(2)\n"
      ],
      "metadata": {
        "id": "M4VrfNLEXVa6"
      },
      "execution_count": null,
      "outputs": []
    },
    {
      "cell_type": "code",
      "source": [
        "def compute_cost(X, y, theta):\n",
        "    \"\"\"\n",
        "    Compute cost for linear regression.\n",
        "\n",
        "    Parameters:\n",
        "    X : 2D array where each row represents the training example and each column represent the feature\n",
        "        m = number of training examples\n",
        "        n = number of features (including X_0 column of ones)\n",
        "    y : 1D array of labels/target values for each training example. dimension(m)\n",
        "    theta : 1D array of fitting parameters or weights. Dimension (n)\n",
        "\n",
        "    Returns:\n",
        "    J : Scalar value, the cost\n",
        "\n",
        "    *len(x) in the given J equation below is equal to each varied m value, number of training examples, of each variable\n",
        "    \"\"\"\n",
        "    predictions = X.dot(theta)\n",
        "    errors = np.subtract(predictions, y)\n",
        "    sqrErrors = np.square(errors)\n",
        "    J = 1 / (2 * len(X)) * np.sum(sqrErrors)\n",
        "    return J"
      ],
      "metadata": {
        "id": "--HKQHUjd3sv"
      },
      "execution_count": null,
      "outputs": []
    },
    {
      "cell_type": "code",
      "source": [
        "# Lets compute the cost for theta values\n",
        "cost1 = compute_cost(X1, y, theta)\n",
        "print('The cost for given values for X1 of theta_0 and theta_1 =', cost1)\n",
        "\n",
        "cost2 = compute_cost(X2, y, theta)\n",
        "print('The cost for given values for X2 of theta_0 and theta_1 =', cost2)\n",
        "\n",
        "cost3 = compute_cost(X3, y, theta)\n",
        "print('The cost for given values for X2 of theta_0 and theta_1 =', cost2)"
      ],
      "metadata": {
        "colab": {
          "base_uri": "https://localhost:8080/"
        },
        "id": "a7iTEfgZeSvC",
        "outputId": "777ee195-e9ce-4d1b-c275-cc275508a167"
      },
      "execution_count": null,
      "outputs": [
        {
          "output_type": "stream",
          "name": "stdout",
          "text": [
            "The cost for given values for X1 of theta_0 and theta_1 = 5.524438459196242\n",
            "The cost for given values for X2 of theta_0 and theta_1 = 5.524438459196242\n",
            "The cost for given values for X2 of theta_0 and theta_1 = 5.524438459196242\n"
          ]
        }
      ]
    },
    {
      "cell_type": "code",
      "source": [
        "\n",
        "def gradient_descent(X, y, theta, alpha, iterations):\n",
        "    \"\"\"\n",
        "    Compute the optimal parameters using gradient descent for linear regression.\n",
        "\n",
        "    Parameters:\n",
        "    X : 2D array where each row represents the training example and each column represents the feature\n",
        "        m = number of training examples\n",
        "        n = number of features (including X_0 column of ones)\n",
        "    y : 1D array of labels/target values for each training example. dimension(m)\n",
        "    theta : 1D array of fitting parameters or weights. Dimension (n)\n",
        "    alpha : Learning rate (scalar)\n",
        "    iterations : Number of iterations (scalar)\n",
        "\n",
        "    Returns:\n",
        "    theta : Updated values of fitting parameters or weights after 'iterations' iterations. Dimension (n)\n",
        "    cost_history : Array containing the cost for each iteration. Dimension (iterations)\n",
        "    \"\"\"\n",
        "\n",
        "    m = len(y)  # Number of training examples\n",
        "    cost_history = np.zeros(iterations)\n",
        "\n",
        "    for i in range(iterations):\n",
        "        predictions = X.dot(theta)\n",
        "        errors = np.subtract(predictions, y)\n",
        "        sum_delta = (alpha / m) * X.transpose().dot(errors)\n",
        "        theta -= sum_delta\n",
        "        cost_history[i] = compute_cost(X, y, theta)\n",
        "\n",
        "    return theta, cost_history"
      ],
      "metadata": {
        "id": "6q1BZwJFep6C"
      },
      "execution_count": null,
      "outputs": []
    },
    {
      "cell_type": "code",
      "source": [
        "theta = [0., 0.]\n",
        "iterations = 1500\n",
        "alpha = 0.01\n",
        "\n",
        "theta1, cost_history1 = gradient_descent(X1, y, theta, alpha, iterations)\n",
        "print('Final value of theta =', theta)\n",
        "print('cost_history =', cost_history1)\n",
        "\n",
        "theta2, cost_history2 = gradient_descent(X2, y, theta, alpha, iterations)\n",
        "print('Final value of theta =', theta)\n",
        "print('cost_history =', cost_history2)\n",
        "\n",
        "theta3, cost_history3 = gradient_descent(X3, y, theta, alpha, iterations)\n",
        "print('Final value of theta =', theta)\n",
        "print('cost_history =', cost_history3)"
      ],
      "metadata": {
        "colab": {
          "base_uri": "https://localhost:8080/"
        },
        "id": "tqMeWb-efAT8",
        "outputId": "2439f565-5fb0-428f-bf45-c3e79960c150"
      },
      "execution_count": null,
      "outputs": [
        {
          "output_type": "stream",
          "name": "stdout",
          "text": [
            "Final value of theta = [0.0, 0.0]\n",
            "cost_history = [5.48226715 5.44290965 5.40604087 ... 0.99063932 0.99061433 0.99058944]\n",
            "Final value of theta = [0.0, 0.0]\n",
            "cost_history = [5.29831663 5.09909109 4.92356115 ... 3.5993997  3.59939955 3.5993994 ]\n",
            "Final value of theta = [0.0, 0.0]\n",
            "cost_history = [5.40768785 5.30397076 5.21178297 ... 3.63053597 3.6305311  3.63052625]\n"
          ]
        }
      ]
    },
    {
      "cell_type": "code",
      "source": [
        "#Graph of X1\n",
        "plt.scatter(X1[:, 1], y, color='red', marker='+', label='Training Data') # Scatter plot for the training data\n",
        "\n",
        "plt.plot(X1[:, 1], X1.dot(theta1), color='green', label='Linear Regression') # Line plot for the linear regression model\n",
        "\n",
        "plt.rcParams[\"figure.figsize\"] = (10, 6)\n",
        "plt.grid(True)\n",
        "plt.xlabel('X')\n",
        "plt.ylabel('Y')\n",
        "plt.title('Linear Regression Fit')\n",
        "plt.legend()\n",
        "\n",
        "plt.show()\n",
        "\n",
        "#-----------------------------------------------#\n",
        "\n",
        "#Graph of X2\n",
        "plt.scatter(X2[:, 1], y, color='red', marker='+', label='Training Data') # Scatter plot for the training data\n",
        "\n",
        "plt.plot(X2[:, 1], X2.dot(theta2), color='green', label='Linear Regression') # Line plot for the linear regression model\n",
        "\n",
        "plt.rcParams[\"figure.figsize\"] = (10, 6)\n",
        "plt.grid(True)\n",
        "plt.xlabel('X')\n",
        "plt.ylabel('Y')\n",
        "plt.title('Linear Regression Fit')\n",
        "plt.legend()\n",
        "\n",
        "plt.show()\n",
        "\n",
        "#-----------------------------------------------#\n",
        "\n",
        "#Graph of X3\n",
        "plt.scatter(X3[:, 1], y, color='red', marker='+', label='Training Data') # Scatter plot for the training data\n",
        "\n",
        "plt.plot(X3[:, 1], X3.dot(theta3), color='green', label='Linear Regression') # Line plot for the linear regression model\n",
        "\n",
        "plt.rcParams[\"figure.figsize\"] = (10, 6)\n",
        "plt.grid(True)\n",
        "plt.xlabel('X')\n",
        "plt.ylabel('Y')\n",
        "plt.title('Linear Regression Fit')\n",
        "plt.legend()\n",
        "\n",
        "plt.show()"
      ],
      "metadata": {
        "id": "H5CtFZvQfWjo"
      },
      "execution_count": null,
      "outputs": []
    },
    {
      "cell_type": "code",
      "source": [
        "#Gradient Descent Graph of X1\n",
        "plt.plot(range(1, iterations + 1), cost_history1, color='blue')\n",
        "plt.rcParams[\"figure.figsize\"] = (10, 6)\n",
        "plt.grid(True)\n",
        "\n",
        "plt.xlabel('Number of iterations')\n",
        "plt.ylabel('Cost (J)')\n",
        "plt.title('Loss Over Iterations')\n",
        "\n",
        "plt.show()\n",
        "\n",
        "#-----------------------------------------------#\n",
        "\n",
        "#Gradient Descent Graph of X2\n",
        "plt.plot(range(1, iterations + 1), cost_history2, color='blue')\n",
        "plt.rcParams[\"figure.figsize\"] = (10, 6)\n",
        "plt.grid(True)\n",
        "\n",
        "plt.xlabel('Number of iterations')\n",
        "plt.ylabel('Cost (J)')\n",
        "plt.title('Loss Over Iterations')\n",
        "\n",
        "plt.show()\n",
        "\n",
        "#-----------------------------------------------#\n",
        "\n",
        "#Gradient Descent Graph of X3\n",
        "plt.plot(range(1, iterations + 1), cost_history3, color='blue')\n",
        "plt.rcParams[\"figure.figsize\"] = (10, 6)\n",
        "plt.grid(True)\n",
        "\n",
        "plt.xlabel('Number of iterations')\n",
        "plt.ylabel('Cost (J)')\n",
        "plt.title('Loss Over Iterations')\n",
        "\n",
        "plt.show()"
      ],
      "metadata": {
        "id": "O_N8mUUygwUY"
      },
      "execution_count": null,
      "outputs": []
    },
    {
      "cell_type": "code",
      "source": [
        "#Problem 2: Multivariable Gradient Descent\n",
        "def compute_cost_multi(X1, X2, X3, y, theta):\n",
        "    predictions = X1.dot(theta) + X2.dot(theta) + X3.dot(theta)\n",
        "    errors = np.subtract(predictions, y)\n",
        "    sqrErrors = np.square(errors)\n",
        "    J = 1 / (2 * len(X1)) * np.sum(sqrErrors)\n",
        "    return J\n",
        "\n",
        "def gradient_descent_multi(X1, X2, X3, y, theta, alpha, iterations):\n",
        "    m = len(y)  # Number of training examples\n",
        "    cost_history = np.zeros(iterations)\n",
        "\n",
        "    for i in range(iterations):\n",
        "        predictions = X1.dot(theta) + X2.dot(theta) + X3.dot(theta)\n",
        "        errors = np.subtract(predictions, y)\n",
        "        sum_delta = (alpha / m) * X1.transpose().dot(errors) + (alpha / m) * X2.transpose().dot(errors) + (alpha / m) * X3.transpose().dot(errors)\n",
        "        theta -= sum_delta\n",
        "        cost_history[i] = compute_cost_multi(X1, X2, X3, y, theta)\n",
        "\n",
        "    return theta, cost_history\n",
        "\n",
        "theta = [0., 0.]\n",
        "iterations = 1500\n",
        "alpha = 0.01\n",
        "\n",
        "theta, cost_history_multi = gradient_descent_multi(X1, X2, X3, y, theta, alpha, iterations)\n",
        "print('Final value of theta =', theta)\n",
        "print('cost_history =', cost_history_multi)"
      ],
      "metadata": {
        "colab": {
          "base_uri": "https://localhost:8080/"
        },
        "id": "1pyXCb72NS9E",
        "outputId": "e6bed196-a227-4cfa-ddf3-0fddaa8ae0ee"
      },
      "execution_count": null,
      "outputs": [
        {
          "output_type": "stream",
          "name": "stdout",
          "text": [
            "Final value of theta = [ 1.88427151 -0.63784258]\n",
            "cost_history = [4.75762164 4.53238386 4.45401243 ... 2.94616743 2.94616743 2.94616743]\n"
          ]
        }
      ]
    },
    {
      "cell_type": "code",
      "source": [
        "#Multivariable Loss over Iterations Graph\n",
        "plt.plot(range(1, iterations + 1), cost_history_multi, color='blue')\n",
        "plt.rcParams[\"figure.figsize\"] = (10, 6)\n",
        "plt.grid(True)\n",
        "\n",
        "plt.xlabel('Number of iterations')\n",
        "plt.ylabel('Cost (J)')\n",
        "plt.title('Loss over Iterations')\n",
        "\n",
        "plt.show()"
      ],
      "metadata": {
        "colab": {
          "base_uri": "https://localhost:8080/",
          "height": 564
        },
        "id": "MITP_j164MF5",
        "outputId": "49536640-31a3-44ea-a401-c65a9cd1bad7"
      },
      "execution_count": null,
      "outputs": [
        {
          "output_type": "display_data",
          "data": {
            "text/plain": [
              "<Figure size 1000x600 with 1 Axes>"
            ],
            "image/png": "[encoded data removed]"
          },
          "metadata": {}
        }
      ]
    }
  ]
}
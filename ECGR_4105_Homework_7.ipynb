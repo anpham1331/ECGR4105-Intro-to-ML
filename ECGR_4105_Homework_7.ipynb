{
  "cells": [
    {
      "cell_type": "markdown",
      "metadata": {
        "id": "view-in-github",
        "colab_type": "text"
      },
      "source": [
        "<a href=\"https://colab.research.google.com/github/anpham1331/ECGR4105-Intro-to-ML/blob/main/ECGR_4105_Homework_7.ipynb\" target=\"_parent\"><img src=\"https://colab.research.google.com/assets/colab-badge.svg\" alt=\"Open In Colab\"/></a>"
      ]
    },
    {
      "cell_type": "code",
      "execution_count": null,
      "metadata": {
        "id": "PRg3s3LgoLG9"
      },
      "outputs": [],
      "source": [
        "#https://github.com/anpham1331/ECGR4105-Intro-to-ML/tree/main\n",
        "\n",
        "import numpy as np\n",
        "import matplotlib.pyplot as plt\n",
        "import pandas as pd\n",
        "from sklearn.model_selection import train_test_split\n",
        "from sklearn.preprocessing import StandardScaler\n",
        "from sklearn.linear_model import LogisticRegression\n",
        "from sklearn.metrics import confusion_matrix\n",
        "from sklearn import metrics\n",
        "from sklearn.naive_bayes import GaussianNB\n",
        "from torch.utils.data import TensorDataset, DataLoader\n",
        "\n",
        "import torch\n",
        "import torch.nn as nn\n",
        "import torch.optim as optim\n",
        "import torchvision\n",
        "import torchvision.transforms as transforms\n",
        "from torch.utils.data import DataLoader\n",
        "import torch.nn.functional as F\n",
        "import time\n",
        "from tqdm import tqdm"
      ]
    },
    {
      "cell_type": "code",
      "source": [
        "# Define transformations for the dataset\n",
        "transform = transforms.Compose([\n",
        "    transforms.ToTensor(),\n",
        "    transforms.Normalize((0.5, 0.5, 0.5), (0.5, 0.5, 0.5))\n",
        "])\n",
        "\n",
        "# Download and load the CIFAR-10 dataset\n",
        "train_dataset = torchvision.datasets.CIFAR10(root='./data', train=True, download=True, transform=transform)\n",
        "test_dataset = torchvision.datasets.CIFAR10(root='./data', train=False, download=True, transform=transform)\n",
        "\n",
        "# Define data loaders\n",
        "train_loader = DataLoader(train_dataset, batch_size=64, shuffle=True, num_workers=4)\n",
        "test_loader = DataLoader(test_dataset, batch_size=64, shuffle=False, num_workers=4)\n",
        "\n",
        "# Define the CNN model\n",
        "class SimpleCNN(nn.Module):\n",
        "    def __init__(self):\n",
        "        super(SimpleCNN, self).__init__()\n",
        "        self.conv1 = nn.Conv2d(3, 64, kernel_size=3, stride=1, padding=1)\n",
        "        self.relu1 = nn.ReLU()\n",
        "        self.conv2 = nn.Conv2d(64, 128, kernel_size=3, stride=1, padding=1)\n",
        "        self.relu2 = nn.ReLU()\n",
        "        self.pool = nn.MaxPool2d(kernel_size=2, stride=2, padding=0)\n",
        "        self.fc1 = nn.Linear(128 * 8 * 8, 512)\n",
        "        self.relu3 = nn.ReLU()\n",
        "        self.fc2 = nn.Linear(512, 10)\n",
        "\n",
        "    def forward(self, x):\n",
        "        x = self.conv1(x)\n",
        "        x = self.relu1(x)\n",
        "        x = self.pool(x)\n",
        "        x = self.conv2(x)\n",
        "        x = self.relu2(x)\n",
        "        x = self.pool(x)\n",
        "        x = x.view(-1, 128 * 8 * 8)\n",
        "        x = self.fc1(x)\n",
        "        x = self.relu3(x)\n",
        "        x = self.fc2(x)\n",
        "        return x\n",
        "\n",
        "# Initialize the model, loss function, and optimizer\n",
        "model = SimpleCNN()\n",
        "criterion = nn.CrossEntropyLoss()\n",
        "optimizer = optim.Adam(model.parameters(), lr=0.001)\n"
      ],
      "metadata": {
        "id": "xSsh4JFoXu8y",
        "colab": {
          "base_uri": "https://localhost:8080/"
        },
        "outputId": "4e2b8954-8501-4e5c-c0be-789b36a01e71"
      },
      "execution_count": null,
      "outputs": [
        {
          "output_type": "stream",
          "name": "stdout",
          "text": [
            "Files already downloaded and verified\n",
            "Files already downloaded and verified\n"
          ]
        }
      ]
    },
    {
      "cell_type": "code",
      "source": [
        "train_loader = DataLoader(train_dataset, batch_size=128, shuffle=True, num_workers=8, pin_memory=True)\n",
        "test_loader = DataLoader(test_dataset, batch_size=128, shuffle=False, num_workers=8, pin_memory=True)"
      ],
      "metadata": {
        "id": "6i6VvWx0iKdp"
      },
      "execution_count": null,
      "outputs": []
    },
    {
      "cell_type": "code",
      "source": [
        "# Training the model\n",
        "start_time = time.time()\n",
        "with torch.autograd.profiler.profile(use_cuda=True) as prof:\n",
        "\n",
        "  for epoch in range(300):\n",
        "      model.train()\n",
        "      running_loss = 0.0\n",
        "      # Use tqdm for a progress bar\n",
        "      for inputs, labels in tqdm(train_loader, desc=f\"Epoch {epoch + 1}/{300}\", dynamic_ncols=True):\n",
        "          optimizer.zero_grad()\n",
        "          outputs = model(inputs)\n",
        "          loss = criterion(outputs, labels)\n",
        "          loss.backward()\n",
        "          optimizer.step()\n",
        "          running_loss += loss.item()\n",
        "\n",
        "      print(f\"Epoch {epoch + 1}/{300}, Loss: {running_loss / len(train_loader)}\")\n",
        "\n",
        "print(prof)\n",
        "\n",
        "# Evaluate the model\n",
        "model.eval()\n",
        "correct = 0\n",
        "total = 0\n",
        "with torch.no_grad():\n",
        "    for inputs, labels in test_loader:\n",
        "        outputs = model(inputs)\n",
        "        _, predicted = torch.max(outputs.data, 1)\n",
        "        total += labels.size(0)\n",
        "        correct += (predicted == labels).sum().item()\n",
        "\n",
        "end_time = time.time()\n",
        "\n",
        "# Print the results\n",
        "print(f\"Training Time: {end_time - start_time} seconds\")\n",
        "print(f\"Training Loss after 300 epochs: {running_loss / len(train_loader)}\")\n",
        "print(f\"Test Accuracy after 300 epochs: {correct / total}\")"
      ],
      "metadata": {
        "colab": {
          "base_uri": "https://localhost:8080/"
        },
        "id": "-c_1LqSBZ-ZA",
        "outputId": "d9462a78-2eb8-4a38-94f5-5d0d57336b56"
      },
      "execution_count": null,
      "outputs": [
        {
          "output_type": "stream",
          "name": "stderr",
          "text": [
            "C:\\Users\\Anthony\\anaconda3\\Lib\\site-packages\\torch\\autograd\\profiler.py:255: UserWarning: CUDA is not available, disabling CUDA profiling\n",
            "  warn(\"CUDA is not available, disabling CUDA profiling\")\n",
            "Epoch 1/300: 100%|███████████████████████████████████████████████████████████████████| 391/391 [01:09<00:00,  5.64it/s]\n"
          ]
        },
        {
          "output_type": "stream",
          "name": "stdout",
          "text": [
            "Epoch 1/300, Loss: 1.3005712175613169\n"
          ]
        },
        {
          "output_type": "stream",
          "name": "stderr",
          "text": [
            "Epoch 2/300: 100%|███████████████████████████████████████████████████████████████████| 391/391 [01:09<00:00,  5.60it/s]\n"
          ]
        },
        {
          "output_type": "stream",
          "name": "stdout",
          "text": [
            "Epoch 2/300, Loss: 0.8778987472014659\n"
          ]
        },
        {
          "output_type": "stream",
          "name": "stderr",
          "text": [
            "Epoch 3/300: 100%|███████████████████████████████████████████████████████████████████| 391/391 [01:10<00:00,  5.57it/s]\n"
          ]
        },
        {
          "output_type": "stream",
          "name": "stdout",
          "text": [
            "Epoch 3/300, Loss: 0.6900604765128602\n"
          ]
        },
        {
          "output_type": "stream",
          "name": "stderr",
          "text": [
            "Epoch 4/300: 100%|███████████████████████████████████████████████████████████████████| 391/391 [01:10<00:00,  5.58it/s]\n"
          ]
        },
        {
          "output_type": "stream",
          "name": "stdout",
          "text": [
            "Epoch 4/300, Loss: 0.5304858315631252\n"
          ]
        },
        {
          "output_type": "stream",
          "name": "stderr",
          "text": [
            "Epoch 5/300: 100%|███████████████████████████████████████████████████████████████████| 391/391 [01:10<00:00,  5.58it/s]\n"
          ]
        },
        {
          "output_type": "stream",
          "name": "stdout",
          "text": [
            "Epoch 5/300, Loss: 0.3813584236537709\n"
          ]
        },
        {
          "output_type": "stream",
          "name": "stderr",
          "text": [
            "Epoch 6/300: 100%|███████████████████████████████████████████████████████████████████| 391/391 [01:10<00:00,  5.57it/s]\n"
          ]
        },
        {
          "output_type": "stream",
          "name": "stdout",
          "text": [
            "Epoch 6/300, Loss: 0.23734286025433285\n"
          ]
        },
        {
          "output_type": "stream",
          "name": "stderr",
          "text": [
            "Epoch 7/300: 100%|███████████████████████████████████████████████████████████████████| 391/391 [01:10<00:00,  5.57it/s]\n"
          ]
        },
        {
          "output_type": "stream",
          "name": "stdout",
          "text": [
            "Epoch 7/300, Loss: 0.1347357282305465\n"
          ]
        },
        {
          "output_type": "stream",
          "name": "stderr",
          "text": [
            "Epoch 8/300: 100%|███████████████████████████████████████████████████████████████████| 391/391 [01:09<00:00,  5.61it/s]\n"
          ]
        },
        {
          "output_type": "stream",
          "name": "stdout",
          "text": [
            "Epoch 8/300, Loss: 0.08115029931687714\n"
          ]
        },
        {
          "output_type": "stream",
          "name": "stderr",
          "text": [
            "Epoch 9/300: 100%|███████████████████████████████████████████████████████████████████| 391/391 [01:09<00:00,  5.66it/s]\n"
          ]
        },
        {
          "output_type": "stream",
          "name": "stdout",
          "text": [
            "Epoch 9/300, Loss: 0.05902108284251769\n"
          ]
        },
        {
          "output_type": "stream",
          "name": "stderr",
          "text": [
            "Epoch 10/300: 100%|██████████████████████████████████████████████████████████████████| 391/391 [01:09<00:00,  5.66it/s]\n"
          ]
        },
        {
          "output_type": "stream",
          "name": "stdout",
          "text": [
            "Epoch 10/300, Loss: 0.04904365754874466\n"
          ]
        },
        {
          "output_type": "stream",
          "name": "stderr",
          "text": [
            "Epoch 11/300: 100%|██████████████████████████████████████████████████████████████████| 391/391 [01:09<00:00,  5.66it/s]\n"
          ]
        },
        {
          "output_type": "stream",
          "name": "stdout",
          "text": [
            "Epoch 11/300, Loss: 0.046006701153028955\n"
          ]
        },
        {
          "output_type": "stream",
          "name": "stderr",
          "text": [
            "Epoch 12/300: 100%|██████████████████████████████████████████████████████████████████| 391/391 [01:09<00:00,  5.66it/s]\n"
          ]
        },
        {
          "output_type": "stream",
          "name": "stdout",
          "text": [
            "Epoch 12/300, Loss: 0.04688202521985259\n"
          ]
        },
        {
          "output_type": "stream",
          "name": "stderr",
          "text": [
            "Epoch 13/300: 100%|██████████████████████████████████████████████████████████████████| 391/391 [01:09<00:00,  5.65it/s]\n"
          ]
        },
        {
          "output_type": "stream",
          "name": "stdout",
          "text": [
            "Epoch 13/300, Loss: 0.04486677754918099\n"
          ]
        },
        {
          "output_type": "stream",
          "name": "stderr",
          "text": [
            "Epoch 14/300: 100%|██████████████████████████████████████████████████████████████████| 391/391 [01:09<00:00,  5.66it/s]\n"
          ]
        },
        {
          "output_type": "stream",
          "name": "stdout",
          "text": [
            "Epoch 14/300, Loss: 0.042362230937080005\n"
          ]
        },
        {
          "output_type": "stream",
          "name": "stderr",
          "text": [
            "Epoch 15/300: 100%|██████████████████████████████████████████████████████████████████| 391/391 [01:09<00:00,  5.66it/s]\n"
          ]
        },
        {
          "output_type": "stream",
          "name": "stdout",
          "text": [
            "Epoch 15/300, Loss: 0.02909555058221302\n"
          ]
        },
        {
          "output_type": "stream",
          "name": "stderr",
          "text": [
            "Epoch 16/300: 100%|██████████████████████████████████████████████████████████████████| 391/391 [01:09<00:00,  5.65it/s]\n"
          ]
        },
        {
          "output_type": "stream",
          "name": "stdout",
          "text": [
            "Epoch 16/300, Loss: 0.030960483001926175\n"
          ]
        },
        {
          "output_type": "stream",
          "name": "stderr",
          "text": [
            "Epoch 17/300: 100%|██████████████████████████████████████████████████████████████████| 391/391 [01:09<00:00,  5.66it/s]\n"
          ]
        },
        {
          "output_type": "stream",
          "name": "stdout",
          "text": [
            "Epoch 17/300, Loss: 0.03562071810558658\n"
          ]
        },
        {
          "output_type": "stream",
          "name": "stderr",
          "text": [
            "Epoch 18/300: 100%|██████████████████████████████████████████████████████████████████| 391/391 [01:09<00:00,  5.66it/s]\n"
          ]
        },
        {
          "output_type": "stream",
          "name": "stdout",
          "text": [
            "Epoch 18/300, Loss: 0.03415390170093559\n"
          ]
        },
        {
          "output_type": "stream",
          "name": "stderr",
          "text": [
            "Epoch 19/300: 100%|██████████████████████████████████████████████████████████████████| 391/391 [01:09<00:00,  5.65it/s]\n"
          ]
        },
        {
          "output_type": "stream",
          "name": "stdout",
          "text": [
            "Epoch 19/300, Loss: 0.029887651080799188\n"
          ]
        },
        {
          "output_type": "stream",
          "name": "stderr",
          "text": [
            "Epoch 20/300: 100%|██████████████████████████████████████████████████████████████████| 391/391 [01:08<00:00,  5.67it/s]\n"
          ]
        },
        {
          "output_type": "stream",
          "name": "stdout",
          "text": [
            "Epoch 20/300, Loss: 0.018155007134846714\n"
          ]
        },
        {
          "output_type": "stream",
          "name": "stderr",
          "text": [
            "Epoch 21/300: 100%|██████████████████████████████████████████████████████████████████| 391/391 [01:09<00:00,  5.64it/s]\n"
          ]
        },
        {
          "output_type": "stream",
          "name": "stdout",
          "text": [
            "Epoch 21/300, Loss: 0.0360329371005835\n"
          ]
        },
        {
          "output_type": "stream",
          "name": "stderr",
          "text": [
            "Epoch 22/300: 100%|██████████████████████████████████████████████████████████████████| 391/391 [01:08<00:00,  5.67it/s]\n"
          ]
        },
        {
          "output_type": "stream",
          "name": "stdout",
          "text": [
            "Epoch 22/300, Loss: 0.03085806319708019\n"
          ]
        },
        {
          "output_type": "stream",
          "name": "stderr",
          "text": [
            "Epoch 23/300: 100%|██████████████████████████████████████████████████████████████████| 391/391 [01:09<00:00,  5.64it/s]\n"
          ]
        },
        {
          "output_type": "stream",
          "name": "stdout",
          "text": [
            "Epoch 23/300, Loss: 0.024254663299736114\n"
          ]
        },
        {
          "output_type": "stream",
          "name": "stderr",
          "text": [
            "Epoch 24/300: 100%|██████████████████████████████████████████████████████████████████| 391/391 [01:10<00:00,  5.58it/s]\n"
          ]
        },
        {
          "output_type": "stream",
          "name": "stdout",
          "text": [
            "Epoch 24/300, Loss: 0.02589918207526064\n"
          ]
        },
        {
          "output_type": "stream",
          "name": "stderr",
          "text": [
            "Epoch 25/300: 100%|██████████████████████████████████████████████████████████████████| 391/391 [01:09<00:00,  5.59it/s]\n"
          ]
        },
        {
          "output_type": "stream",
          "name": "stdout",
          "text": [
            "Epoch 25/300, Loss: 0.02897393931155367\n"
          ]
        },
        {
          "output_type": "stream",
          "name": "stderr",
          "text": [
            "Epoch 26/300: 100%|██████████████████████████████████████████████████████████████████| 391/391 [01:10<00:00,  5.58it/s]\n"
          ]
        },
        {
          "output_type": "stream",
          "name": "stdout",
          "text": [
            "Epoch 26/300, Loss: 0.02616239002104277\n"
          ]
        },
        {
          "output_type": "stream",
          "name": "stderr",
          "text": [
            "Epoch 27/300: 100%|██████████████████████████████████████████████████████████████████| 391/391 [01:09<00:00,  5.59it/s]\n"
          ]
        },
        {
          "output_type": "stream",
          "name": "stdout",
          "text": [
            "Epoch 27/300, Loss: 0.02376808617588566\n"
          ]
        },
        {
          "output_type": "stream",
          "name": "stderr",
          "text": [
            "Epoch 28/300: 100%|██████████████████████████████████████████████████████████████████| 391/391 [01:09<00:00,  5.60it/s]\n"
          ]
        },
        {
          "output_type": "stream",
          "name": "stdout",
          "text": [
            "Epoch 28/300, Loss: 0.02247672972900262\n"
          ]
        },
        {
          "output_type": "stream",
          "name": "stderr",
          "text": [
            "Epoch 29/300: 100%|██████████████████████████████████████████████████████████████████| 391/391 [01:10<00:00,  5.59it/s]\n"
          ]
        },
        {
          "output_type": "stream",
          "name": "stdout",
          "text": [
            "Epoch 29/300, Loss: 0.017756465625951585\n"
          ]
        },
        {
          "output_type": "stream",
          "name": "stderr",
          "text": [
            "Epoch 30/300: 100%|██████████████████████████████████████████████████████████████████| 391/391 [01:09<00:00,  5.60it/s]\n"
          ]
        },
        {
          "output_type": "stream",
          "name": "stdout",
          "text": [
            "Epoch 30/300, Loss: 0.021315205428699302\n"
          ]
        },
        {
          "output_type": "stream",
          "name": "stderr",
          "text": [
            "Epoch 31/300: 100%|██████████████████████████████████████████████████████████████████| 391/391 [01:09<00:00,  5.59it/s]\n"
          ]
        },
        {
          "output_type": "stream",
          "name": "stdout",
          "text": [
            "Epoch 31/300, Loss: 0.02160813623418212\n"
          ]
        },
        {
          "output_type": "stream",
          "name": "stderr",
          "text": [
            "Epoch 32/300: 100%|██████████████████████████████████████████████████████████████████| 391/391 [01:09<00:00,  5.60it/s]\n"
          ]
        },
        {
          "output_type": "stream",
          "name": "stdout",
          "text": [
            "Epoch 32/300, Loss: 0.020938731334142417\n"
          ]
        },
        {
          "output_type": "stream",
          "name": "stderr",
          "text": [
            "Epoch 33/300: 100%|██████████████████████████████████████████████████████████████████| 391/391 [01:09<00:00,  5.59it/s]\n"
          ]
        },
        {
          "output_type": "stream",
          "name": "stdout",
          "text": [
            "Epoch 33/300, Loss: 0.024965568772352495\n"
          ]
        },
        {
          "output_type": "stream",
          "name": "stderr",
          "text": [
            "Epoch 34/300: 100%|██████████████████████████████████████████████████████████████████| 391/391 [01:09<00:00,  5.59it/s]\n"
          ]
        },
        {
          "output_type": "stream",
          "name": "stdout",
          "text": [
            "Epoch 34/300, Loss: 0.022151833751385963\n"
          ]
        },
        {
          "output_type": "stream",
          "name": "stderr",
          "text": [
            "Epoch 35/300: 100%|██████████████████████████████████████████████████████████████████| 391/391 [01:09<00:00,  5.60it/s]\n"
          ]
        },
        {
          "output_type": "stream",
          "name": "stdout",
          "text": [
            "Epoch 35/300, Loss: 0.019867209376163764\n"
          ]
        },
        {
          "output_type": "stream",
          "name": "stderr",
          "text": [
            "Epoch 36/300: 100%|██████████████████████████████████████████████████████████████████| 391/391 [01:09<00:00,  5.60it/s]\n"
          ]
        },
        {
          "output_type": "stream",
          "name": "stdout",
          "text": [
            "Epoch 36/300, Loss: 0.025462709378291523\n"
          ]
        },
        {
          "output_type": "stream",
          "name": "stderr",
          "text": [
            "Epoch 37/300: 100%|██████████████████████████████████████████████████████████████████| 391/391 [01:09<00:00,  5.59it/s]\n"
          ]
        },
        {
          "output_type": "stream",
          "name": "stdout",
          "text": [
            "Epoch 37/300, Loss: 0.024728211697668572\n"
          ]
        },
        {
          "output_type": "stream",
          "name": "stderr",
          "text": [
            "Epoch 38/300: 100%|██████████████████████████████████████████████████████████████████| 391/391 [01:09<00:00,  5.60it/s]\n"
          ]
        },
        {
          "output_type": "stream",
          "name": "stdout",
          "text": [
            "Epoch 38/300, Loss: 0.012916897738925116\n"
          ]
        },
        {
          "output_type": "stream",
          "name": "stderr",
          "text": [
            "Epoch 39/300: 100%|██████████████████████████████████████████████████████████████████| 391/391 [01:09<00:00,  5.59it/s]\n"
          ]
        },
        {
          "output_type": "stream",
          "name": "stdout",
          "text": [
            "Epoch 39/300, Loss: 0.011127550988710056\n"
          ]
        },
        {
          "output_type": "stream",
          "name": "stderr",
          "text": [
            "Epoch 40/300: 100%|██████████████████████████████████████████████████████████████████| 391/391 [01:09<00:00,  5.60it/s]\n"
          ]
        },
        {
          "output_type": "stream",
          "name": "stdout",
          "text": [
            "Epoch 40/300, Loss: 0.023910329314520407\n"
          ]
        },
        {
          "output_type": "stream",
          "name": "stderr",
          "text": [
            "Epoch 41/300: 100%|██████████████████████████████████████████████████████████████████| 391/391 [01:09<00:00,  5.59it/s]\n"
          ]
        },
        {
          "output_type": "stream",
          "name": "stdout",
          "text": [
            "Epoch 41/300, Loss: 0.020542775841990022\n"
          ]
        },
        {
          "output_type": "stream",
          "name": "stderr",
          "text": [
            "Epoch 42/300: 100%|██████████████████████████████████████████████████████████████████| 391/391 [01:10<00:00,  5.55it/s]\n"
          ]
        },
        {
          "output_type": "stream",
          "name": "stdout",
          "text": [
            "Epoch 42/300, Loss: 0.021396143444873856\n"
          ]
        },
        {
          "output_type": "stream",
          "name": "stderr",
          "text": [
            "Epoch 43/300: 100%|██████████████████████████████████████████████████████████████████| 391/391 [01:10<00:00,  5.58it/s]\n"
          ]
        },
        {
          "output_type": "stream",
          "name": "stdout",
          "text": [
            "Epoch 43/300, Loss: 0.01219129616971803\n"
          ]
        },
        {
          "output_type": "stream",
          "name": "stderr",
          "text": [
            "Epoch 44/300: 100%|██████████████████████████████████████████████████████████████████| 391/391 [01:10<00:00,  5.55it/s]\n"
          ]
        },
        {
          "output_type": "stream",
          "name": "stdout",
          "text": [
            "Epoch 44/300, Loss: 0.008807180277646527\n"
          ]
        },
        {
          "output_type": "stream",
          "name": "stderr",
          "text": [
            "Epoch 45/300: 100%|██████████████████████████████████████████████████████████████████| 391/391 [01:10<00:00,  5.53it/s]\n"
          ]
        },
        {
          "output_type": "stream",
          "name": "stdout",
          "text": [
            "Epoch 45/300, Loss: 0.016156139758339617\n"
          ]
        },
        {
          "output_type": "stream",
          "name": "stderr",
          "text": [
            "Epoch 46/300: 100%|██████████████████████████████████████████████████████████████████| 391/391 [01:09<00:00,  5.60it/s]\n"
          ]
        },
        {
          "output_type": "stream",
          "name": "stdout",
          "text": [
            "Epoch 46/300, Loss: 0.027851669366307417\n"
          ]
        },
        {
          "output_type": "stream",
          "name": "stderr",
          "text": [
            "Epoch 47/300: 100%|██████████████████████████████████████████████████████████████████| 391/391 [01:10<00:00,  5.58it/s]\n"
          ]
        },
        {
          "output_type": "stream",
          "name": "stdout",
          "text": [
            "Epoch 47/300, Loss: 0.018350990299131575\n"
          ]
        },
        {
          "output_type": "stream",
          "name": "stderr",
          "text": [
            "Epoch 48/300: 100%|██████████████████████████████████████████████████████████████████| 391/391 [01:09<00:00,  5.59it/s]\n"
          ]
        },
        {
          "output_type": "stream",
          "name": "stdout",
          "text": [
            "Epoch 48/300, Loss: 0.012778457902996983\n"
          ]
        },
        {
          "output_type": "stream",
          "name": "stderr",
          "text": [
            "Epoch 49/300: 100%|██████████████████████████████████████████████████████████████████| 391/391 [01:09<00:00,  5.59it/s]\n"
          ]
        },
        {
          "output_type": "stream",
          "name": "stdout",
          "text": [
            "Epoch 49/300, Loss: 0.019639252659163105\n"
          ]
        },
        {
          "output_type": "stream",
          "name": "stderr",
          "text": [
            "Epoch 50/300: 100%|██████████████████████████████████████████████████████████████████| 391/391 [01:09<00:00,  5.60it/s]\n"
          ]
        },
        {
          "output_type": "stream",
          "name": "stdout",
          "text": [
            "Epoch 50/300, Loss: 0.019846415013575668\n"
          ]
        },
        {
          "output_type": "stream",
          "name": "stderr",
          "text": [
            "Epoch 51/300: 100%|██████████████████████████████████████████████████████████████████| 391/391 [01:09<00:00,  5.60it/s]\n"
          ]
        },
        {
          "output_type": "stream",
          "name": "stdout",
          "text": [
            "Epoch 51/300, Loss: 0.017929418075229357\n"
          ]
        },
        {
          "output_type": "stream",
          "name": "stderr",
          "text": [
            "Epoch 52/300: 100%|██████████████████████████████████████████████████████████████████| 391/391 [01:09<00:00,  5.59it/s]\n"
          ]
        },
        {
          "output_type": "stream",
          "name": "stdout",
          "text": [
            "Epoch 52/300, Loss: 0.020987834235078797\n"
          ]
        },
        {
          "output_type": "stream",
          "name": "stderr",
          "text": [
            "Epoch 53/300: 100%|██████████████████████████████████████████████████████████████████| 391/391 [01:09<00:00,  5.60it/s]\n"
          ]
        },
        {
          "output_type": "stream",
          "name": "stdout",
          "text": [
            "Epoch 53/300, Loss: 0.009314559185459493\n"
          ]
        },
        {
          "output_type": "stream",
          "name": "stderr",
          "text": [
            "Epoch 54/300: 100%|██████████████████████████████████████████████████████████████████| 391/391 [01:09<00:00,  5.59it/s]\n"
          ]
        },
        {
          "output_type": "stream",
          "name": "stdout",
          "text": [
            "Epoch 54/300, Loss: 0.012705407227314372\n"
          ]
        },
        {
          "output_type": "stream",
          "name": "stderr",
          "text": [
            "Epoch 55/300: 100%|██████████████████████████████████████████████████████████████████| 391/391 [01:09<00:00,  5.60it/s]\n"
          ]
        },
        {
          "output_type": "stream",
          "name": "stdout",
          "text": [
            "Epoch 55/300, Loss: 0.016935522646203204\n"
          ]
        },
        {
          "output_type": "stream",
          "name": "stderr",
          "text": [
            "Epoch 56/300: 100%|██████████████████████████████████████████████████████████████████| 391/391 [01:09<00:00,  5.61it/s]\n"
          ]
        },
        {
          "output_type": "stream",
          "name": "stdout",
          "text": [
            "Epoch 56/300, Loss: 0.02004537991731113\n"
          ]
        },
        {
          "output_type": "stream",
          "name": "stderr",
          "text": [
            "Epoch 57/300: 100%|██████████████████████████████████████████████████████████████████| 391/391 [01:09<00:00,  5.61it/s]\n"
          ]
        },
        {
          "output_type": "stream",
          "name": "stdout",
          "text": [
            "Epoch 57/300, Loss: 0.018509889770804568\n"
          ]
        },
        {
          "output_type": "stream",
          "name": "stderr",
          "text": [
            "Epoch 58/300: 100%|██████████████████████████████████████████████████████████████████| 391/391 [01:09<00:00,  5.60it/s]\n"
          ]
        },
        {
          "output_type": "stream",
          "name": "stdout",
          "text": [
            "Epoch 58/300, Loss: 0.02050471473983197\n"
          ]
        },
        {
          "output_type": "stream",
          "name": "stderr",
          "text": [
            "Epoch 59/300: 100%|██████████████████████████████████████████████████████████████████| 391/391 [01:09<00:00,  5.61it/s]\n"
          ]
        },
        {
          "output_type": "stream",
          "name": "stdout",
          "text": [
            "Epoch 59/300, Loss: 0.01711305128414506\n"
          ]
        },
        {
          "output_type": "stream",
          "name": "stderr",
          "text": [
            "Epoch 60/300: 100%|██████████████████████████████████████████████████████████████████| 391/391 [01:09<00:00,  5.60it/s]\n"
          ]
        },
        {
          "output_type": "stream",
          "name": "stdout",
          "text": [
            "Epoch 60/300, Loss: 0.013703605940184474\n"
          ]
        },
        {
          "output_type": "stream",
          "name": "stderr",
          "text": [
            "Epoch 61/300: 100%|██████████████████████████████████████████████████████████████████| 391/391 [01:09<00:00,  5.60it/s]\n"
          ]
        },
        {
          "output_type": "stream",
          "name": "stdout",
          "text": [
            "Epoch 61/300, Loss: 0.012407097087949097\n"
          ]
        },
        {
          "output_type": "stream",
          "name": "stderr",
          "text": [
            "Epoch 62/300: 100%|██████████████████████████████████████████████████████████████████| 391/391 [01:09<00:00,  5.59it/s]\n"
          ]
        },
        {
          "output_type": "stream",
          "name": "stdout",
          "text": [
            "Epoch 62/300, Loss: 0.012118518255661898\n"
          ]
        },
        {
          "output_type": "stream",
          "name": "stderr",
          "text": [
            "Epoch 63/300: 100%|██████████████████████████████████████████████████████████████████| 391/391 [01:09<00:00,  5.61it/s]\n"
          ]
        },
        {
          "output_type": "stream",
          "name": "stdout",
          "text": [
            "Epoch 63/300, Loss: 0.01581360925108601\n"
          ]
        },
        {
          "output_type": "stream",
          "name": "stderr",
          "text": [
            "Epoch 64/300: 100%|██████████████████████████████████████████████████████████████████| 391/391 [01:09<00:00,  5.60it/s]\n"
          ]
        },
        {
          "output_type": "stream",
          "name": "stdout",
          "text": [
            "Epoch 64/300, Loss: 0.01542678843657842\n"
          ]
        },
        {
          "output_type": "stream",
          "name": "stderr",
          "text": [
            "Epoch 65/300: 100%|██████████████████████████████████████████████████████████████████| 391/391 [01:10<00:00,  5.57it/s]\n"
          ]
        },
        {
          "output_type": "stream",
          "name": "stdout",
          "text": [
            "Epoch 65/300, Loss: 0.014029895151609375\n"
          ]
        },
        {
          "output_type": "stream",
          "name": "stderr",
          "text": [
            "Epoch 66/300: 100%|██████████████████████████████████████████████████████████████████| 391/391 [01:09<00:00,  5.61it/s]\n"
          ]
        },
        {
          "output_type": "stream",
          "name": "stdout",
          "text": [
            "Epoch 66/300, Loss: 0.016013858945003366\n"
          ]
        },
        {
          "output_type": "stream",
          "name": "stderr",
          "text": [
            "Epoch 67/300: 100%|██████████████████████████████████████████████████████████████████| 391/391 [01:09<00:00,  5.59it/s]\n"
          ]
        },
        {
          "output_type": "stream",
          "name": "stdout",
          "text": [
            "Epoch 67/300, Loss: 0.011538748245654212\n"
          ]
        },
        {
          "output_type": "stream",
          "name": "stderr",
          "text": [
            "Epoch 68/300: 100%|██████████████████████████████████████████████████████████████████| 391/391 [01:09<00:00,  5.60it/s]\n"
          ]
        },
        {
          "output_type": "stream",
          "name": "stdout",
          "text": [
            "Epoch 68/300, Loss: 0.020044932324373543\n"
          ]
        },
        {
          "output_type": "stream",
          "name": "stderr",
          "text": [
            "Epoch 69/300: 100%|██████████████████████████████████████████████████████████████████| 391/391 [01:09<00:00,  5.60it/s]\n"
          ]
        },
        {
          "output_type": "stream",
          "name": "stdout",
          "text": [
            "Epoch 69/300, Loss: 0.013258175225034051\n"
          ]
        },
        {
          "output_type": "stream",
          "name": "stderr",
          "text": [
            "Epoch 70/300: 100%|██████████████████████████████████████████████████████████████████| 391/391 [01:09<00:00,  5.59it/s]\n"
          ]
        },
        {
          "output_type": "stream",
          "name": "stdout",
          "text": [
            "Epoch 70/300, Loss: 0.00977004186523611\n"
          ]
        },
        {
          "output_type": "stream",
          "name": "stderr",
          "text": [
            "Epoch 71/300: 100%|██████████████████████████████████████████████████████████████████| 391/391 [01:09<00:00,  5.61it/s]\n"
          ]
        },
        {
          "output_type": "stream",
          "name": "stdout",
          "text": [
            "Epoch 71/300, Loss: 0.010347897000680145\n"
          ]
        },
        {
          "output_type": "stream",
          "name": "stderr",
          "text": [
            "Epoch 72/300: 100%|██████████████████████████████████████████████████████████████████| 391/391 [01:09<00:00,  5.60it/s]\n"
          ]
        },
        {
          "output_type": "stream",
          "name": "stdout",
          "text": [
            "Epoch 72/300, Loss: 0.00959186479340156\n"
          ]
        },
        {
          "output_type": "stream",
          "name": "stderr",
          "text": [
            "Epoch 73/300: 100%|██████████████████████████████████████████████████████████████████| 391/391 [01:09<00:00,  5.60it/s]\n"
          ]
        },
        {
          "output_type": "stream",
          "name": "stdout",
          "text": [
            "Epoch 73/300, Loss: 0.020924863087977703\n"
          ]
        },
        {
          "output_type": "stream",
          "name": "stderr",
          "text": [
            "Epoch 74/300: 100%|██████████████████████████████████████████████████████████████████| 391/391 [01:09<00:00,  5.60it/s]\n"
          ]
        },
        {
          "output_type": "stream",
          "name": "stdout",
          "text": [
            "Epoch 74/300, Loss: 0.017187425040128452\n"
          ]
        },
        {
          "output_type": "stream",
          "name": "stderr",
          "text": [
            "Epoch 75/300: 100%|██████████████████████████████████████████████████████████████████| 391/391 [01:09<00:00,  5.60it/s]\n"
          ]
        },
        {
          "output_type": "stream",
          "name": "stdout",
          "text": [
            "Epoch 75/300, Loss: 0.014613143492008249\n"
          ]
        },
        {
          "output_type": "stream",
          "name": "stderr",
          "text": [
            "Epoch 76/300: 100%|██████████████████████████████████████████████████████████████████| 391/391 [01:09<00:00,  5.61it/s]\n"
          ]
        },
        {
          "output_type": "stream",
          "name": "stdout",
          "text": [
            "Epoch 76/300, Loss: 0.014653316409208283\n"
          ]
        },
        {
          "output_type": "stream",
          "name": "stderr",
          "text": [
            "Epoch 77/300: 100%|██████████████████████████████████████████████████████████████████| 391/391 [01:09<00:00,  5.60it/s]\n"
          ]
        },
        {
          "output_type": "stream",
          "name": "stdout",
          "text": [
            "Epoch 77/300, Loss: 0.015434212266133245\n"
          ]
        },
        {
          "output_type": "stream",
          "name": "stderr",
          "text": [
            "Epoch 78/300: 100%|██████████████████████████████████████████████████████████████████| 391/391 [01:09<00:00,  5.59it/s]\n"
          ]
        },
        {
          "output_type": "stream",
          "name": "stdout",
          "text": [
            "Epoch 78/300, Loss: 0.01409286381138028\n"
          ]
        },
        {
          "output_type": "stream",
          "name": "stderr",
          "text": [
            "Epoch 79/300: 100%|██████████████████████████████████████████████████████████████████| 391/391 [01:09<00:00,  5.61it/s]\n"
          ]
        },
        {
          "output_type": "stream",
          "name": "stdout",
          "text": [
            "Epoch 79/300, Loss: 0.013231350424730478\n"
          ]
        },
        {
          "output_type": "stream",
          "name": "stderr",
          "text": [
            "Epoch 80/300: 100%|██████████████████████████████████████████████████████████████████| 391/391 [01:09<00:00,  5.59it/s]\n"
          ]
        },
        {
          "output_type": "stream",
          "name": "stdout",
          "text": [
            "Epoch 80/300, Loss: 0.01394894282459733\n"
          ]
        },
        {
          "output_type": "stream",
          "name": "stderr",
          "text": [
            "Epoch 81/300: 100%|██████████████████████████████████████████████████████████████████| 391/391 [01:09<00:00,  5.63it/s]\n"
          ]
        },
        {
          "output_type": "stream",
          "name": "stdout",
          "text": [
            "Epoch 81/300, Loss: 0.010818210266671437\n"
          ]
        },
        {
          "output_type": "stream",
          "name": "stderr",
          "text": [
            "Epoch 82/300: 100%|██████████████████████████████████████████████████████████████████| 391/391 [01:07<00:00,  5.80it/s]\n"
          ]
        },
        {
          "output_type": "stream",
          "name": "stdout",
          "text": [
            "Epoch 82/300, Loss: 0.01791783927850367\n"
          ]
        },
        {
          "output_type": "stream",
          "name": "stderr",
          "text": [
            "Epoch 83/300: 100%|██████████████████████████████████████████████████████████████████| 391/391 [01:07<00:00,  5.78it/s]\n"
          ]
        },
        {
          "output_type": "stream",
          "name": "stdout",
          "text": [
            "Epoch 83/300, Loss: 0.01675554629428751\n"
          ]
        },
        {
          "output_type": "stream",
          "name": "stderr",
          "text": [
            "Epoch 84/300: 100%|██████████████████████████████████████████████████████████████████| 391/391 [01:07<00:00,  5.81it/s]\n"
          ]
        },
        {
          "output_type": "stream",
          "name": "stdout",
          "text": [
            "Epoch 84/300, Loss: 0.0135725231810332\n"
          ]
        },
        {
          "output_type": "stream",
          "name": "stderr",
          "text": [
            "Epoch 85/300: 100%|██████████████████████████████████████████████████████████████████| 391/391 [01:07<00:00,  5.81it/s]\n"
          ]
        },
        {
          "output_type": "stream",
          "name": "stdout",
          "text": [
            "Epoch 85/300, Loss: 0.007370407021553061\n"
          ]
        },
        {
          "output_type": "stream",
          "name": "stderr",
          "text": [
            "Epoch 86/300: 100%|██████████████████████████████████████████████████████████████████| 391/391 [01:07<00:00,  5.78it/s]\n"
          ]
        },
        {
          "output_type": "stream",
          "name": "stdout",
          "text": [
            "Epoch 86/300, Loss: 0.014098988076300214\n"
          ]
        },
        {
          "output_type": "stream",
          "name": "stderr",
          "text": [
            "Epoch 87/300: 100%|██████████████████████████████████████████████████████████████████| 391/391 [01:07<00:00,  5.79it/s]\n"
          ]
        },
        {
          "output_type": "stream",
          "name": "stdout",
          "text": [
            "Epoch 87/300, Loss: 0.01424666731067833\n"
          ]
        },
        {
          "output_type": "stream",
          "name": "stderr",
          "text": [
            "Epoch 88/300: 100%|██████████████████████████████████████████████████████████████████| 391/391 [01:07<00:00,  5.76it/s]\n"
          ]
        },
        {
          "output_type": "stream",
          "name": "stdout",
          "text": [
            "Epoch 88/300, Loss: 0.013366030143919537\n"
          ]
        },
        {
          "output_type": "stream",
          "name": "stderr",
          "text": [
            "Epoch 89/300:  96%|███████████████████████████████████████████████████████████████▏  | 374/391 [01:05<00:01,  9.09it/s]"
          ]
        }
      ]
    },
    {
      "cell_type": "code",
      "source": [
        "class ExtendedCNN(nn.Module):\n",
        "    def __init__(self):\n",
        "        super(ExtendedCNN, self).__init__()\n",
        "        self.conv1 = nn.Conv2d(3, 64, kernel_size=3, stride=1, padding=1)\n",
        "        self.relu1 = nn.ReLU()\n",
        "        self.conv2 = nn.Conv2d(64, 128, kernel_size=3, stride=1, padding=1)\n",
        "        self.relu2 = nn.ReLU()\n",
        "        self.pool1 = nn.MaxPool2d(kernel_size=2, stride=2, padding=0)\n",
        "        self.conv3 = nn.Conv2d(128, 256, kernel_size=3, stride=1, padding=1)\n",
        "        self.relu3 = nn.ReLU()\n",
        "        self.pool2 = nn.MaxPool2d(kernel_size=2, stride=2, padding=0)\n",
        "        self.fc1 = nn.Linear(256 * 4 * 4, 512)\n",
        "        self.relu4 = nn.ReLU()\n",
        "        self.fc2 = nn.Linear(512, 10)\n",
        "\n",
        "    def forward(self, x):\n",
        "        x = self.conv1(x)\n",
        "        x = self.relu1(x)\n",
        "        x = self.pool1(x)\n",
        "        x = self.conv2(x)\n",
        "        x = self.relu2(x)\n",
        "        x = self.pool1(x)\n",
        "        x = self.conv3(x)\n",
        "        x = self.relu3(x)\n",
        "        x = self.pool2(x)\n",
        "        x = x.view(-1, 256 * 4 * 4)\n",
        "        x = self.fc1(x)\n",
        "        x = self.relu4(x)\n",
        "        x = self.fc2(x)\n",
        "        return x\n",
        "\n",
        "# Initialize the extended model, loss function, and optimizer\n",
        "extended_model = ExtendedCNN()\n",
        "criterion = nn.CrossEntropyLoss()\n",
        "optimizer = optim.Adam(extended_model.parameters(), lr=0.001)\n",
        "\n",
        "# Training loop with tqdm\n",
        "num_epochs = 300\n",
        "start_time = time.time()\n",
        "\n",
        "for epoch in range(num_epochs):\n",
        "    extended_model.train()\n",
        "    running_loss = 0.0\n",
        "\n",
        "    # Use tqdm for the progress bar\n",
        "    with tqdm(total=len(train_loader), desc=f'Epoch {epoch + 1}/{num_epochs}', unit='batch') as pbar:\n",
        "        for inputs, labels in train_loader:\n",
        "            optimizer.zero_grad()\n",
        "            outputs = extended_model(inputs)\n",
        "            loss = criterion(outputs, labels)\n",
        "            loss.backward()\n",
        "            optimizer.step()\n",
        "            running_loss += loss.item()\n",
        "\n",
        "            # Update the progress bar\n",
        "            pbar.set_postfix({'Loss': running_loss / (pbar.n + 1)})\n",
        "            pbar.update(1)\n",
        "\n",
        "        pbar.close()\n",
        "\n",
        "    # Print average training loss for each epoch\n",
        "    print(f'Epoch {epoch + 1}/{num_epochs}, Loss: {running_loss/len(train_loader)}')\n",
        "\n",
        "# Calculate training time\n",
        "end_time = time.time()\n",
        "training_time = end_time - start_time\n",
        "print(f'Training Time: {training_time} seconds')\n",
        "\n",
        "# Evaluate the model on the test set\n",
        "extended_model.eval()\n",
        "correct = 0\n",
        "total = 0\n",
        "\n",
        "with torch.no_grad():\n",
        "    for inputs, labels in test_loader:\n",
        "        outputs = extended_model(inputs)\n",
        "        _, predicted = torch.max(outputs.data, 1)\n",
        "        total += labels.size(0)\n",
        "        correct += (predicted == labels).sum().item()\n",
        "\n",
        "# Print evaluation accuracy\n",
        "accuracy = correct / total\n",
        "print(f'Accuracy after {num_epochs} epochs: {accuracy}')\n"
      ],
      "metadata": {
        "colab": {
          "base_uri": "https://localhost:8080/"
        },
        "id": "ryS9hWwNVJgn",
        "outputId": "bca38f14-ed7b-4836-db15-b81d5a3a3280"
      },
      "execution_count": null,
      "outputs": [
        {
          "output_type": "stream",
          "name": "stderr",
          "text": [
            "Epoch 1/300: 100%|█████████████████████████████████████████████████████| 391/391 [01:16<00:00,  5.14batch/s, Loss=1.33]\n"
          ]
        },
        {
          "output_type": "stream",
          "name": "stdout",
          "text": [
            "Epoch 1/300, Loss: 1.333503906531712\n"
          ]
        },
        {
          "output_type": "stream",
          "name": "stderr",
          "text": [
            "Epoch 2/300: 100%|████████████████████████████████████████████████████| 391/391 [01:14<00:00,  5.24batch/s, Loss=0.868]\n"
          ]
        },
        {
          "output_type": "stream",
          "name": "stdout",
          "text": [
            "Epoch 2/300, Loss: 0.8679522599100762\n"
          ]
        },
        {
          "output_type": "stream",
          "name": "stderr",
          "text": [
            "Epoch 3/300: 100%|█████████████████████████████████████████████████████| 391/391 [01:13<00:00,  5.31batch/s, Loss=0.65]\n"
          ]
        },
        {
          "output_type": "stream",
          "name": "stdout",
          "text": [
            "Epoch 3/300, Loss: 0.6499005335066325\n"
          ]
        },
        {
          "output_type": "stream",
          "name": "stderr",
          "text": [
            "Epoch 4/300: 100%|████████████████████████████████████████████████████| 391/391 [01:13<00:00,  5.30batch/s, Loss=0.509]\n"
          ]
        },
        {
          "output_type": "stream",
          "name": "stdout",
          "text": [
            "Epoch 4/300, Loss: 0.5085065657525416\n"
          ]
        },
        {
          "output_type": "stream",
          "name": "stderr",
          "text": [
            "Epoch 5/300: 100%|████████████████████████████████████████████████████| 391/391 [01:14<00:00,  5.26batch/s, Loss=0.368]\n"
          ]
        },
        {
          "output_type": "stream",
          "name": "stdout",
          "text": [
            "Epoch 5/300, Loss: 0.36752335818679743\n"
          ]
        },
        {
          "output_type": "stream",
          "name": "stderr",
          "text": [
            "Epoch 6/300: 100%|████████████████████████████████████████████████████| 391/391 [01:15<00:00,  5.16batch/s, Loss=0.249]\n"
          ]
        },
        {
          "output_type": "stream",
          "name": "stdout",
          "text": [
            "Epoch 6/300, Loss: 0.24945069575096335\n"
          ]
        },
        {
          "output_type": "stream",
          "name": "stderr",
          "text": [
            "Epoch 7/300: 100%|████████████████████████████████████████████████████| 391/391 [01:14<00:00,  5.26batch/s, Loss=0.155]\n"
          ]
        },
        {
          "output_type": "stream",
          "name": "stdout",
          "text": [
            "Epoch 7/300, Loss: 0.15544265391462295\n"
          ]
        },
        {
          "output_type": "stream",
          "name": "stderr",
          "text": [
            "Epoch 8/300: 100%|████████████████████████████████████████████████████| 391/391 [01:16<00:00,  5.09batch/s, Loss=0.107]\n"
          ]
        },
        {
          "output_type": "stream",
          "name": "stdout",
          "text": [
            "Epoch 8/300, Loss: 0.10713904266200407\n"
          ]
        },
        {
          "output_type": "stream",
          "name": "stderr",
          "text": [
            "Epoch 9/300: 100%|███████████████████████████████████████████████████| 391/391 [01:15<00:00,  5.15batch/s, Loss=0.0793]\n"
          ]
        },
        {
          "output_type": "stream",
          "name": "stdout",
          "text": [
            "Epoch 9/300, Loss: 0.07925932308959077\n"
          ]
        },
        {
          "output_type": "stream",
          "name": "stderr",
          "text": [
            "Epoch 10/300: 100%|██████████████████████████████████████████████████| 391/391 [01:14<00:00,  5.28batch/s, Loss=0.0769]\n"
          ]
        },
        {
          "output_type": "stream",
          "name": "stdout",
          "text": [
            "Epoch 10/300, Loss: 0.07693541664606356\n"
          ]
        },
        {
          "output_type": "stream",
          "name": "stderr",
          "text": [
            "Epoch 11/300: 100%|██████████████████████████████████████████████████| 391/391 [01:13<00:00,  5.28batch/s, Loss=0.0656]\n"
          ]
        },
        {
          "output_type": "stream",
          "name": "stdout",
          "text": [
            "Epoch 11/300, Loss: 0.0655851951535896\n"
          ]
        },
        {
          "output_type": "stream",
          "name": "stderr",
          "text": [
            "Epoch 12/300: 100%|██████████████████████████████████████████████████| 391/391 [01:13<00:00,  5.30batch/s, Loss=0.0637]\n"
          ]
        },
        {
          "output_type": "stream",
          "name": "stdout",
          "text": [
            "Epoch 12/300, Loss: 0.06373785623608877\n"
          ]
        },
        {
          "output_type": "stream",
          "name": "stderr",
          "text": [
            "Epoch 13/300: 100%|██████████████████████████████████████████████████| 391/391 [01:14<00:00,  5.28batch/s, Loss=0.0544]\n"
          ]
        },
        {
          "output_type": "stream",
          "name": "stdout",
          "text": [
            "Epoch 13/300, Loss: 0.054364633761927524\n"
          ]
        },
        {
          "output_type": "stream",
          "name": "stderr",
          "text": [
            "Epoch 14/300: 100%|██████████████████████████████████████████████████| 391/391 [01:13<00:00,  5.29batch/s, Loss=0.0557]\n"
          ]
        },
        {
          "output_type": "stream",
          "name": "stdout",
          "text": [
            "Epoch 14/300, Loss: 0.05574043344079858\n"
          ]
        },
        {
          "output_type": "stream",
          "name": "stderr",
          "text": [
            "Epoch 15/300: 100%|██████████████████████████████████████████████████| 391/391 [01:14<00:00,  5.28batch/s, Loss=0.0492]\n"
          ]
        },
        {
          "output_type": "stream",
          "name": "stdout",
          "text": [
            "Epoch 15/300, Loss: 0.049216645025431424\n"
          ]
        },
        {
          "output_type": "stream",
          "name": "stderr",
          "text": [
            "Epoch 16/300: 100%|███████████████████████████████████████████████████| 391/391 [01:14<00:00,  5.28batch/s, Loss=0.047]\n"
          ]
        },
        {
          "output_type": "stream",
          "name": "stdout",
          "text": [
            "Epoch 16/300, Loss: 0.04702310136500317\n"
          ]
        },
        {
          "output_type": "stream",
          "name": "stderr",
          "text": [
            "Epoch 17/300: 100%|██████████████████████████████████████████████████| 391/391 [01:13<00:00,  5.29batch/s, Loss=0.0447]\n"
          ]
        },
        {
          "output_type": "stream",
          "name": "stdout",
          "text": [
            "Epoch 17/300, Loss: 0.04469081232219439\n"
          ]
        },
        {
          "output_type": "stream",
          "name": "stderr",
          "text": [
            "Epoch 18/300: 100%|██████████████████████████████████████████████████| 391/391 [01:13<00:00,  5.29batch/s, Loss=0.0418]\n"
          ]
        },
        {
          "output_type": "stream",
          "name": "stdout",
          "text": [
            "Epoch 18/300, Loss: 0.041843565813887415\n"
          ]
        },
        {
          "output_type": "stream",
          "name": "stderr",
          "text": [
            "Epoch 19/300: 100%|██████████████████████████████████████████████████| 391/391 [01:13<00:00,  5.29batch/s, Loss=0.0438]\n"
          ]
        },
        {
          "output_type": "stream",
          "name": "stdout",
          "text": [
            "Epoch 19/300, Loss: 0.04375350681137141\n"
          ]
        },
        {
          "output_type": "stream",
          "name": "stderr",
          "text": [
            "Epoch 20/300: 100%|██████████████████████████████████████████████████| 391/391 [01:13<00:00,  5.30batch/s, Loss=0.0394]\n"
          ]
        },
        {
          "output_type": "stream",
          "name": "stdout",
          "text": [
            "Epoch 20/300, Loss: 0.0393503561164574\n"
          ]
        },
        {
          "output_type": "stream",
          "name": "stderr",
          "text": [
            "Epoch 21/300: 100%|██████████████████████████████████████████████████| 391/391 [01:14<00:00,  5.27batch/s, Loss=0.0417]\n"
          ]
        },
        {
          "output_type": "stream",
          "name": "stdout",
          "text": [
            "Epoch 21/300, Loss: 0.041740305042918535\n"
          ]
        },
        {
          "output_type": "stream",
          "name": "stderr",
          "text": [
            "Epoch 22/300: 100%|██████████████████████████████████████████████████| 391/391 [01:14<00:00,  5.26batch/s, Loss=0.0405]\n"
          ]
        },
        {
          "output_type": "stream",
          "name": "stdout",
          "text": [
            "Epoch 22/300, Loss: 0.04046399950626237\n"
          ]
        },
        {
          "output_type": "stream",
          "name": "stderr",
          "text": [
            "Epoch 23/300: 100%|██████████████████████████████████████████████████| 391/391 [01:13<00:00,  5.29batch/s, Loss=0.0396]\n"
          ]
        },
        {
          "output_type": "stream",
          "name": "stdout",
          "text": [
            "Epoch 23/300, Loss: 0.039623503602417114\n"
          ]
        },
        {
          "output_type": "stream",
          "name": "stderr",
          "text": [
            "Epoch 24/300: 100%|███████████████████████████████████████████████████| 391/391 [01:13<00:00,  5.29batch/s, Loss=0.038]\n"
          ]
        },
        {
          "output_type": "stream",
          "name": "stdout",
          "text": [
            "Epoch 24/300, Loss: 0.037994343067651565\n"
          ]
        },
        {
          "output_type": "stream",
          "name": "stderr",
          "text": [
            "Epoch 25/300: 100%|██████████████████████████████████████████████████| 391/391 [01:14<00:00,  5.28batch/s, Loss=0.0344]\n"
          ]
        },
        {
          "output_type": "stream",
          "name": "stdout",
          "text": [
            "Epoch 25/300, Loss: 0.03444970700630199\n"
          ]
        },
        {
          "output_type": "stream",
          "name": "stderr",
          "text": [
            "Epoch 26/300: 100%|██████████████████████████████████████████████████| 391/391 [01:14<00:00,  5.28batch/s, Loss=0.0434]\n"
          ]
        },
        {
          "output_type": "stream",
          "name": "stdout",
          "text": [
            "Epoch 26/300, Loss: 0.04340513858704797\n"
          ]
        },
        {
          "output_type": "stream",
          "name": "stderr",
          "text": [
            "Epoch 27/300: 100%|██████████████████████████████████████████████████| 391/391 [01:13<00:00,  5.31batch/s, Loss=0.0303]\n"
          ]
        },
        {
          "output_type": "stream",
          "name": "stdout",
          "text": [
            "Epoch 27/300, Loss: 0.030329180567119213\n"
          ]
        },
        {
          "output_type": "stream",
          "name": "stderr",
          "text": [
            "Epoch 28/300: 100%|██████████████████████████████████████████████████| 391/391 [01:13<00:00,  5.30batch/s, Loss=0.0333]\n"
          ]
        },
        {
          "output_type": "stream",
          "name": "stdout",
          "text": [
            "Epoch 28/300, Loss: 0.03332498215306836\n"
          ]
        },
        {
          "output_type": "stream",
          "name": "stderr",
          "text": [
            "Epoch 29/300: 100%|██████████████████████████████████████████████████| 391/391 [01:13<00:00,  5.30batch/s, Loss=0.0341]\n"
          ]
        },
        {
          "output_type": "stream",
          "name": "stdout",
          "text": [
            "Epoch 29/300, Loss: 0.03408685919847768\n"
          ]
        },
        {
          "output_type": "stream",
          "name": "stderr",
          "text": [
            "Epoch 30/300: 100%|██████████████████████████████████████████████████| 391/391 [01:13<00:00,  5.29batch/s, Loss=0.0339]\n"
          ]
        },
        {
          "output_type": "stream",
          "name": "stdout",
          "text": [
            "Epoch 30/300, Loss: 0.03394028669966937\n"
          ]
        },
        {
          "output_type": "stream",
          "name": "stderr",
          "text": [
            "Epoch 31/300: 100%|██████████████████████████████████████████████████| 391/391 [01:13<00:00,  5.30batch/s, Loss=0.0429]\n"
          ]
        },
        {
          "output_type": "stream",
          "name": "stdout",
          "text": [
            "Epoch 31/300, Loss: 0.04287856128578887\n"
          ]
        },
        {
          "output_type": "stream",
          "name": "stderr",
          "text": [
            "Epoch 32/300: 100%|██████████████████████████████████████████████████| 391/391 [01:13<00:00,  5.30batch/s, Loss=0.0341]\n"
          ]
        },
        {
          "output_type": "stream",
          "name": "stdout",
          "text": [
            "Epoch 32/300, Loss: 0.03406336816353634\n"
          ]
        },
        {
          "output_type": "stream",
          "name": "stderr",
          "text": [
            "Epoch 33/300: 100%|██████████████████████████████████████████████████| 391/391 [01:13<00:00,  5.31batch/s, Loss=0.0271]\n"
          ]
        },
        {
          "output_type": "stream",
          "name": "stdout",
          "text": [
            "Epoch 33/300, Loss: 0.027087482465917894\n"
          ]
        },
        {
          "output_type": "stream",
          "name": "stderr",
          "text": [
            "Epoch 34/300: 100%|██████████████████████████████████████████████████| 391/391 [01:13<00:00,  5.30batch/s, Loss=0.0238]\n"
          ]
        },
        {
          "output_type": "stream",
          "name": "stdout",
          "text": [
            "Epoch 34/300, Loss: 0.02383823932082716\n"
          ]
        },
        {
          "output_type": "stream",
          "name": "stderr",
          "text": [
            "Epoch 35/300: 100%|██████████████████████████████████████████████████| 391/391 [01:13<00:00,  5.29batch/s, Loss=0.0318]\n"
          ]
        },
        {
          "output_type": "stream",
          "name": "stdout",
          "text": [
            "Epoch 35/300, Loss: 0.031770918508181756\n"
          ]
        },
        {
          "output_type": "stream",
          "name": "stderr",
          "text": [
            "Epoch 36/300: 100%|██████████████████████████████████████████████████| 391/391 [01:13<00:00,  5.30batch/s, Loss=0.0386]\n"
          ]
        },
        {
          "output_type": "stream",
          "name": "stdout",
          "text": [
            "Epoch 36/300, Loss: 0.038597272344134854\n"
          ]
        },
        {
          "output_type": "stream",
          "name": "stderr",
          "text": [
            "Epoch 37/300: 100%|██████████████████████████████████████████████████| 391/391 [01:13<00:00,  5.32batch/s, Loss=0.0259]\n"
          ]
        },
        {
          "output_type": "stream",
          "name": "stdout",
          "text": [
            "Epoch 37/300, Loss: 0.025946941189094245\n"
          ]
        },
        {
          "output_type": "stream",
          "name": "stderr",
          "text": [
            "Epoch 38/300: 100%|██████████████████████████████████████████████████| 391/391 [01:13<00:00,  5.30batch/s, Loss=0.0259]\n"
          ]
        },
        {
          "output_type": "stream",
          "name": "stdout",
          "text": [
            "Epoch 38/300, Loss: 0.025904331100456146\n"
          ]
        },
        {
          "output_type": "stream",
          "name": "stderr",
          "text": [
            "Epoch 39/300: 100%|██████████████████████████████████████████████████| 391/391 [01:13<00:00,  5.31batch/s, Loss=0.0295]\n"
          ]
        },
        {
          "output_type": "stream",
          "name": "stdout",
          "text": [
            "Epoch 39/300, Loss: 0.029533745129099218\n"
          ]
        },
        {
          "output_type": "stream",
          "name": "stderr",
          "text": [
            "Epoch 40/300: 100%|███████████████████████████████████████████████████| 391/391 [01:13<00:00,  5.32batch/s, Loss=0.025]\n"
          ]
        },
        {
          "output_type": "stream",
          "name": "stdout",
          "text": [
            "Epoch 40/300, Loss: 0.0249609304318188\n"
          ]
        },
        {
          "output_type": "stream",
          "name": "stderr",
          "text": [
            "Epoch 41/300: 100%|██████████████████████████████████████████████████| 391/391 [01:13<00:00,  5.30batch/s, Loss=0.0346]\n"
          ]
        },
        {
          "output_type": "stream",
          "name": "stdout",
          "text": [
            "Epoch 41/300, Loss: 0.034581629070177936\n"
          ]
        },
        {
          "output_type": "stream",
          "name": "stderr",
          "text": [
            "Epoch 42/300: 100%|██████████████████████████████████████████████████| 391/391 [01:13<00:00,  5.31batch/s, Loss=0.0253]\n"
          ]
        },
        {
          "output_type": "stream",
          "name": "stdout",
          "text": [
            "Epoch 42/300, Loss: 0.02531740772548308\n"
          ]
        },
        {
          "output_type": "stream",
          "name": "stderr",
          "text": [
            "Epoch 43/300: 100%|███████████████████████████████████████████████████| 391/391 [01:13<00:00,  5.30batch/s, Loss=0.033]\n"
          ]
        },
        {
          "output_type": "stream",
          "name": "stdout",
          "text": [
            "Epoch 43/300, Loss: 0.03298066258340415\n"
          ]
        },
        {
          "output_type": "stream",
          "name": "stderr",
          "text": [
            "Epoch 44/300: 100%|██████████████████████████████████████████████████| 391/391 [01:13<00:00,  5.30batch/s, Loss=0.0329]\n"
          ]
        },
        {
          "output_type": "stream",
          "name": "stdout",
          "text": [
            "Epoch 44/300, Loss: 0.032936172098513274\n"
          ]
        },
        {
          "output_type": "stream",
          "name": "stderr",
          "text": [
            "Epoch 45/300: 100%|██████████████████████████████████████████████████| 391/391 [01:13<00:00,  5.30batch/s, Loss=0.0194]\n"
          ]
        },
        {
          "output_type": "stream",
          "name": "stdout",
          "text": [
            "Epoch 45/300, Loss: 0.019392096994357195\n"
          ]
        },
        {
          "output_type": "stream",
          "name": "stderr",
          "text": [
            "Epoch 46/300: 100%|██████████████████████████████████████████████████| 391/391 [01:13<00:00,  5.28batch/s, Loss=0.0284]\n"
          ]
        },
        {
          "output_type": "stream",
          "name": "stdout",
          "text": [
            "Epoch 46/300, Loss: 0.02844771391207762\n"
          ]
        },
        {
          "output_type": "stream",
          "name": "stderr",
          "text": [
            "Epoch 47/300: 100%|██████████████████████████████████████████████████| 391/391 [01:13<00:00,  5.29batch/s, Loss=0.0245]\n"
          ]
        },
        {
          "output_type": "stream",
          "name": "stdout",
          "text": [
            "Epoch 47/300, Loss: 0.02453260788652676\n"
          ]
        },
        {
          "output_type": "stream",
          "name": "stderr",
          "text": [
            "Epoch 48/300: 100%|██████████████████████████████████████████████████| 391/391 [01:14<00:00,  5.28batch/s, Loss=0.0255]\n"
          ]
        },
        {
          "output_type": "stream",
          "name": "stdout",
          "text": [
            "Epoch 48/300, Loss: 0.025530442501834158\n"
          ]
        },
        {
          "output_type": "stream",
          "name": "stderr",
          "text": [
            "Epoch 49/300: 100%|██████████████████████████████████████████████████| 391/391 [01:13<00:00,  5.30batch/s, Loss=0.0304]\n"
          ]
        },
        {
          "output_type": "stream",
          "name": "stdout",
          "text": [
            "Epoch 49/300, Loss: 0.030396988117725583\n"
          ]
        },
        {
          "output_type": "stream",
          "name": "stderr",
          "text": [
            "Epoch 50/300: 100%|██████████████████████████████████████████████████| 391/391 [01:13<00:00,  5.30batch/s, Loss=0.0272]\n"
          ]
        },
        {
          "output_type": "stream",
          "name": "stdout",
          "text": [
            "Epoch 50/300, Loss: 0.027209273301479715\n"
          ]
        },
        {
          "output_type": "stream",
          "name": "stderr",
          "text": [
            "Epoch 51/300: 100%|██████████████████████████████████████████████████| 391/391 [01:13<00:00,  5.30batch/s, Loss=0.0231]\n"
          ]
        },
        {
          "output_type": "stream",
          "name": "stdout",
          "text": [
            "Epoch 51/300, Loss: 0.023122830614282722\n"
          ]
        },
        {
          "output_type": "stream",
          "name": "stderr",
          "text": [
            "Epoch 52/300: 100%|██████████████████████████████████████████████████| 391/391 [01:13<00:00,  5.31batch/s, Loss=0.0293]\n"
          ]
        },
        {
          "output_type": "stream",
          "name": "stdout",
          "text": [
            "Epoch 52/300, Loss: 0.02928885868110563\n"
          ]
        },
        {
          "output_type": "stream",
          "name": "stderr",
          "text": [
            "Epoch 53/300: 100%|██████████████████████████████████████████████████| 391/391 [01:13<00:00,  5.30batch/s, Loss=0.0345]\n"
          ]
        },
        {
          "output_type": "stream",
          "name": "stdout",
          "text": [
            "Epoch 53/300, Loss: 0.03448427911471043\n"
          ]
        },
        {
          "output_type": "stream",
          "name": "stderr",
          "text": [
            "Epoch 54/300: 100%|██████████████████████████████████████████████████| 391/391 [01:13<00:00,  5.31batch/s, Loss=0.0302]\n"
          ]
        },
        {
          "output_type": "stream",
          "name": "stdout",
          "text": [
            "Epoch 54/300, Loss: 0.03023119508887253\n"
          ]
        },
        {
          "output_type": "stream",
          "name": "stderr",
          "text": [
            "Epoch 55/300: 100%|██████████████████████████████████████████████████| 391/391 [01:13<00:00,  5.29batch/s, Loss=0.0209]\n"
          ]
        },
        {
          "output_type": "stream",
          "name": "stdout",
          "text": [
            "Epoch 55/300, Loss: 0.020898446651736704\n"
          ]
        },
        {
          "output_type": "stream",
          "name": "stderr",
          "text": [
            "Epoch 56/300: 100%|██████████████████████████████████████████████████| 391/391 [01:13<00:00,  5.30batch/s, Loss=0.0177]\n"
          ]
        },
        {
          "output_type": "stream",
          "name": "stdout",
          "text": [
            "Epoch 56/300, Loss: 0.017749745259921172\n"
          ]
        },
        {
          "output_type": "stream",
          "name": "stderr",
          "text": [
            "Epoch 57/300: 100%|██████████████████████████████████████████████████| 391/391 [01:13<00:00,  5.30batch/s, Loss=0.0333]\n"
          ]
        },
        {
          "output_type": "stream",
          "name": "stdout",
          "text": [
            "Epoch 57/300, Loss: 0.03325764654427776\n"
          ]
        },
        {
          "output_type": "stream",
          "name": "stderr",
          "text": [
            "Epoch 58/300: 100%|██████████████████████████████████████████████████| 391/391 [01:13<00:00,  5.30batch/s, Loss=0.0282]\n"
          ]
        },
        {
          "output_type": "stream",
          "name": "stdout",
          "text": [
            "Epoch 58/300, Loss: 0.028239635851993725\n"
          ]
        },
        {
          "output_type": "stream",
          "name": "stderr",
          "text": [
            "Epoch 59/300: 100%|██████████████████████████████████████████████████| 391/391 [01:13<00:00,  5.30batch/s, Loss=0.0221]\n"
          ]
        },
        {
          "output_type": "stream",
          "name": "stdout",
          "text": [
            "Epoch 59/300, Loss: 0.02205322664787645\n"
          ]
        },
        {
          "output_type": "stream",
          "name": "stderr",
          "text": [
            "Epoch 60/300: 100%|██████████████████████████████████████████████████| 391/391 [01:13<00:00,  5.30batch/s, Loss=0.0279]\n"
          ]
        },
        {
          "output_type": "stream",
          "name": "stdout",
          "text": [
            "Epoch 60/300, Loss: 0.027932619011616183\n"
          ]
        },
        {
          "output_type": "stream",
          "name": "stderr",
          "text": [
            "Epoch 61/300: 100%|███████████████████████████████████████████████████| 391/391 [01:13<00:00,  5.31batch/s, Loss=0.023]\n"
          ]
        },
        {
          "output_type": "stream",
          "name": "stdout",
          "text": [
            "Epoch 61/300, Loss: 0.023007060372870546\n"
          ]
        },
        {
          "output_type": "stream",
          "name": "stderr",
          "text": [
            "Epoch 62/300: 100%|██████████████████████████████████████████████████| 391/391 [01:13<00:00,  5.30batch/s, Loss=0.0284]\n"
          ]
        },
        {
          "output_type": "stream",
          "name": "stdout",
          "text": [
            "Epoch 62/300, Loss: 0.02839344878048275\n"
          ]
        },
        {
          "output_type": "stream",
          "name": "stderr",
          "text": [
            "Epoch 63/300: 100%|██████████████████████████████████████████████████| 391/391 [01:13<00:00,  5.30batch/s, Loss=0.0196]\n"
          ]
        },
        {
          "output_type": "stream",
          "name": "stdout",
          "text": [
            "Epoch 63/300, Loss: 0.019643404117133563\n"
          ]
        },
        {
          "output_type": "stream",
          "name": "stderr",
          "text": [
            "Epoch 64/300: 100%|███████████████████████████████████████████████████| 391/391 [01:13<00:00,  5.30batch/s, Loss=0.027]\n"
          ]
        },
        {
          "output_type": "stream",
          "name": "stdout",
          "text": [
            "Epoch 64/300, Loss: 0.02696382428360771\n"
          ]
        },
        {
          "output_type": "stream",
          "name": "stderr",
          "text": [
            "Epoch 65/300: 100%|██████████████████████████████████████████████████| 391/391 [01:13<00:00,  5.31batch/s, Loss=0.0343]\n"
          ]
        },
        {
          "output_type": "stream",
          "name": "stdout",
          "text": [
            "Epoch 65/300, Loss: 0.03426845208389092\n"
          ]
        },
        {
          "output_type": "stream",
          "name": "stderr",
          "text": [
            "Epoch 66/300: 100%|██████████████████████████████████████████████████| 391/391 [01:13<00:00,  5.30batch/s, Loss=0.0218]\n"
          ]
        },
        {
          "output_type": "stream",
          "name": "stdout",
          "text": [
            "Epoch 66/300, Loss: 0.021815246460424355\n"
          ]
        },
        {
          "output_type": "stream",
          "name": "stderr",
          "text": [
            "Epoch 67/300: 100%|██████████████████████████████████████████████████| 391/391 [01:13<00:00,  5.30batch/s, Loss=0.0263]\n"
          ]
        },
        {
          "output_type": "stream",
          "name": "stdout",
          "text": [
            "Epoch 67/300, Loss: 0.02633552914000954\n"
          ]
        },
        {
          "output_type": "stream",
          "name": "stderr",
          "text": [
            "Epoch 68/300: 100%|██████████████████████████████████████████████████| 391/391 [01:13<00:00,  5.31batch/s, Loss=0.0241]\n"
          ]
        },
        {
          "output_type": "stream",
          "name": "stdout",
          "text": [
            "Epoch 68/300, Loss: 0.02409500620442928\n"
          ]
        },
        {
          "output_type": "stream",
          "name": "stderr",
          "text": [
            "Epoch 69/300: 100%|██████████████████████████████████████████████████| 391/391 [01:13<00:00,  5.31batch/s, Loss=0.0148]\n"
          ]
        },
        {
          "output_type": "stream",
          "name": "stdout",
          "text": [
            "Epoch 69/300, Loss: 0.014812417703890617\n"
          ]
        },
        {
          "output_type": "stream",
          "name": "stderr",
          "text": [
            "Epoch 70/300: 100%|██████████████████████████████████████████████████| 391/391 [01:13<00:00,  5.30batch/s, Loss=0.0269]\n"
          ]
        },
        {
          "output_type": "stream",
          "name": "stdout",
          "text": [
            "Epoch 70/300, Loss: 0.026860067807819972\n"
          ]
        },
        {
          "output_type": "stream",
          "name": "stderr",
          "text": [
            "Epoch 71/300: 100%|███████████████████████████████████████████████████| 391/391 [01:13<00:00,  5.30batch/s, Loss=0.025]\n"
          ]
        },
        {
          "output_type": "stream",
          "name": "stdout",
          "text": [
            "Epoch 71/300, Loss: 0.025033733434904434\n"
          ]
        },
        {
          "output_type": "stream",
          "name": "stderr",
          "text": [
            "Epoch 72/300: 100%|██████████████████████████████████████████████████| 391/391 [01:13<00:00,  5.29batch/s, Loss=0.0208]\n"
          ]
        },
        {
          "output_type": "stream",
          "name": "stdout",
          "text": [
            "Epoch 72/300, Loss: 0.02075157195003904\n"
          ]
        },
        {
          "output_type": "stream",
          "name": "stderr",
          "text": [
            "Epoch 73/300: 100%|██████████████████████████████████████████████████| 391/391 [01:13<00:00,  5.30batch/s, Loss=0.0308]\n"
          ]
        },
        {
          "output_type": "stream",
          "name": "stdout",
          "text": [
            "Epoch 73/300, Loss: 0.03081394209740999\n"
          ]
        },
        {
          "output_type": "stream",
          "name": "stderr",
          "text": [
            "Epoch 74/300: 100%|██████████████████████████████████████████████████| 391/391 [01:13<00:00,  5.30batch/s, Loss=0.0282]\n"
          ]
        },
        {
          "output_type": "stream",
          "name": "stdout",
          "text": [
            "Epoch 74/300, Loss: 0.02821096691320894\n"
          ]
        },
        {
          "output_type": "stream",
          "name": "stderr",
          "text": [
            "Epoch 75/300: 100%|██████████████████████████████████████████████████| 391/391 [01:13<00:00,  5.29batch/s, Loss=0.0291]\n"
          ]
        },
        {
          "output_type": "stream",
          "name": "stdout",
          "text": [
            "Epoch 75/300, Loss: 0.029080533002366404\n"
          ]
        },
        {
          "output_type": "stream",
          "name": "stderr",
          "text": [
            "Epoch 76/300: 100%|███████████████████████████████████████████████████| 391/391 [01:13<00:00,  5.30batch/s, Loss=0.022]\n"
          ]
        },
        {
          "output_type": "stream",
          "name": "stdout",
          "text": [
            "Epoch 76/300, Loss: 0.021993632492882643\n"
          ]
        },
        {
          "output_type": "stream",
          "name": "stderr",
          "text": [
            "Epoch 77/300: 100%|██████████████████████████████████████████████████| 391/391 [01:13<00:00,  5.30batch/s, Loss=0.0218]\n"
          ]
        },
        {
          "output_type": "stream",
          "name": "stdout",
          "text": [
            "Epoch 77/300, Loss: 0.02179880984776831\n"
          ]
        },
        {
          "output_type": "stream",
          "name": "stderr",
          "text": [
            "Epoch 78/300: 100%|██████████████████████████████████████████████████| 391/391 [01:13<00:00,  5.31batch/s, Loss=0.0315]\n"
          ]
        },
        {
          "output_type": "stream",
          "name": "stdout",
          "text": [
            "Epoch 78/300, Loss: 0.03153176634424615\n"
          ]
        },
        {
          "output_type": "stream",
          "name": "stderr",
          "text": [
            "Epoch 79/300: 100%|██████████████████████████████████████████████████| 391/391 [01:13<00:00,  5.31batch/s, Loss=0.0245]\n"
          ]
        },
        {
          "output_type": "stream",
          "name": "stdout",
          "text": [
            "Epoch 79/300, Loss: 0.024514606474583422\n"
          ]
        },
        {
          "output_type": "stream",
          "name": "stderr",
          "text": [
            "Epoch 80/300: 100%|██████████████████████████████████████████████████| 391/391 [01:13<00:00,  5.31batch/s, Loss=0.0226]\n"
          ]
        },
        {
          "output_type": "stream",
          "name": "stdout",
          "text": [
            "Epoch 80/300, Loss: 0.02256246237973644\n"
          ]
        },
        {
          "output_type": "stream",
          "name": "stderr",
          "text": [
            "Epoch 81/300: 100%|██████████████████████████████████████████████████| 391/391 [01:13<00:00,  5.30batch/s, Loss=0.0263]\n"
          ]
        },
        {
          "output_type": "stream",
          "name": "stdout",
          "text": [
            "Epoch 81/300, Loss: 0.02631133621640248\n"
          ]
        },
        {
          "output_type": "stream",
          "name": "stderr",
          "text": [
            "Epoch 82/300: 100%|██████████████████████████████████████████████████| 391/391 [01:13<00:00,  5.31batch/s, Loss=0.0181]\n"
          ]
        },
        {
          "output_type": "stream",
          "name": "stdout",
          "text": [
            "Epoch 82/300, Loss: 0.018100417773751386\n"
          ]
        },
        {
          "output_type": "stream",
          "name": "stderr",
          "text": [
            "Epoch 83/300: 100%|██████████████████████████████████████████████████| 391/391 [01:13<00:00,  5.31batch/s, Loss=0.0192]\n"
          ]
        },
        {
          "output_type": "stream",
          "name": "stdout",
          "text": [
            "Epoch 83/300, Loss: 0.01923195444677803\n"
          ]
        },
        {
          "output_type": "stream",
          "name": "stderr",
          "text": [
            "Epoch 84/300: 100%|██████████████████████████████████████████████████| 391/391 [01:13<00:00,  5.30batch/s, Loss=0.0218]\n"
          ]
        },
        {
          "output_type": "stream",
          "name": "stdout",
          "text": [
            "Epoch 84/300, Loss: 0.02183311687144531\n"
          ]
        },
        {
          "output_type": "stream",
          "name": "stderr",
          "text": [
            "Epoch 85/300: 100%|██████████████████████████████████████████████████| 391/391 [01:13<00:00,  5.31batch/s, Loss=0.0329]\n"
          ]
        },
        {
          "output_type": "stream",
          "name": "stdout",
          "text": [
            "Epoch 85/300, Loss: 0.03292194032971619\n"
          ]
        },
        {
          "output_type": "stream",
          "name": "stderr",
          "text": [
            "Epoch 86/300: 100%|██████████████████████████████████████████████████| 391/391 [01:13<00:00,  5.32batch/s, Loss=0.0238]\n"
          ]
        },
        {
          "output_type": "stream",
          "name": "stdout",
          "text": [
            "Epoch 86/300, Loss: 0.023765080654584964\n"
          ]
        },
        {
          "output_type": "stream",
          "name": "stderr",
          "text": [
            "Epoch 87/300: 100%|██████████████████████████████████████████████████| 391/391 [01:13<00:00,  5.29batch/s, Loss=0.0191]\n"
          ]
        },
        {
          "output_type": "stream",
          "name": "stdout",
          "text": [
            "Epoch 87/300, Loss: 0.019053189016389457\n"
          ]
        },
        {
          "output_type": "stream",
          "name": "stderr",
          "text": [
            "Epoch 88/300: 100%|██████████████████████████████████████████████████| 391/391 [01:13<00:00,  5.31batch/s, Loss=0.0221]\n"
          ]
        },
        {
          "output_type": "stream",
          "name": "stdout",
          "text": [
            "Epoch 88/300, Loss: 0.02209963666626818\n"
          ]
        },
        {
          "output_type": "stream",
          "name": "stderr",
          "text": [
            "Epoch 89/300: 100%|███████████████████████████████████████████████████| 391/391 [01:13<00:00,  5.30batch/s, Loss=0.037]\n"
          ]
        },
        {
          "output_type": "stream",
          "name": "stdout",
          "text": [
            "Epoch 89/300, Loss: 0.03695956357231833\n"
          ]
        },
        {
          "output_type": "stream",
          "name": "stderr",
          "text": [
            "Epoch 90/300: 100%|███████████████████████████████████████████████████| 391/391 [01:13<00:00,  5.30batch/s, Loss=0.033]\n"
          ]
        },
        {
          "output_type": "stream",
          "name": "stdout",
          "text": [
            "Epoch 90/300, Loss: 0.033031959289039715\n"
          ]
        },
        {
          "output_type": "stream",
          "name": "stderr",
          "text": [
            "Epoch 91/300: 100%|██████████████████████████████████████████████████| 391/391 [01:13<00:00,  5.31batch/s, Loss=0.0242]\n"
          ]
        },
        {
          "output_type": "stream",
          "name": "stdout",
          "text": [
            "Epoch 91/300, Loss: 0.024195193572965422\n"
          ]
        },
        {
          "output_type": "stream",
          "name": "stderr",
          "text": [
            "Epoch 92/300: 100%|██████████████████████████████████████████████████| 391/391 [01:13<00:00,  5.29batch/s, Loss=0.0209]\n"
          ]
        },
        {
          "output_type": "stream",
          "name": "stdout",
          "text": [
            "Epoch 92/300, Loss: 0.02094617313906298\n"
          ]
        },
        {
          "output_type": "stream",
          "name": "stderr",
          "text": [
            "Epoch 93/300: 100%|██████████████████████████████████████████████████| 391/391 [01:13<00:00,  5.30batch/s, Loss=0.0156]\n"
          ]
        },
        {
          "output_type": "stream",
          "name": "stdout",
          "text": [
            "Epoch 93/300, Loss: 0.015643242194047224\n"
          ]
        },
        {
          "output_type": "stream",
          "name": "stderr",
          "text": [
            "Epoch 94/300: 100%|██████████████████████████████████████████████████| 391/391 [01:14<00:00,  5.28batch/s, Loss=0.0258]\n"
          ]
        },
        {
          "output_type": "stream",
          "name": "stdout",
          "text": [
            "Epoch 94/300, Loss: 0.025839971860108845\n"
          ]
        },
        {
          "output_type": "stream",
          "name": "stderr",
          "text": [
            "Epoch 95/300: 100%|██████████████████████████████████████████████████| 391/391 [01:13<00:00,  5.29batch/s, Loss=0.0237]\n"
          ]
        },
        {
          "output_type": "stream",
          "name": "stdout",
          "text": [
            "Epoch 95/300, Loss: 0.023735649724531155\n"
          ]
        },
        {
          "output_type": "stream",
          "name": "stderr",
          "text": [
            "Epoch 96/300: 100%|██████████████████████████████████████████████████| 391/391 [01:13<00:00,  5.30batch/s, Loss=0.0284]\n"
          ]
        },
        {
          "output_type": "stream",
          "name": "stdout",
          "text": [
            "Epoch 96/300, Loss: 0.028372774389746083\n"
          ]
        },
        {
          "output_type": "stream",
          "name": "stderr",
          "text": [
            "Epoch 97/300: 100%|██████████████████████████████████████████████████| 391/391 [01:14<00:00,  5.26batch/s, Loss=0.0314]\n"
          ]
        },
        {
          "output_type": "stream",
          "name": "stdout",
          "text": [
            "Epoch 97/300, Loss: 0.03137093904446871\n"
          ]
        },
        {
          "output_type": "stream",
          "name": "stderr",
          "text": [
            "Epoch 98/300: 100%|██████████████████████████████████████████████████| 391/391 [01:13<00:00,  5.30batch/s, Loss=0.0257]\n"
          ]
        },
        {
          "output_type": "stream",
          "name": "stdout",
          "text": [
            "Epoch 98/300, Loss: 0.025699671097446884\n"
          ]
        },
        {
          "output_type": "stream",
          "name": "stderr",
          "text": [
            "Epoch 99/300: 100%|██████████████████████████████████████████████████| 391/391 [01:13<00:00,  5.29batch/s, Loss=0.0216]\n"
          ]
        },
        {
          "output_type": "stream",
          "name": "stdout",
          "text": [
            "Epoch 99/300, Loss: 0.02162470984151744\n"
          ]
        },
        {
          "output_type": "stream",
          "name": "stderr",
          "text": [
            "Epoch 100/300: 100%|█████████████████████████████████████████████████| 391/391 [01:13<00:00,  5.30batch/s, Loss=0.0159]\n"
          ]
        },
        {
          "output_type": "stream",
          "name": "stdout",
          "text": [
            "Epoch 100/300, Loss: 0.01585043912328551\n"
          ]
        },
        {
          "output_type": "stream",
          "name": "stderr",
          "text": [
            "Epoch 101/300: 100%|█████████████████████████████████████████████████| 391/391 [01:13<00:00,  5.30batch/s, Loss=0.0104]\n"
          ]
        },
        {
          "output_type": "stream",
          "name": "stdout",
          "text": [
            "Epoch 101/300, Loss: 0.0103643013528581\n"
          ]
        },
        {
          "output_type": "stream",
          "name": "stderr",
          "text": [
            "Epoch 102/300: 100%|█████████████████████████████████████████████████| 391/391 [01:13<00:00,  5.31batch/s, Loss=0.0282]\n"
          ]
        },
        {
          "output_type": "stream",
          "name": "stdout",
          "text": [
            "Epoch 102/300, Loss: 0.028227607723729998\n"
          ]
        },
        {
          "output_type": "stream",
          "name": "stderr",
          "text": [
            "Epoch 103/300: 100%|█████████████████████████████████████████████████| 391/391 [01:14<00:00,  5.28batch/s, Loss=0.0255]\n"
          ]
        },
        {
          "output_type": "stream",
          "name": "stdout",
          "text": [
            "Epoch 103/300, Loss: 0.02552906336904661\n"
          ]
        },
        {
          "output_type": "stream",
          "name": "stderr",
          "text": [
            "Epoch 104/300: 100%|█████████████████████████████████████████████████| 391/391 [01:13<00:00,  5.30batch/s, Loss=0.0271]\n"
          ]
        },
        {
          "output_type": "stream",
          "name": "stdout",
          "text": [
            "Epoch 104/300, Loss: 0.02714795950267602\n"
          ]
        },
        {
          "output_type": "stream",
          "name": "stderr",
          "text": [
            "Epoch 105/300: 100%|█████████████████████████████████████████████████| 391/391 [01:13<00:00,  5.29batch/s, Loss=0.0345]\n"
          ]
        },
        {
          "output_type": "stream",
          "name": "stdout",
          "text": [
            "Epoch 105/300, Loss: 0.034538643759315035\n"
          ]
        },
        {
          "output_type": "stream",
          "name": "stderr",
          "text": [
            "Epoch 106/300: 100%|█████████████████████████████████████████████████| 391/391 [01:13<00:00,  5.29batch/s, Loss=0.0226]\n"
          ]
        },
        {
          "output_type": "stream",
          "name": "stdout",
          "text": [
            "Epoch 106/300, Loss: 0.0225651640703337\n"
          ]
        },
        {
          "output_type": "stream",
          "name": "stderr",
          "text": [
            "Epoch 107/300: 100%|█████████████████████████████████████████████████| 391/391 [01:13<00:00,  5.29batch/s, Loss=0.0171]\n"
          ]
        },
        {
          "output_type": "stream",
          "name": "stdout",
          "text": [
            "Epoch 107/300, Loss: 0.017072181188734672\n"
          ]
        },
        {
          "output_type": "stream",
          "name": "stderr",
          "text": [
            "Epoch 108/300: 100%|█████████████████████████████████████████████████| 391/391 [01:13<00:00,  5.28batch/s, Loss=0.0245]\n"
          ]
        },
        {
          "output_type": "stream",
          "name": "stdout",
          "text": [
            "Epoch 108/300, Loss: 0.024523543814578292\n"
          ]
        },
        {
          "output_type": "stream",
          "name": "stderr",
          "text": [
            "Epoch 109/300: 100%|██████████████████████████████████████████████████| 391/391 [01:13<00:00,  5.30batch/s, Loss=0.028]\n"
          ]
        },
        {
          "output_type": "stream",
          "name": "stdout",
          "text": [
            "Epoch 109/300, Loss: 0.02795480159453375\n"
          ]
        },
        {
          "output_type": "stream",
          "name": "stderr",
          "text": [
            "Epoch 110/300: 100%|█████████████████████████████████████████████████| 391/391 [01:13<00:00,  5.30batch/s, Loss=0.0342]\n"
          ]
        },
        {
          "output_type": "stream",
          "name": "stdout",
          "text": [
            "Epoch 110/300, Loss: 0.034224947015626866\n"
          ]
        },
        {
          "output_type": "stream",
          "name": "stderr",
          "text": [
            "Epoch 111/300: 100%|█████████████████████████████████████████████████| 391/391 [01:13<00:00,  5.29batch/s, Loss=0.0258]\n"
          ]
        },
        {
          "output_type": "stream",
          "name": "stdout",
          "text": [
            "Epoch 111/300, Loss: 0.025815874211315547\n"
          ]
        },
        {
          "output_type": "stream",
          "name": "stderr",
          "text": [
            "Epoch 112/300: 100%|█████████████████████████████████████████████████| 391/391 [01:14<00:00,  5.28batch/s, Loss=0.0305]\n"
          ]
        },
        {
          "output_type": "stream",
          "name": "stdout",
          "text": [
            "Epoch 112/300, Loss: 0.030490673141580184\n"
          ]
        },
        {
          "output_type": "stream",
          "name": "stderr",
          "text": [
            "Epoch 113/300: 100%|█████████████████████████████████████████████████| 391/391 [01:13<00:00,  5.30batch/s, Loss=0.0157]\n"
          ]
        },
        {
          "output_type": "stream",
          "name": "stdout",
          "text": [
            "Epoch 113/300, Loss: 0.01573893870018114\n"
          ]
        },
        {
          "output_type": "stream",
          "name": "stderr",
          "text": [
            "Epoch 114/300: 100%|█████████████████████████████████████████████████| 391/391 [01:14<00:00,  5.28batch/s, Loss=0.0136]\n"
          ]
        },
        {
          "output_type": "stream",
          "name": "stdout",
          "text": [
            "Epoch 114/300, Loss: 0.013557949642720243\n"
          ]
        },
        {
          "output_type": "stream",
          "name": "stderr",
          "text": [
            "Epoch 115/300: 100%|█████████████████████████████████████████████████| 391/391 [01:13<00:00,  5.29batch/s, Loss=0.0248]\n"
          ]
        },
        {
          "output_type": "stream",
          "name": "stdout",
          "text": [
            "Epoch 115/300, Loss: 0.024775859277867907\n"
          ]
        },
        {
          "output_type": "stream",
          "name": "stderr",
          "text": [
            "Epoch 116/300: 100%|█████████████████████████████████████████████████| 391/391 [01:13<00:00,  5.31batch/s, Loss=0.0343]\n"
          ]
        },
        {
          "output_type": "stream",
          "name": "stdout",
          "text": [
            "Epoch 116/300, Loss: 0.034323646050472605\n"
          ]
        },
        {
          "output_type": "stream",
          "name": "stderr",
          "text": [
            "Epoch 117/300: 100%|█████████████████████████████████████████████████| 391/391 [01:13<00:00,  5.29batch/s, Loss=0.0262]\n"
          ]
        },
        {
          "output_type": "stream",
          "name": "stdout",
          "text": [
            "Epoch 117/300, Loss: 0.026234184238425485\n"
          ]
        },
        {
          "output_type": "stream",
          "name": "stderr",
          "text": [
            "Epoch 118/300: 100%|█████████████████████████████████████████████████| 391/391 [01:13<00:00,  5.29batch/s, Loss=0.0254]\n"
          ]
        },
        {
          "output_type": "stream",
          "name": "stdout",
          "text": [
            "Epoch 118/300, Loss: 0.025443087019622\n"
          ]
        },
        {
          "output_type": "stream",
          "name": "stderr",
          "text": [
            "Epoch 119/300: 100%|██████████████████████████████████████████████████| 391/391 [01:13<00:00,  5.30batch/s, Loss=0.018]\n"
          ]
        },
        {
          "output_type": "stream",
          "name": "stdout",
          "text": [
            "Epoch 119/300, Loss: 0.01795978913409089\n"
          ]
        },
        {
          "output_type": "stream",
          "name": "stderr",
          "text": [
            "Epoch 120/300: 100%|█████████████████████████████████████████████████| 391/391 [01:13<00:00,  5.30batch/s, Loss=0.0208]\n"
          ]
        },
        {
          "output_type": "stream",
          "name": "stdout",
          "text": [
            "Epoch 120/300, Loss: 0.020831973422685147\n"
          ]
        },
        {
          "output_type": "stream",
          "name": "stderr",
          "text": [
            "Epoch 121/300: 100%|█████████████████████████████████████████████████| 391/391 [01:14<00:00,  5.28batch/s, Loss=0.0364]\n"
          ]
        },
        {
          "output_type": "stream",
          "name": "stdout",
          "text": [
            "Epoch 121/300, Loss: 0.036350704764868784\n"
          ]
        },
        {
          "output_type": "stream",
          "name": "stderr",
          "text": [
            "Epoch 122/300: 100%|█████████████████████████████████████████████████| 391/391 [01:13<00:00,  5.29batch/s, Loss=0.0303]\n"
          ]
        },
        {
          "output_type": "stream",
          "name": "stdout",
          "text": [
            "Epoch 122/300, Loss: 0.030319219629352315\n"
          ]
        },
        {
          "output_type": "stream",
          "name": "stderr",
          "text": [
            "Epoch 123/300: 100%|█████████████████████████████████████████████████| 391/391 [01:13<00:00,  5.30batch/s, Loss=0.0381]\n"
          ]
        },
        {
          "output_type": "stream",
          "name": "stdout",
          "text": [
            "Epoch 123/300, Loss: 0.03810506931658173\n"
          ]
        },
        {
          "output_type": "stream",
          "name": "stderr",
          "text": [
            "Epoch 124/300: 100%|█████████████████████████████████████████████████| 391/391 [01:13<00:00,  5.28batch/s, Loss=0.0138]\n"
          ]
        },
        {
          "output_type": "stream",
          "name": "stdout",
          "text": [
            "Epoch 124/300, Loss: 0.013753690593027909\n"
          ]
        },
        {
          "output_type": "stream",
          "name": "stderr",
          "text": [
            "Epoch 125/300: 100%|█████████████████████████████████████████████████| 391/391 [01:13<00:00,  5.28batch/s, Loss=0.0198]\n"
          ]
        },
        {
          "output_type": "stream",
          "name": "stdout",
          "text": [
            "Epoch 125/300, Loss: 0.019837764719872846\n"
          ]
        },
        {
          "output_type": "stream",
          "name": "stderr",
          "text": [
            "Epoch 126/300: 100%|█████████████████████████████████████████████████| 391/391 [01:13<00:00,  5.29batch/s, Loss=0.0367]\n"
          ]
        },
        {
          "output_type": "stream",
          "name": "stdout",
          "text": [
            "Epoch 126/300, Loss: 0.03670407385119102\n"
          ]
        },
        {
          "output_type": "stream",
          "name": "stderr",
          "text": [
            "Epoch 127/300: 100%|█████████████████████████████████████████████████| 391/391 [01:13<00:00,  5.29batch/s, Loss=0.0202]\n"
          ]
        },
        {
          "output_type": "stream",
          "name": "stdout",
          "text": [
            "Epoch 127/300, Loss: 0.020181099278157557\n"
          ]
        },
        {
          "output_type": "stream",
          "name": "stderr",
          "text": [
            "Epoch 128/300: 100%|█████████████████████████████████████████████████| 391/391 [01:14<00:00,  5.28batch/s, Loss=0.0136]\n"
          ]
        },
        {
          "output_type": "stream",
          "name": "stdout",
          "text": [
            "Epoch 128/300, Loss: 0.013558189213445043\n"
          ]
        },
        {
          "output_type": "stream",
          "name": "stderr",
          "text": [
            "Epoch 129/300: 100%|█████████████████████████████████████████████████| 391/391 [01:13<00:00,  5.30batch/s, Loss=0.0319]\n"
          ]
        },
        {
          "output_type": "stream",
          "name": "stdout",
          "text": [
            "Epoch 129/300, Loss: 0.03188937150887133\n"
          ]
        },
        {
          "output_type": "stream",
          "name": "stderr",
          "text": [
            "Epoch 130/300: 100%|██████████████████████████████████████████████████| 391/391 [01:13<00:00,  5.29batch/s, Loss=0.027]\n"
          ]
        },
        {
          "output_type": "stream",
          "name": "stdout",
          "text": [
            "Epoch 130/300, Loss: 0.02703068921426127\n"
          ]
        },
        {
          "output_type": "stream",
          "name": "stderr",
          "text": [
            "Epoch 131/300: 100%|█████████████████████████████████████████████████| 391/391 [01:13<00:00,  5.29batch/s, Loss=0.0311]\n"
          ]
        },
        {
          "output_type": "stream",
          "name": "stdout",
          "text": [
            "Epoch 131/300, Loss: 0.031142049883938448\n"
          ]
        },
        {
          "output_type": "stream",
          "name": "stderr",
          "text": [
            "Epoch 132/300: 100%|█████████████████████████████████████████████████| 391/391 [01:14<00:00,  5.28batch/s, Loss=0.0319]\n"
          ]
        },
        {
          "output_type": "stream",
          "name": "stdout",
          "text": [
            "Epoch 132/300, Loss: 0.03190697195824268\n"
          ]
        },
        {
          "output_type": "stream",
          "name": "stderr",
          "text": [
            "Epoch 133/300: 100%|█████████████████████████████████████████████████| 391/391 [01:13<00:00,  5.29batch/s, Loss=0.0219]\n"
          ]
        },
        {
          "output_type": "stream",
          "name": "stdout",
          "text": [
            "Epoch 133/300, Loss: 0.02186044818226177\n"
          ]
        },
        {
          "output_type": "stream",
          "name": "stderr",
          "text": [
            "Epoch 134/300: 100%|██████████████████████████████████████████████████| 391/391 [01:13<00:00,  5.30batch/s, Loss=0.023]\n"
          ]
        },
        {
          "output_type": "stream",
          "name": "stdout",
          "text": [
            "Epoch 134/300, Loss: 0.023034251160273838\n"
          ]
        },
        {
          "output_type": "stream",
          "name": "stderr",
          "text": [
            "Epoch 135/300: 100%|█████████████████████████████████████████████████| 391/391 [01:13<00:00,  5.29batch/s, Loss=0.0363]\n"
          ]
        },
        {
          "output_type": "stream",
          "name": "stdout",
          "text": [
            "Epoch 135/300, Loss: 0.036298892065717\n"
          ]
        },
        {
          "output_type": "stream",
          "name": "stderr",
          "text": [
            "Epoch 136/300: 100%|█████████████████████████████████████████████████| 391/391 [01:13<00:00,  5.29batch/s, Loss=0.0299]\n"
          ]
        },
        {
          "output_type": "stream",
          "name": "stdout",
          "text": [
            "Epoch 136/300, Loss: 0.02987155657360103\n"
          ]
        },
        {
          "output_type": "stream",
          "name": "stderr",
          "text": [
            "Epoch 137/300: 100%|█████████████████████████████████████████████████| 391/391 [01:13<00:00,  5.29batch/s, Loss=0.0189]\n"
          ]
        },
        {
          "output_type": "stream",
          "name": "stdout",
          "text": [
            "Epoch 137/300, Loss: 0.01890577208291354\n"
          ]
        },
        {
          "output_type": "stream",
          "name": "stderr",
          "text": [
            "Epoch 138/300: 100%|█████████████████████████████████████████████████| 391/391 [01:14<00:00,  5.27batch/s, Loss=0.0225]\n"
          ]
        },
        {
          "output_type": "stream",
          "name": "stdout",
          "text": [
            "Epoch 138/300, Loss: 0.022508944033492097\n"
          ]
        },
        {
          "output_type": "stream",
          "name": "stderr",
          "text": [
            "Epoch 139/300: 100%|█████████████████████████████████████████████████| 391/391 [01:14<00:00,  5.24batch/s, Loss=0.0272]\n"
          ]
        },
        {
          "output_type": "stream",
          "name": "stdout",
          "text": [
            "Epoch 139/300, Loss: 0.027163086134881116\n"
          ]
        },
        {
          "output_type": "stream",
          "name": "stderr",
          "text": [
            "Epoch 140/300: 100%|█████████████████████████████████████████████████| 391/391 [01:14<00:00,  5.27batch/s, Loss=0.0273]\n"
          ]
        },
        {
          "output_type": "stream",
          "name": "stdout",
          "text": [
            "Epoch 140/300, Loss: 0.027298200187354762\n"
          ]
        },
        {
          "output_type": "stream",
          "name": "stderr",
          "text": [
            "Epoch 141/300: 100%|█████████████████████████████████████████████████| 391/391 [01:14<00:00,  5.28batch/s, Loss=0.0337]\n"
          ]
        },
        {
          "output_type": "stream",
          "name": "stdout",
          "text": [
            "Epoch 141/300, Loss: 0.033702565785642166\n"
          ]
        },
        {
          "output_type": "stream",
          "name": "stderr",
          "text": [
            "Epoch 142/300: 100%|█████████████████████████████████████████████████| 391/391 [01:14<00:00,  5.28batch/s, Loss=0.0281]\n"
          ]
        },
        {
          "output_type": "stream",
          "name": "stdout",
          "text": [
            "Epoch 142/300, Loss: 0.028142327670946155\n"
          ]
        },
        {
          "output_type": "stream",
          "name": "stderr",
          "text": [
            "Epoch 143/300: 100%|█████████████████████████████████████████████████| 391/391 [01:14<00:00,  5.27batch/s, Loss=0.0335]\n"
          ]
        },
        {
          "output_type": "stream",
          "name": "stdout",
          "text": [
            "Epoch 143/300, Loss: 0.033459887224762\n"
          ]
        },
        {
          "output_type": "stream",
          "name": "stderr",
          "text": [
            "Epoch 144/300: 100%|█████████████████████████████████████████████████| 391/391 [01:14<00:00,  5.27batch/s, Loss=0.0147]\n"
          ]
        },
        {
          "output_type": "stream",
          "name": "stdout",
          "text": [
            "Epoch 144/300, Loss: 0.01469577771973923\n"
          ]
        },
        {
          "output_type": "stream",
          "name": "stderr",
          "text": [
            "Epoch 145/300: 100%|███████████████████████████████████████████████████| 391/391 [01:14<00:00,  5.24batch/s, Loss=0.02]\n"
          ]
        },
        {
          "output_type": "stream",
          "name": "stdout",
          "text": [
            "Epoch 145/300, Loss: 0.020019554517228668\n"
          ]
        },
        {
          "output_type": "stream",
          "name": "stderr",
          "text": [
            "Epoch 146/300: 100%|█████████████████████████████████████████████████| 391/391 [01:14<00:00,  5.27batch/s, Loss=0.0343]\n"
          ]
        },
        {
          "output_type": "stream",
          "name": "stdout",
          "text": [
            "Epoch 146/300, Loss: 0.03427242730070621\n"
          ]
        },
        {
          "output_type": "stream",
          "name": "stderr",
          "text": [
            "Epoch 147/300: 100%|█████████████████████████████████████████████████| 391/391 [01:14<00:00,  5.25batch/s, Loss=0.0384]\n"
          ]
        },
        {
          "output_type": "stream",
          "name": "stdout",
          "text": [
            "Epoch 147/300, Loss: 0.038395916352837546\n"
          ]
        },
        {
          "output_type": "stream",
          "name": "stderr",
          "text": [
            "Epoch 148/300: 100%|█████████████████████████████████████████████████| 391/391 [01:14<00:00,  5.25batch/s, Loss=0.0259]\n"
          ]
        },
        {
          "output_type": "stream",
          "name": "stdout",
          "text": [
            "Epoch 148/300, Loss: 0.025855748698180685\n"
          ]
        },
        {
          "output_type": "stream",
          "name": "stderr",
          "text": [
            "Epoch 149/300: 100%|██████████████████████████████████████████████████| 391/391 [01:14<00:00,  5.26batch/s, Loss=0.025]\n"
          ]
        },
        {
          "output_type": "stream",
          "name": "stdout",
          "text": [
            "Epoch 149/300, Loss: 0.025007583177230105\n"
          ]
        },
        {
          "output_type": "stream",
          "name": "stderr",
          "text": [
            "Epoch 150/300: 100%|█████████████████████████████████████████████████| 391/391 [01:14<00:00,  5.24batch/s, Loss=0.0298]\n"
          ]
        },
        {
          "output_type": "stream",
          "name": "stdout",
          "text": [
            "Epoch 150/300, Loss: 0.02983834415573653\n"
          ]
        },
        {
          "output_type": "stream",
          "name": "stderr",
          "text": [
            "Epoch 151/300: 100%|█████████████████████████████████████████████████| 391/391 [01:14<00:00,  5.27batch/s, Loss=0.0362]\n"
          ]
        },
        {
          "output_type": "stream",
          "name": "stdout",
          "text": [
            "Epoch 151/300, Loss: 0.03619505363663745\n"
          ]
        },
        {
          "output_type": "stream",
          "name": "stderr",
          "text": [
            "Epoch 152/300: 100%|█████████████████████████████████████████████████| 391/391 [01:14<00:00,  5.24batch/s, Loss=0.0243]\n"
          ]
        },
        {
          "output_type": "stream",
          "name": "stdout",
          "text": [
            "Epoch 152/300, Loss: 0.024264111965866805\n"
          ]
        },
        {
          "output_type": "stream",
          "name": "stderr",
          "text": [
            "Epoch 153/300: 100%|█████████████████████████████████████████████████| 391/391 [01:14<00:00,  5.25batch/s, Loss=0.0255]\n"
          ]
        },
        {
          "output_type": "stream",
          "name": "stdout",
          "text": [
            "Epoch 153/300, Loss: 0.025531423646655966\n"
          ]
        },
        {
          "output_type": "stream",
          "name": "stderr",
          "text": [
            "Epoch 154/300: 100%|█████████████████████████████████████████████████| 391/391 [01:14<00:00,  5.22batch/s, Loss=0.0277]\n"
          ]
        },
        {
          "output_type": "stream",
          "name": "stdout",
          "text": [
            "Epoch 154/300, Loss: 0.027680618391020543\n"
          ]
        },
        {
          "output_type": "stream",
          "name": "stderr",
          "text": [
            "Epoch 155/300: 100%|█████████████████████████████████████████████████| 391/391 [01:15<00:00,  5.21batch/s, Loss=0.0208]\n"
          ]
        },
        {
          "output_type": "stream",
          "name": "stdout",
          "text": [
            "Epoch 155/300, Loss: 0.02084960897613665\n"
          ]
        },
        {
          "output_type": "stream",
          "name": "stderr",
          "text": [
            "Epoch 156/300: 100%|█████████████████████████████████████████████████| 391/391 [01:14<00:00,  5.22batch/s, Loss=0.0214]\n"
          ]
        },
        {
          "output_type": "stream",
          "name": "stdout",
          "text": [
            "Epoch 156/300, Loss: 0.021441036579101052\n"
          ]
        },
        {
          "output_type": "stream",
          "name": "stderr",
          "text": [
            "Epoch 157/300: 100%|█████████████████████████████████████████████████| 391/391 [01:15<00:00,  5.21batch/s, Loss=0.0288]\n"
          ]
        },
        {
          "output_type": "stream",
          "name": "stdout",
          "text": [
            "Epoch 157/300, Loss: 0.02879484718853788\n"
          ]
        },
        {
          "output_type": "stream",
          "name": "stderr",
          "text": [
            "Epoch 158/300: 100%|█████████████████████████████████████████████████| 391/391 [01:15<00:00,  5.20batch/s, Loss=0.0274]\n"
          ]
        },
        {
          "output_type": "stream",
          "name": "stdout",
          "text": [
            "Epoch 158/300, Loss: 0.027416052282392404\n"
          ]
        },
        {
          "output_type": "stream",
          "name": "stderr",
          "text": [
            "Epoch 159/300: 100%|█████████████████████████████████████████████████| 391/391 [01:15<00:00,  5.20batch/s, Loss=0.0304]\n"
          ]
        },
        {
          "output_type": "stream",
          "name": "stdout",
          "text": [
            "Epoch 159/300, Loss: 0.030367626176725213\n"
          ]
        },
        {
          "output_type": "stream",
          "name": "stderr",
          "text": [
            "Epoch 160/300: 100%|█████████████████████████████████████████████████| 391/391 [01:15<00:00,  5.19batch/s, Loss=0.0342]\n"
          ]
        },
        {
          "output_type": "stream",
          "name": "stdout",
          "text": [
            "Epoch 160/300, Loss: 0.034182785958130374\n"
          ]
        },
        {
          "output_type": "stream",
          "name": "stderr",
          "text": [
            "Epoch 161/300: 100%|█████████████████████████████████████████████████| 391/391 [01:15<00:00,  5.17batch/s, Loss=0.0325]\n"
          ]
        },
        {
          "output_type": "stream",
          "name": "stdout",
          "text": [
            "Epoch 161/300, Loss: 0.03253864053949029\n"
          ]
        },
        {
          "output_type": "stream",
          "name": "stderr",
          "text": [
            "Epoch 162/300: 100%|█████████████████████████████████████████████████| 391/391 [01:15<00:00,  5.18batch/s, Loss=0.0162]\n"
          ]
        },
        {
          "output_type": "stream",
          "name": "stdout",
          "text": [
            "Epoch 162/300, Loss: 0.016155125543737894\n"
          ]
        },
        {
          "output_type": "stream",
          "name": "stderr",
          "text": [
            "Epoch 163/300: 100%|████████████████████████████████████████████████| 391/391 [01:15<00:00,  5.16batch/s, Loss=0.00939]\n"
          ]
        },
        {
          "output_type": "stream",
          "name": "stdout",
          "text": [
            "Epoch 163/300, Loss: 0.009392457975819288\n"
          ]
        },
        {
          "output_type": "stream",
          "name": "stderr",
          "text": [
            "Epoch 164/300: 100%|█████████████████████████████████████████████████| 391/391 [01:15<00:00,  5.16batch/s, Loss=0.0264]\n"
          ]
        },
        {
          "output_type": "stream",
          "name": "stdout",
          "text": [
            "Epoch 164/300, Loss: 0.02640489365126559\n"
          ]
        },
        {
          "output_type": "stream",
          "name": "stderr",
          "text": [
            "Epoch 165/300: 100%|█████████████████████████████████████████████████| 391/391 [01:15<00:00,  5.19batch/s, Loss=0.0347]\n"
          ]
        },
        {
          "output_type": "stream",
          "name": "stdout",
          "text": [
            "Epoch 165/300, Loss: 0.03472482359857708\n"
          ]
        },
        {
          "output_type": "stream",
          "name": "stderr",
          "text": [
            "Epoch 166/300: 100%|█████████████████████████████████████████████████| 391/391 [01:15<00:00,  5.18batch/s, Loss=0.0301]\n"
          ]
        },
        {
          "output_type": "stream",
          "name": "stdout",
          "text": [
            "Epoch 166/300, Loss: 0.030115207304689282\n"
          ]
        },
        {
          "output_type": "stream",
          "name": "stderr",
          "text": [
            "Epoch 167/300: 100%|█████████████████████████████████████████████████| 391/391 [01:15<00:00,  5.15batch/s, Loss=0.0358]\n"
          ]
        },
        {
          "output_type": "stream",
          "name": "stdout",
          "text": [
            "Epoch 167/300, Loss: 0.035784135568143076\n"
          ]
        },
        {
          "output_type": "stream",
          "name": "stderr",
          "text": [
            "Epoch 168/300: 100%|█████████████████████████████████████████████████| 391/391 [01:15<00:00,  5.17batch/s, Loss=0.0233]\n"
          ]
        },
        {
          "output_type": "stream",
          "name": "stdout",
          "text": [
            "Epoch 168/300, Loss: 0.023323359263787827\n"
          ]
        },
        {
          "output_type": "stream",
          "name": "stderr",
          "text": [
            "Epoch 169/300: 100%|█████████████████████████████████████████████████| 391/391 [01:15<00:00,  5.16batch/s, Loss=0.0207]\n"
          ]
        },
        {
          "output_type": "stream",
          "name": "stdout",
          "text": [
            "Epoch 169/300, Loss: 0.02070073187522927\n"
          ]
        },
        {
          "output_type": "stream",
          "name": "stderr",
          "text": [
            "Epoch 170/300: 100%|█████████████████████████████████████████████████| 391/391 [01:15<00:00,  5.18batch/s, Loss=0.0249]\n"
          ]
        },
        {
          "output_type": "stream",
          "name": "stdout",
          "text": [
            "Epoch 170/300, Loss: 0.02490184693215683\n"
          ]
        },
        {
          "output_type": "stream",
          "name": "stderr",
          "text": [
            "Epoch 171/300: 100%|█████████████████████████████████████████████████| 391/391 [01:15<00:00,  5.17batch/s, Loss=0.0409]\n"
          ]
        },
        {
          "output_type": "stream",
          "name": "stdout",
          "text": [
            "Epoch 171/300, Loss: 0.04088918262457972\n"
          ]
        },
        {
          "output_type": "stream",
          "name": "stderr",
          "text": [
            "Epoch 172/300: 100%|█████████████████████████████████████████████████| 391/391 [01:15<00:00,  5.16batch/s, Loss=0.0365]\n"
          ]
        },
        {
          "output_type": "stream",
          "name": "stdout",
          "text": [
            "Epoch 172/300, Loss: 0.03651883473933389\n"
          ]
        },
        {
          "output_type": "stream",
          "name": "stderr",
          "text": [
            "Epoch 173/300: 100%|█████████████████████████████████████████████████| 391/391 [01:15<00:00,  5.17batch/s, Loss=0.0297]\n"
          ]
        },
        {
          "output_type": "stream",
          "name": "stdout",
          "text": [
            "Epoch 173/300, Loss: 0.02970345203600516\n"
          ]
        },
        {
          "output_type": "stream",
          "name": "stderr",
          "text": [
            "Epoch 174/300: 100%|█████████████████████████████████████████████████| 391/391 [01:15<00:00,  5.15batch/s, Loss=0.0316]\n"
          ]
        },
        {
          "output_type": "stream",
          "name": "stdout",
          "text": [
            "Epoch 174/300, Loss: 0.03158905014404244\n"
          ]
        },
        {
          "output_type": "stream",
          "name": "stderr",
          "text": [
            "Epoch 175/300: 100%|█████████████████████████████████████████████████| 391/391 [01:15<00:00,  5.16batch/s, Loss=0.0217]\n"
          ]
        },
        {
          "output_type": "stream",
          "name": "stdout",
          "text": [
            "Epoch 175/300, Loss: 0.021707737858633305\n"
          ]
        },
        {
          "output_type": "stream",
          "name": "stderr",
          "text": [
            "Epoch 176/300: 100%|█████████████████████████████████████████████████| 391/391 [01:15<00:00,  5.16batch/s, Loss=0.0219]\n"
          ]
        },
        {
          "output_type": "stream",
          "name": "stdout",
          "text": [
            "Epoch 176/300, Loss: 0.021895150674171724\n"
          ]
        },
        {
          "output_type": "stream",
          "name": "stderr",
          "text": [
            "Epoch 177/300: 100%|█████████████████████████████████████████████████| 391/391 [01:15<00:00,  5.16batch/s, Loss=0.0236]\n"
          ]
        },
        {
          "output_type": "stream",
          "name": "stdout",
          "text": [
            "Epoch 177/300, Loss: 0.023639069405740946\n"
          ]
        },
        {
          "output_type": "stream",
          "name": "stderr",
          "text": [
            "Epoch 178/300: 100%|█████████████████████████████████████████████████| 391/391 [01:15<00:00,  5.16batch/s, Loss=0.0396]\n"
          ]
        },
        {
          "output_type": "stream",
          "name": "stdout",
          "text": [
            "Epoch 178/300, Loss: 0.03956777112419677\n"
          ]
        },
        {
          "output_type": "stream",
          "name": "stderr",
          "text": [
            "Epoch 179/300: 100%|█████████████████████████████████████████████████| 391/391 [01:15<00:00,  5.15batch/s, Loss=0.0427]\n"
          ]
        },
        {
          "output_type": "stream",
          "name": "stdout",
          "text": [
            "Epoch 179/300, Loss: 0.04271018604950357\n"
          ]
        },
        {
          "output_type": "stream",
          "name": "stderr",
          "text": [
            "Epoch 180/300: 100%|█████████████████████████████████████████████████| 391/391 [01:15<00:00,  5.15batch/s, Loss=0.0367]\n"
          ]
        },
        {
          "output_type": "stream",
          "name": "stdout",
          "text": [
            "Epoch 180/300, Loss: 0.03666772884834926\n"
          ]
        },
        {
          "output_type": "stream",
          "name": "stderr",
          "text": [
            "Epoch 181/300: 100%|█████████████████████████████████████████████████| 391/391 [01:15<00:00,  5.16batch/s, Loss=0.0228]\n"
          ]
        },
        {
          "output_type": "stream",
          "name": "stdout",
          "text": [
            "Epoch 181/300, Loss: 0.02277726631440647\n"
          ]
        },
        {
          "output_type": "stream",
          "name": "stderr",
          "text": [
            "Epoch 182/300: 100%|█████████████████████████████████████████████████| 391/391 [01:15<00:00,  5.16batch/s, Loss=0.0198]\n"
          ]
        },
        {
          "output_type": "stream",
          "name": "stdout",
          "text": [
            "Epoch 182/300, Loss: 0.019777551077566104\n"
          ]
        },
        {
          "output_type": "stream",
          "name": "stderr",
          "text": [
            "Epoch 183/300: 100%|█████████████████████████████████████████████████| 391/391 [01:15<00:00,  5.16batch/s, Loss=0.0286]\n"
          ]
        },
        {
          "output_type": "stream",
          "name": "stdout",
          "text": [
            "Epoch 183/300, Loss: 0.028637328376679257\n"
          ]
        },
        {
          "output_type": "stream",
          "name": "stderr",
          "text": [
            "Epoch 184/300: 100%|█████████████████████████████████████████████████| 391/391 [01:15<00:00,  5.16batch/s, Loss=0.0318]\n"
          ]
        },
        {
          "output_type": "stream",
          "name": "stdout",
          "text": [
            "Epoch 184/300, Loss: 0.03177622269656804\n"
          ]
        },
        {
          "output_type": "stream",
          "name": "stderr",
          "text": [
            "Epoch 185/300: 100%|█████████████████████████████████████████████████| 391/391 [01:15<00:00,  5.16batch/s, Loss=0.0285]\n"
          ]
        },
        {
          "output_type": "stream",
          "name": "stdout",
          "text": [
            "Epoch 185/300, Loss: 0.02851608831674233\n"
          ]
        },
        {
          "output_type": "stream",
          "name": "stderr",
          "text": [
            "Epoch 186/300: 100%|█████████████████████████████████████████████████| 391/391 [01:15<00:00,  5.16batch/s, Loss=0.0312]\n"
          ]
        },
        {
          "output_type": "stream",
          "name": "stdout",
          "text": [
            "Epoch 186/300, Loss: 0.031231587596915265\n"
          ]
        },
        {
          "output_type": "stream",
          "name": "stderr",
          "text": [
            "Epoch 187/300: 100%|█████████████████████████████████████████████████| 391/391 [01:15<00:00,  5.15batch/s, Loss=0.0209]\n"
          ]
        },
        {
          "output_type": "stream",
          "name": "stdout",
          "text": [
            "Epoch 187/300, Loss: 0.020874119853704427\n"
          ]
        },
        {
          "output_type": "stream",
          "name": "stderr",
          "text": [
            "Epoch 188/300: 100%|█████████████████████████████████████████████████| 391/391 [01:15<00:00,  5.15batch/s, Loss=0.0355]\n"
          ]
        },
        {
          "output_type": "stream",
          "name": "stdout",
          "text": [
            "Epoch 188/300, Loss: 0.035460954313975696\n"
          ]
        },
        {
          "output_type": "stream",
          "name": "stderr",
          "text": [
            "Epoch 189/300: 100%|█████████████████████████████████████████████████| 391/391 [01:15<00:00,  5.15batch/s, Loss=0.0271]\n"
          ]
        },
        {
          "output_type": "stream",
          "name": "stdout",
          "text": [
            "Epoch 189/300, Loss: 0.02711637052911536\n"
          ]
        },
        {
          "output_type": "stream",
          "name": "stderr",
          "text": [
            "Epoch 190/300: 100%|█████████████████████████████████████████████████| 391/391 [01:15<00:00,  5.15batch/s, Loss=0.0232]\n"
          ]
        },
        {
          "output_type": "stream",
          "name": "stdout",
          "text": [
            "Epoch 190/300, Loss: 0.023167606105216558\n"
          ]
        },
        {
          "output_type": "stream",
          "name": "stderr",
          "text": [
            "Epoch 191/300: 100%|█████████████████████████████████████████████████| 391/391 [01:16<00:00,  5.14batch/s, Loss=0.0268]\n"
          ]
        },
        {
          "output_type": "stream",
          "name": "stdout",
          "text": [
            "Epoch 191/300, Loss: 0.026789550403782898\n"
          ]
        },
        {
          "output_type": "stream",
          "name": "stderr",
          "text": [
            "Epoch 192/300: 100%|█████████████████████████████████████████████████| 391/391 [01:15<00:00,  5.15batch/s, Loss=0.0403]\n"
          ]
        },
        {
          "output_type": "stream",
          "name": "stdout",
          "text": [
            "Epoch 192/300, Loss: 0.04032504600768621\n"
          ]
        },
        {
          "output_type": "stream",
          "name": "stderr",
          "text": [
            "Epoch 193/300: 100%|█████████████████████████████████████████████████| 391/391 [01:16<00:00,  5.10batch/s, Loss=0.0298]\n"
          ]
        },
        {
          "output_type": "stream",
          "name": "stdout",
          "text": [
            "Epoch 193/300, Loss: 0.029805986209199095\n"
          ]
        },
        {
          "output_type": "stream",
          "name": "stderr",
          "text": [
            "Epoch 194/300: 100%|█████████████████████████████████████████████████| 391/391 [01:18<00:00,  4.98batch/s, Loss=0.0314]\n"
          ]
        },
        {
          "output_type": "stream",
          "name": "stdout",
          "text": [
            "Epoch 194/300, Loss: 0.03143757166920375\n"
          ]
        },
        {
          "output_type": "stream",
          "name": "stderr",
          "text": [
            "Epoch 195/300: 100%|█████████████████████████████████████████████████| 391/391 [01:15<00:00,  5.15batch/s, Loss=0.0227]\n"
          ]
        },
        {
          "output_type": "stream",
          "name": "stdout",
          "text": [
            "Epoch 195/300, Loss: 0.022661805692490437\n"
          ]
        },
        {
          "output_type": "stream",
          "name": "stderr",
          "text": [
            "Epoch 196/300: 100%|█████████████████████████████████████████████████| 391/391 [01:15<00:00,  5.15batch/s, Loss=0.0288]\n"
          ]
        },
        {
          "output_type": "stream",
          "name": "stdout",
          "text": [
            "Epoch 196/300, Loss: 0.028840944450188616\n"
          ]
        },
        {
          "output_type": "stream",
          "name": "stderr",
          "text": [
            "Epoch 197/300: 100%|█████████████████████████████████████████████████| 391/391 [01:15<00:00,  5.15batch/s, Loss=0.0257]\n"
          ]
        },
        {
          "output_type": "stream",
          "name": "stdout",
          "text": [
            "Epoch 197/300, Loss: 0.025662483864089793\n"
          ]
        },
        {
          "output_type": "stream",
          "name": "stderr",
          "text": [
            "Epoch 198/300: 100%|█████████████████████████████████████████████████| 391/391 [01:16<00:00,  5.14batch/s, Loss=0.0426]\n"
          ]
        },
        {
          "output_type": "stream",
          "name": "stdout",
          "text": [
            "Epoch 198/300, Loss: 0.042607762882931347\n"
          ]
        },
        {
          "output_type": "stream",
          "name": "stderr",
          "text": [
            "Epoch 199/300: 100%|█████████████████████████████████████████████████| 391/391 [01:16<00:00,  5.14batch/s, Loss=0.0265]\n"
          ]
        },
        {
          "output_type": "stream",
          "name": "stdout",
          "text": [
            "Epoch 199/300, Loss: 0.02646101808720954\n"
          ]
        },
        {
          "output_type": "stream",
          "name": "stderr",
          "text": [
            "Epoch 200/300: 100%|█████████████████████████████████████████████████| 391/391 [01:16<00:00,  5.14batch/s, Loss=0.0388]\n"
          ]
        },
        {
          "output_type": "stream",
          "name": "stdout",
          "text": [
            "Epoch 200/300, Loss: 0.03879047519634064\n"
          ]
        },
        {
          "output_type": "stream",
          "name": "stderr",
          "text": [
            "Epoch 201/300: 100%|██████████████████████████████████████████████████| 391/391 [01:15<00:00,  5.15batch/s, Loss=0.036]\n"
          ]
        },
        {
          "output_type": "stream",
          "name": "stdout",
          "text": [
            "Epoch 201/300, Loss: 0.03602989244212401\n"
          ]
        },
        {
          "output_type": "stream",
          "name": "stderr",
          "text": [
            "Epoch 202/300: 100%|█████████████████████████████████████████████████| 391/391 [01:16<00:00,  5.14batch/s, Loss=0.0398]\n"
          ]
        },
        {
          "output_type": "stream",
          "name": "stdout",
          "text": [
            "Epoch 202/300, Loss: 0.03981444358680693\n"
          ]
        },
        {
          "output_type": "stream",
          "name": "stderr",
          "text": [
            "Epoch 203/300: 100%|█████████████████████████████████████████████████| 391/391 [01:15<00:00,  5.15batch/s, Loss=0.0185]\n"
          ]
        },
        {
          "output_type": "stream",
          "name": "stdout",
          "text": [
            "Epoch 203/300, Loss: 0.018459852573390317\n"
          ]
        },
        {
          "output_type": "stream",
          "name": "stderr",
          "text": [
            "Epoch 204/300: 100%|█████████████████████████████████████████████████| 391/391 [01:15<00:00,  5.15batch/s, Loss=0.0238]\n"
          ]
        },
        {
          "output_type": "stream",
          "name": "stdout",
          "text": [
            "Epoch 204/300, Loss: 0.02384918955039677\n"
          ]
        },
        {
          "output_type": "stream",
          "name": "stderr",
          "text": [
            "Epoch 205/300: 100%|█████████████████████████████████████████████████| 391/391 [01:15<00:00,  5.15batch/s, Loss=0.0389]\n"
          ]
        },
        {
          "output_type": "stream",
          "name": "stdout",
          "text": [
            "Epoch 205/300, Loss: 0.038862141952752165\n"
          ]
        },
        {
          "output_type": "stream",
          "name": "stderr",
          "text": [
            "Epoch 206/300: 100%|█████████████████████████████████████████████████| 391/391 [01:16<00:00,  5.14batch/s, Loss=0.0423]\n"
          ]
        },
        {
          "output_type": "stream",
          "name": "stdout",
          "text": [
            "Epoch 206/300, Loss: 0.04231895883577774\n"
          ]
        },
        {
          "output_type": "stream",
          "name": "stderr",
          "text": [
            "Epoch 207/300: 100%|█████████████████████████████████████████████████| 391/391 [01:16<00:00,  5.14batch/s, Loss=0.0361]\n"
          ]
        },
        {
          "output_type": "stream",
          "name": "stdout",
          "text": [
            "Epoch 207/300, Loss: 0.03609016113184878\n"
          ]
        },
        {
          "output_type": "stream",
          "name": "stderr",
          "text": [
            "Epoch 208/300: 100%|█████████████████████████████████████████████████| 391/391 [01:16<00:00,  5.14batch/s, Loss=0.0288]\n"
          ]
        },
        {
          "output_type": "stream",
          "name": "stdout",
          "text": [
            "Epoch 208/300, Loss: 0.02881030438793545\n"
          ]
        },
        {
          "output_type": "stream",
          "name": "stderr",
          "text": [
            "Epoch 209/300: 100%|█████████████████████████████████████████████████| 391/391 [01:16<00:00,  5.14batch/s, Loss=0.0261]\n"
          ]
        },
        {
          "output_type": "stream",
          "name": "stdout",
          "text": [
            "Epoch 209/300, Loss: 0.026065296725406997\n"
          ]
        },
        {
          "output_type": "stream",
          "name": "stderr",
          "text": [
            "Epoch 210/300: 100%|█████████████████████████████████████████████████| 391/391 [01:15<00:00,  5.15batch/s, Loss=0.0393]\n"
          ]
        },
        {
          "output_type": "stream",
          "name": "stdout",
          "text": [
            "Epoch 210/300, Loss: 0.03932738106854927\n"
          ]
        },
        {
          "output_type": "stream",
          "name": "stderr",
          "text": [
            "Epoch 211/300: 100%|█████████████████████████████████████████████████| 391/391 [01:15<00:00,  5.15batch/s, Loss=0.0377]\n"
          ]
        },
        {
          "output_type": "stream",
          "name": "stdout",
          "text": [
            "Epoch 211/300, Loss: 0.03765544642930338\n"
          ]
        },
        {
          "output_type": "stream",
          "name": "stderr",
          "text": [
            "Epoch 212/300: 100%|██████████████████████████████████████████████████| 391/391 [01:15<00:00,  5.15batch/s, Loss=0.037]\n"
          ]
        },
        {
          "output_type": "stream",
          "name": "stdout",
          "text": [
            "Epoch 212/300, Loss: 0.03702303630636127\n"
          ]
        },
        {
          "output_type": "stream",
          "name": "stderr",
          "text": [
            "Epoch 213/300: 100%|█████████████████████████████████████████████████| 391/391 [01:15<00:00,  5.15batch/s, Loss=0.0274]\n"
          ]
        },
        {
          "output_type": "stream",
          "name": "stdout",
          "text": [
            "Epoch 213/300, Loss: 0.027413117230004298\n"
          ]
        },
        {
          "output_type": "stream",
          "name": "stderr",
          "text": [
            "Epoch 214/300: 100%|█████████████████████████████████████████████████| 391/391 [01:15<00:00,  5.15batch/s, Loss=0.0253]\n"
          ]
        },
        {
          "output_type": "stream",
          "name": "stdout",
          "text": [
            "Epoch 214/300, Loss: 0.02534920838609514\n"
          ]
        },
        {
          "output_type": "stream",
          "name": "stderr",
          "text": [
            "Epoch 215/300: 100%|██████████████████████████████████████████████████| 391/391 [01:15<00:00,  5.15batch/s, Loss=0.036]\n"
          ]
        },
        {
          "output_type": "stream",
          "name": "stdout",
          "text": [
            "Epoch 215/300, Loss: 0.03603882068378271\n"
          ]
        },
        {
          "output_type": "stream",
          "name": "stderr",
          "text": [
            "Epoch 216/300: 100%|█████████████████████████████████████████████████| 391/391 [01:15<00:00,  5.15batch/s, Loss=0.0373]\n"
          ]
        },
        {
          "output_type": "stream",
          "name": "stdout",
          "text": [
            "Epoch 216/300, Loss: 0.03726479413259336\n"
          ]
        },
        {
          "output_type": "stream",
          "name": "stderr",
          "text": [
            "Epoch 217/300: 100%|█████████████████████████████████████████████████| 391/391 [01:15<00:00,  5.15batch/s, Loss=0.0377]\n"
          ]
        },
        {
          "output_type": "stream",
          "name": "stdout",
          "text": [
            "Epoch 217/300, Loss: 0.03766774803588014\n"
          ]
        },
        {
          "output_type": "stream",
          "name": "stderr",
          "text": [
            "Epoch 218/300: 100%|█████████████████████████████████████████████████| 391/391 [01:15<00:00,  5.15batch/s, Loss=0.0352]\n"
          ]
        },
        {
          "output_type": "stream",
          "name": "stdout",
          "text": [
            "Epoch 218/300, Loss: 0.03519051693954444\n"
          ]
        },
        {
          "output_type": "stream",
          "name": "stderr",
          "text": [
            "Epoch 219/300: 100%|█████████████████████████████████████████████████| 391/391 [01:15<00:00,  5.15batch/s, Loss=0.0262]\n"
          ]
        },
        {
          "output_type": "stream",
          "name": "stdout",
          "text": [
            "Epoch 219/300, Loss: 0.02620205218430989\n"
          ]
        },
        {
          "output_type": "stream",
          "name": "stderr",
          "text": [
            "Epoch 220/300: 100%|█████████████████████████████████████████████████| 391/391 [01:16<00:00,  5.14batch/s, Loss=0.0379]\n"
          ]
        },
        {
          "output_type": "stream",
          "name": "stdout",
          "text": [
            "Epoch 220/300, Loss: 0.03790208562318535\n"
          ]
        },
        {
          "output_type": "stream",
          "name": "stderr",
          "text": [
            "Epoch 221/300: 100%|█████████████████████████████████████████████████| 391/391 [01:16<00:00,  5.14batch/s, Loss=0.0416]\n"
          ]
        },
        {
          "output_type": "stream",
          "name": "stdout",
          "text": [
            "Epoch 221/300, Loss: 0.04159061400154625\n"
          ]
        },
        {
          "output_type": "stream",
          "name": "stderr",
          "text": [
            "Epoch 222/300: 100%|█████████████████████████████████████████████████| 391/391 [01:15<00:00,  5.15batch/s, Loss=0.0245]\n"
          ]
        },
        {
          "output_type": "stream",
          "name": "stdout",
          "text": [
            "Epoch 222/300, Loss: 0.024505738186730675\n"
          ]
        },
        {
          "output_type": "stream",
          "name": "stderr",
          "text": [
            "Epoch 223/300: 100%|█████████████████████████████████████████████████| 391/391 [01:15<00:00,  5.15batch/s, Loss=0.0259]\n"
          ]
        },
        {
          "output_type": "stream",
          "name": "stdout",
          "text": [
            "Epoch 223/300, Loss: 0.025876736203710688\n"
          ]
        },
        {
          "output_type": "stream",
          "name": "stderr",
          "text": [
            "Epoch 224/300: 100%|█████████████████████████████████████████████████| 391/391 [01:16<00:00,  5.14batch/s, Loss=0.0327]\n"
          ]
        },
        {
          "output_type": "stream",
          "name": "stdout",
          "text": [
            "Epoch 224/300, Loss: 0.03268878436907953\n"
          ]
        },
        {
          "output_type": "stream",
          "name": "stderr",
          "text": [
            "Epoch 225/300: 100%|█████████████████████████████████████████████████| 391/391 [01:15<00:00,  5.15batch/s, Loss=0.0226]\n"
          ]
        },
        {
          "output_type": "stream",
          "name": "stdout",
          "text": [
            "Epoch 225/300, Loss: 0.022647849097109707\n"
          ]
        },
        {
          "output_type": "stream",
          "name": "stderr",
          "text": [
            "Epoch 226/300: 100%|█████████████████████████████████████████████████| 391/391 [01:15<00:00,  5.15batch/s, Loss=0.0492]\n"
          ]
        },
        {
          "output_type": "stream",
          "name": "stdout",
          "text": [
            "Epoch 226/300, Loss: 0.04916548787162208\n"
          ]
        },
        {
          "output_type": "stream",
          "name": "stderr",
          "text": [
            "Epoch 227/300: 100%|█████████████████████████████████████████████████| 391/391 [01:15<00:00,  5.15batch/s, Loss=0.0351]\n"
          ]
        },
        {
          "output_type": "stream",
          "name": "stdout",
          "text": [
            "Epoch 227/300, Loss: 0.03506369123375405\n"
          ]
        },
        {
          "output_type": "stream",
          "name": "stderr",
          "text": [
            "Epoch 228/300: 100%|██████████████████████████████████████████████████| 391/391 [01:15<00:00,  5.14batch/s, Loss=0.042]\n"
          ]
        },
        {
          "output_type": "stream",
          "name": "stdout",
          "text": [
            "Epoch 228/300, Loss: 0.042038197177212605\n"
          ]
        },
        {
          "output_type": "stream",
          "name": "stderr",
          "text": [
            "Epoch 229/300: 100%|█████████████████████████████████████████████████| 391/391 [01:15<00:00,  5.15batch/s, Loss=0.0339]\n"
          ]
        },
        {
          "output_type": "stream",
          "name": "stdout",
          "text": [
            "Epoch 229/300, Loss: 0.03389579432584727\n"
          ]
        },
        {
          "output_type": "stream",
          "name": "stderr",
          "text": [
            "Epoch 230/300: 100%|█████████████████████████████████████████████████| 391/391 [01:15<00:00,  5.16batch/s, Loss=0.0257]\n"
          ]
        },
        {
          "output_type": "stream",
          "name": "stdout",
          "text": [
            "Epoch 230/300, Loss: 0.025738509016915687\n"
          ]
        },
        {
          "output_type": "stream",
          "name": "stderr",
          "text": [
            "Epoch 231/300: 100%|██████████████████████████████████████████████████| 391/391 [01:16<00:00,  5.14batch/s, Loss=0.041]\n"
          ]
        },
        {
          "output_type": "stream",
          "name": "stdout",
          "text": [
            "Epoch 231/300, Loss: 0.04103065741415041\n"
          ]
        },
        {
          "output_type": "stream",
          "name": "stderr",
          "text": [
            "Epoch 232/300: 100%|█████████████████████████████████████████████████| 391/391 [01:15<00:00,  5.16batch/s, Loss=0.0389]\n"
          ]
        },
        {
          "output_type": "stream",
          "name": "stdout",
          "text": [
            "Epoch 232/300, Loss: 0.03890573185867559\n"
          ]
        },
        {
          "output_type": "stream",
          "name": "stderr",
          "text": [
            "Epoch 233/300: 100%|█████████████████████████████████████████████████| 391/391 [01:15<00:00,  5.15batch/s, Loss=0.0287]\n"
          ]
        },
        {
          "output_type": "stream",
          "name": "stdout",
          "text": [
            "Epoch 233/300, Loss: 0.028726135333887133\n"
          ]
        },
        {
          "output_type": "stream",
          "name": "stderr",
          "text": [
            "Epoch 234/300: 100%|█████████████████████████████████████████████████| 391/391 [01:15<00:00,  5.15batch/s, Loss=0.0266]\n"
          ]
        },
        {
          "output_type": "stream",
          "name": "stdout",
          "text": [
            "Epoch 234/300, Loss: 0.02659605014145279\n"
          ]
        },
        {
          "output_type": "stream",
          "name": "stderr",
          "text": [
            "Epoch 235/300: 100%|█████████████████████████████████████████████████| 391/391 [01:16<00:00,  5.14batch/s, Loss=0.0304]\n"
          ]
        },
        {
          "output_type": "stream",
          "name": "stdout",
          "text": [
            "Epoch 235/300, Loss: 0.03036622978732042\n"
          ]
        },
        {
          "output_type": "stream",
          "name": "stderr",
          "text": [
            "Epoch 236/300: 100%|█████████████████████████████████████████████████| 391/391 [01:16<00:00,  5.13batch/s, Loss=0.0366]\n"
          ]
        },
        {
          "output_type": "stream",
          "name": "stdout",
          "text": [
            "Epoch 236/300, Loss: 0.03662018759468797\n"
          ]
        },
        {
          "output_type": "stream",
          "name": "stderr",
          "text": [
            "Epoch 237/300: 100%|█████████████████████████████████████████████████| 391/391 [01:15<00:00,  5.16batch/s, Loss=0.0336]\n"
          ]
        },
        {
          "output_type": "stream",
          "name": "stdout",
          "text": [
            "Epoch 237/300, Loss: 0.03357798539717373\n"
          ]
        },
        {
          "output_type": "stream",
          "name": "stderr",
          "text": [
            "Epoch 238/300: 100%|██████████████████████████████████████████████████| 391/391 [01:16<00:00,  5.14batch/s, Loss=0.046]\n"
          ]
        },
        {
          "output_type": "stream",
          "name": "stdout",
          "text": [
            "Epoch 238/300, Loss: 0.045980878201324106\n"
          ]
        },
        {
          "output_type": "stream",
          "name": "stderr",
          "text": [
            "Epoch 239/300: 100%|█████████████████████████████████████████████████| 391/391 [01:15<00:00,  5.16batch/s, Loss=0.0365]\n"
          ]
        },
        {
          "output_type": "stream",
          "name": "stdout",
          "text": [
            "Epoch 239/300, Loss: 0.036520349325055754\n"
          ]
        },
        {
          "output_type": "stream",
          "name": "stderr",
          "text": [
            "Epoch 240/300: 100%|██████████████████████████████████████████████████| 391/391 [01:16<00:00,  5.13batch/s, Loss=0.043]\n"
          ]
        },
        {
          "output_type": "stream",
          "name": "stdout",
          "text": [
            "Epoch 240/300, Loss: 0.043045124910987234\n"
          ]
        },
        {
          "output_type": "stream",
          "name": "stderr",
          "text": [
            "Epoch 241/300: 100%|█████████████████████████████████████████████████| 391/391 [01:15<00:00,  5.15batch/s, Loss=0.0342]\n"
          ]
        },
        {
          "output_type": "stream",
          "name": "stdout",
          "text": [
            "Epoch 241/300, Loss: 0.03422676707153522\n"
          ]
        },
        {
          "output_type": "stream",
          "name": "stderr",
          "text": [
            "Epoch 242/300: 100%|█████████████████████████████████████████████████| 391/391 [01:15<00:00,  5.15batch/s, Loss=0.0325]\n"
          ]
        },
        {
          "output_type": "stream",
          "name": "stdout",
          "text": [
            "Epoch 242/300, Loss: 0.03249736661669761\n"
          ]
        },
        {
          "output_type": "stream",
          "name": "stderr",
          "text": [
            "Epoch 243/300: 100%|█████████████████████████████████████████████████| 391/391 [01:16<00:00,  5.14batch/s, Loss=0.0328]\n"
          ]
        },
        {
          "output_type": "stream",
          "name": "stdout",
          "text": [
            "Epoch 243/300, Loss: 0.032816533088815464\n"
          ]
        },
        {
          "output_type": "stream",
          "name": "stderr",
          "text": [
            "Epoch 244/300: 100%|█████████████████████████████████████████████████| 391/391 [01:15<00:00,  5.16batch/s, Loss=0.0463]\n"
          ]
        },
        {
          "output_type": "stream",
          "name": "stdout",
          "text": [
            "Epoch 244/300, Loss: 0.046278756698532215\n"
          ]
        },
        {
          "output_type": "stream",
          "name": "stderr",
          "text": [
            "Epoch 245/300: 100%|█████████████████████████████████████████████████| 391/391 [01:15<00:00,  5.15batch/s, Loss=0.0434]\n"
          ]
        },
        {
          "output_type": "stream",
          "name": "stdout",
          "text": [
            "Epoch 245/300, Loss: 0.04336409437520602\n"
          ]
        },
        {
          "output_type": "stream",
          "name": "stderr",
          "text": [
            "Epoch 246/300: 100%|█████████████████████████████████████████████████| 391/391 [01:16<00:00,  5.14batch/s, Loss=0.0284]\n"
          ]
        },
        {
          "output_type": "stream",
          "name": "stdout",
          "text": [
            "Epoch 246/300, Loss: 0.02838124405134667\n"
          ]
        },
        {
          "output_type": "stream",
          "name": "stderr",
          "text": [
            "Epoch 247/300: 100%|█████████████████████████████████████████████████| 391/391 [01:15<00:00,  5.15batch/s, Loss=0.0283]\n"
          ]
        },
        {
          "output_type": "stream",
          "name": "stdout",
          "text": [
            "Epoch 247/300, Loss: 0.02831484391783521\n"
          ]
        },
        {
          "output_type": "stream",
          "name": "stderr",
          "text": [
            "Epoch 248/300: 100%|█████████████████████████████████████████████████| 391/391 [01:16<00:00,  5.14batch/s, Loss=0.0387]\n"
          ]
        },
        {
          "output_type": "stream",
          "name": "stdout",
          "text": [
            "Epoch 248/300, Loss: 0.038717006699766986\n"
          ]
        },
        {
          "output_type": "stream",
          "name": "stderr",
          "text": [
            "Epoch 249/300: 100%|█████████████████████████████████████████████████| 391/391 [01:15<00:00,  5.15batch/s, Loss=0.0419]\n"
          ]
        },
        {
          "output_type": "stream",
          "name": "stdout",
          "text": [
            "Epoch 249/300, Loss: 0.04194169729275549\n"
          ]
        },
        {
          "output_type": "stream",
          "name": "stderr",
          "text": [
            "Epoch 250/300: 100%|█████████████████████████████████████████████████| 391/391 [01:15<00:00,  5.15batch/s, Loss=0.0399]\n"
          ]
        },
        {
          "output_type": "stream",
          "name": "stdout",
          "text": [
            "Epoch 250/300, Loss: 0.03993275291417259\n"
          ]
        },
        {
          "output_type": "stream",
          "name": "stderr",
          "text": [
            "Epoch 251/300: 100%|█████████████████████████████████████████████████| 391/391 [01:15<00:00,  5.15batch/s, Loss=0.0345]\n"
          ]
        },
        {
          "output_type": "stream",
          "name": "stdout",
          "text": [
            "Epoch 251/300, Loss: 0.03452201927131784\n"
          ]
        },
        {
          "output_type": "stream",
          "name": "stderr",
          "text": [
            "Epoch 252/300: 100%|█████████████████████████████████████████████████| 391/391 [01:16<00:00,  5.14batch/s, Loss=0.0261]\n"
          ]
        },
        {
          "output_type": "stream",
          "name": "stdout",
          "text": [
            "Epoch 252/300, Loss: 0.026109037588384554\n"
          ]
        },
        {
          "output_type": "stream",
          "name": "stderr",
          "text": [
            "Epoch 253/300: 100%|█████████████████████████████████████████████████| 391/391 [01:15<00:00,  5.17batch/s, Loss=0.0426]\n"
          ]
        },
        {
          "output_type": "stream",
          "name": "stdout",
          "text": [
            "Epoch 253/300, Loss: 0.0425888684500742\n"
          ]
        },
        {
          "output_type": "stream",
          "name": "stderr",
          "text": [
            "Epoch 254/300: 100%|█████████████████████████████████████████████████| 391/391 [01:15<00:00,  5.15batch/s, Loss=0.0203]\n"
          ]
        },
        {
          "output_type": "stream",
          "name": "stdout",
          "text": [
            "Epoch 254/300, Loss: 0.020334406536302835\n"
          ]
        },
        {
          "output_type": "stream",
          "name": "stderr",
          "text": [
            "Epoch 255/300: 100%|█████████████████████████████████████████████████| 391/391 [01:16<00:00,  5.13batch/s, Loss=0.0405]\n"
          ]
        },
        {
          "output_type": "stream",
          "name": "stdout",
          "text": [
            "Epoch 255/300, Loss: 0.04048944274202529\n"
          ]
        },
        {
          "output_type": "stream",
          "name": "stderr",
          "text": [
            "Epoch 256/300: 100%|█████████████████████████████████████████████████| 391/391 [01:15<00:00,  5.15batch/s, Loss=0.0516]\n"
          ]
        },
        {
          "output_type": "stream",
          "name": "stdout",
          "text": [
            "Epoch 256/300, Loss: 0.0515503977175019\n"
          ]
        },
        {
          "output_type": "stream",
          "name": "stderr",
          "text": [
            "Epoch 257/300: 100%|██████████████████████████████████████████████████| 391/391 [01:15<00:00,  5.15batch/s, Loss=0.044]\n"
          ]
        },
        {
          "output_type": "stream",
          "name": "stdout",
          "text": [
            "Epoch 257/300, Loss: 0.04398304638729319\n"
          ]
        },
        {
          "output_type": "stream",
          "name": "stderr",
          "text": [
            "Epoch 258/300: 100%|█████████████████████████████████████████████████| 391/391 [01:15<00:00,  5.15batch/s, Loss=0.0401]\n"
          ]
        },
        {
          "output_type": "stream",
          "name": "stdout",
          "text": [
            "Epoch 258/300, Loss: 0.04007619113779714\n"
          ]
        },
        {
          "output_type": "stream",
          "name": "stderr",
          "text": [
            "Epoch 259/300: 100%|█████████████████████████████████████████████████| 391/391 [01:15<00:00,  5.15batch/s, Loss=0.0341]\n"
          ]
        },
        {
          "output_type": "stream",
          "name": "stdout",
          "text": [
            "Epoch 259/300, Loss: 0.034091683746223164\n"
          ]
        },
        {
          "output_type": "stream",
          "name": "stderr",
          "text": [
            "Epoch 260/300: 100%|█████████████████████████████████████████████████| 391/391 [01:15<00:00,  5.15batch/s, Loss=0.0325]\n"
          ]
        },
        {
          "output_type": "stream",
          "name": "stdout",
          "text": [
            "Epoch 260/300, Loss: 0.03250988776546607\n"
          ]
        },
        {
          "output_type": "stream",
          "name": "stderr",
          "text": [
            "Epoch 261/300: 100%|█████████████████████████████████████████████████| 391/391 [01:15<00:00,  5.15batch/s, Loss=0.0389]\n"
          ]
        },
        {
          "output_type": "stream",
          "name": "stdout",
          "text": [
            "Epoch 261/300, Loss: 0.038858909508832265\n"
          ]
        },
        {
          "output_type": "stream",
          "name": "stderr",
          "text": [
            "Epoch 262/300: 100%|█████████████████████████████████████████████████| 391/391 [01:15<00:00,  5.15batch/s, Loss=0.0375]\n"
          ]
        },
        {
          "output_type": "stream",
          "name": "stdout",
          "text": [
            "Epoch 262/300, Loss: 0.0375268394681736\n"
          ]
        },
        {
          "output_type": "stream",
          "name": "stderr",
          "text": [
            "Epoch 263/300: 100%|█████████████████████████████████████████████████| 391/391 [01:15<00:00,  5.16batch/s, Loss=0.0322]\n"
          ]
        },
        {
          "output_type": "stream",
          "name": "stdout",
          "text": [
            "Epoch 263/300, Loss: 0.03223084087701781\n"
          ]
        },
        {
          "output_type": "stream",
          "name": "stderr",
          "text": [
            "Epoch 264/300: 100%|█████████████████████████████████████████████████| 391/391 [01:15<00:00,  5.15batch/s, Loss=0.0575]\n"
          ]
        },
        {
          "output_type": "stream",
          "name": "stdout",
          "text": [
            "Epoch 264/300, Loss: 0.05748586745986588\n"
          ]
        },
        {
          "output_type": "stream",
          "name": "stderr",
          "text": [
            "Epoch 265/300: 100%|█████████████████████████████████████████████████| 391/391 [01:15<00:00,  5.16batch/s, Loss=0.0409]\n"
          ]
        },
        {
          "output_type": "stream",
          "name": "stdout",
          "text": [
            "Epoch 265/300, Loss: 0.040904385702644555\n"
          ]
        },
        {
          "output_type": "stream",
          "name": "stderr",
          "text": [
            "Epoch 266/300: 100%|█████████████████████████████████████████████████| 391/391 [01:16<00:00,  5.14batch/s, Loss=0.0345]\n"
          ]
        },
        {
          "output_type": "stream",
          "name": "stdout",
          "text": [
            "Epoch 266/300, Loss: 0.034486883961113664\n"
          ]
        },
        {
          "output_type": "stream",
          "name": "stderr",
          "text": [
            "Epoch 267/300: 100%|█████████████████████████████████████████████████| 391/391 [01:15<00:00,  5.16batch/s, Loss=0.0273]\n"
          ]
        },
        {
          "output_type": "stream",
          "name": "stdout",
          "text": [
            "Epoch 267/300, Loss: 0.027282624596929914\n"
          ]
        },
        {
          "output_type": "stream",
          "name": "stderr",
          "text": [
            "Epoch 268/300: 100%|█████████████████████████████████████████████████| 391/391 [01:15<00:00,  5.15batch/s, Loss=0.0392]\n"
          ]
        },
        {
          "output_type": "stream",
          "name": "stdout",
          "text": [
            "Epoch 268/300, Loss: 0.03922292749215132\n"
          ]
        },
        {
          "output_type": "stream",
          "name": "stderr",
          "text": [
            "Epoch 269/300: 100%|█████████████████████████████████████████████████| 391/391 [01:16<00:00,  5.14batch/s, Loss=0.0481]\n"
          ]
        },
        {
          "output_type": "stream",
          "name": "stdout",
          "text": [
            "Epoch 269/300, Loss: 0.048094567317072415\n"
          ]
        },
        {
          "output_type": "stream",
          "name": "stderr",
          "text": [
            "Epoch 270/300: 100%|█████████████████████████████████████████████████| 391/391 [01:15<00:00,  5.16batch/s, Loss=0.0385]\n"
          ]
        },
        {
          "output_type": "stream",
          "name": "stdout",
          "text": [
            "Epoch 270/300, Loss: 0.03848531740067126\n"
          ]
        },
        {
          "output_type": "stream",
          "name": "stderr",
          "text": [
            "Epoch 271/300: 100%|█████████████████████████████████████████████████| 391/391 [01:15<00:00,  5.15batch/s, Loss=0.0307]\n"
          ]
        },
        {
          "output_type": "stream",
          "name": "stdout",
          "text": [
            "Epoch 271/300, Loss: 0.030707844191450118\n"
          ]
        },
        {
          "output_type": "stream",
          "name": "stderr",
          "text": [
            "Epoch 272/300: 100%|█████████████████████████████████████████████████| 391/391 [01:15<00:00,  5.15batch/s, Loss=0.0668]\n"
          ]
        },
        {
          "output_type": "stream",
          "name": "stdout",
          "text": [
            "Epoch 272/300, Loss: 0.06683876323046177\n"
          ]
        },
        {
          "output_type": "stream",
          "name": "stderr",
          "text": [
            "Epoch 273/300: 100%|██████████████████████████████████████████████████| 391/391 [01:16<00:00,  5.14batch/s, Loss=0.043]\n"
          ]
        },
        {
          "output_type": "stream",
          "name": "stdout",
          "text": [
            "Epoch 273/300, Loss: 0.043037474780884086\n"
          ]
        },
        {
          "output_type": "stream",
          "name": "stderr",
          "text": [
            "Epoch 274/300: 100%|█████████████████████████████████████████████████| 391/391 [01:16<00:00,  5.14batch/s, Loss=0.0289]\n"
          ]
        },
        {
          "output_type": "stream",
          "name": "stdout",
          "text": [
            "Epoch 274/300, Loss: 0.028934118504539467\n"
          ]
        },
        {
          "output_type": "stream",
          "name": "stderr",
          "text": [
            "Epoch 275/300: 100%|█████████████████████████████████████████████████| 391/391 [01:16<00:00,  5.14batch/s, Loss=0.0549]\n"
          ]
        },
        {
          "output_type": "stream",
          "name": "stdout",
          "text": [
            "Epoch 275/300, Loss: 0.05492083424831412\n"
          ]
        },
        {
          "output_type": "stream",
          "name": "stderr",
          "text": [
            "Epoch 276/300: 100%|█████████████████████████████████████████████████| 391/391 [01:16<00:00,  5.14batch/s, Loss=0.0442]\n"
          ]
        },
        {
          "output_type": "stream",
          "name": "stdout",
          "text": [
            "Epoch 276/300, Loss: 0.04424410104303915\n"
          ]
        },
        {
          "output_type": "stream",
          "name": "stderr",
          "text": [
            "Epoch 277/300: 100%|█████████████████████████████████████████████████| 391/391 [01:15<00:00,  5.16batch/s, Loss=0.0442]\n"
          ]
        },
        {
          "output_type": "stream",
          "name": "stdout",
          "text": [
            "Epoch 277/300, Loss: 0.04418145506389345\n"
          ]
        },
        {
          "output_type": "stream",
          "name": "stderr",
          "text": [
            "Epoch 278/300: 100%|█████████████████████████████████████████████████| 391/391 [01:15<00:00,  5.15batch/s, Loss=0.0442]\n"
          ]
        },
        {
          "output_type": "stream",
          "name": "stdout",
          "text": [
            "Epoch 278/300, Loss: 0.04415515320133819\n"
          ]
        },
        {
          "output_type": "stream",
          "name": "stderr",
          "text": [
            "Epoch 279/300: 100%|█████████████████████████████████████████████████| 391/391 [01:15<00:00,  5.16batch/s, Loss=0.0334]\n"
          ]
        },
        {
          "output_type": "stream",
          "name": "stdout",
          "text": [
            "Epoch 279/300, Loss: 0.03335758287077079\n"
          ]
        },
        {
          "output_type": "stream",
          "name": "stderr",
          "text": [
            "Epoch 280/300: 100%|█████████████████████████████████████████████████| 391/391 [01:15<00:00,  5.16batch/s, Loss=0.0378]\n"
          ]
        },
        {
          "output_type": "stream",
          "name": "stdout",
          "text": [
            "Epoch 280/300, Loss: 0.03777790317650463\n"
          ]
        },
        {
          "output_type": "stream",
          "name": "stderr",
          "text": [
            "Epoch 281/300: 100%|█████████████████████████████████████████████████| 391/391 [01:16<00:00,  5.14batch/s, Loss=0.0403]\n"
          ]
        },
        {
          "output_type": "stream",
          "name": "stdout",
          "text": [
            "Epoch 281/300, Loss: 0.04025996094016616\n"
          ]
        },
        {
          "output_type": "stream",
          "name": "stderr",
          "text": [
            "Epoch 282/300: 100%|██████████████████████████████████████████████████| 391/391 [01:15<00:00,  5.16batch/s, Loss=0.034]\n"
          ]
        },
        {
          "output_type": "stream",
          "name": "stdout",
          "text": [
            "Epoch 282/300, Loss: 0.033986346559489164\n"
          ]
        },
        {
          "output_type": "stream",
          "name": "stderr",
          "text": [
            "Epoch 283/300: 100%|█████████████████████████████████████████████████| 391/391 [01:15<00:00,  5.16batch/s, Loss=0.0552]\n"
          ]
        },
        {
          "output_type": "stream",
          "name": "stdout",
          "text": [
            "Epoch 283/300, Loss: 0.05520084735982176\n"
          ]
        },
        {
          "output_type": "stream",
          "name": "stderr",
          "text": [
            "Epoch 284/300: 100%|█████████████████████████████████████████████████| 391/391 [01:15<00:00,  5.15batch/s, Loss=0.0369]\n"
          ]
        },
        {
          "output_type": "stream",
          "name": "stdout",
          "text": [
            "Epoch 284/300, Loss: 0.03687408929631835\n"
          ]
        },
        {
          "output_type": "stream",
          "name": "stderr",
          "text": [
            "Epoch 285/300: 100%|█████████████████████████████████████████████████| 391/391 [01:15<00:00,  5.15batch/s, Loss=0.0316]\n"
          ]
        },
        {
          "output_type": "stream",
          "name": "stdout",
          "text": [
            "Epoch 285/300, Loss: 0.031564557333183085\n"
          ]
        },
        {
          "output_type": "stream",
          "name": "stderr",
          "text": [
            "Epoch 286/300: 100%|█████████████████████████████████████████████████| 391/391 [01:16<00:00,  5.14batch/s, Loss=0.0432]\n"
          ]
        },
        {
          "output_type": "stream",
          "name": "stdout",
          "text": [
            "Epoch 286/300, Loss: 0.043176792980732445\n"
          ]
        },
        {
          "output_type": "stream",
          "name": "stderr",
          "text": [
            "Epoch 287/300: 100%|█████████████████████████████████████████████████| 391/391 [01:15<00:00,  5.16batch/s, Loss=0.0552]\n"
          ]
        },
        {
          "output_type": "stream",
          "name": "stdout",
          "text": [
            "Epoch 287/300, Loss: 0.055175021896360144\n"
          ]
        },
        {
          "output_type": "stream",
          "name": "stderr",
          "text": [
            "Epoch 288/300: 100%|█████████████████████████████████████████████████| 391/391 [01:16<00:00,  5.14batch/s, Loss=0.0486]\n"
          ]
        },
        {
          "output_type": "stream",
          "name": "stdout",
          "text": [
            "Epoch 288/300, Loss: 0.0486038987916929\n"
          ]
        },
        {
          "output_type": "stream",
          "name": "stderr",
          "text": [
            "Epoch 289/300: 100%|█████████████████████████████████████████████████| 391/391 [01:16<00:00,  5.14batch/s, Loss=0.0367]\n"
          ]
        },
        {
          "output_type": "stream",
          "name": "stdout",
          "text": [
            "Epoch 289/300, Loss: 0.0367224384747495\n"
          ]
        },
        {
          "output_type": "stream",
          "name": "stderr",
          "text": [
            "Epoch 290/300: 100%|█████████████████████████████████████████████████| 391/391 [01:16<00:00,  5.14batch/s, Loss=0.0412]\n"
          ]
        },
        {
          "output_type": "stream",
          "name": "stdout",
          "text": [
            "Epoch 290/300, Loss: 0.04117808453827479\n"
          ]
        },
        {
          "output_type": "stream",
          "name": "stderr",
          "text": [
            "Epoch 291/300: 100%|█████████████████████████████████████████████████| 391/391 [01:15<00:00,  5.15batch/s, Loss=0.0522]\n"
          ]
        },
        {
          "output_type": "stream",
          "name": "stdout",
          "text": [
            "Epoch 291/300, Loss: 0.05215416111663808\n"
          ]
        },
        {
          "output_type": "stream",
          "name": "stderr",
          "text": [
            "Epoch 292/300: 100%|█████████████████████████████████████████████████| 391/391 [01:15<00:00,  5.15batch/s, Loss=0.0365]\n"
          ]
        },
        {
          "output_type": "stream",
          "name": "stdout",
          "text": [
            "Epoch 292/300, Loss: 0.036533387451536205\n"
          ]
        },
        {
          "output_type": "stream",
          "name": "stderr",
          "text": [
            "Epoch 293/300: 100%|█████████████████████████████████████████████████| 391/391 [01:15<00:00,  5.16batch/s, Loss=0.0482]\n"
          ]
        },
        {
          "output_type": "stream",
          "name": "stdout",
          "text": [
            "Epoch 293/300, Loss: 0.04820052289771707\n"
          ]
        },
        {
          "output_type": "stream",
          "name": "stderr",
          "text": [
            "Epoch 294/300: 100%|█████████████████████████████████████████████████| 391/391 [01:15<00:00,  5.16batch/s, Loss=0.0458]\n"
          ]
        },
        {
          "output_type": "stream",
          "name": "stdout",
          "text": [
            "Epoch 294/300, Loss: 0.045835423647603644\n"
          ]
        },
        {
          "output_type": "stream",
          "name": "stderr",
          "text": [
            "Epoch 295/300: 100%|█████████████████████████████████████████████████| 391/391 [01:16<00:00,  5.14batch/s, Loss=0.0333]\n"
          ]
        },
        {
          "output_type": "stream",
          "name": "stdout",
          "text": [
            "Epoch 295/300, Loss: 0.03325620022273369\n"
          ]
        },
        {
          "output_type": "stream",
          "name": "stderr",
          "text": [
            "Epoch 296/300: 100%|█████████████████████████████████████████████████| 391/391 [01:15<00:00,  5.15batch/s, Loss=0.0388]\n"
          ]
        },
        {
          "output_type": "stream",
          "name": "stdout",
          "text": [
            "Epoch 296/300, Loss: 0.03876103531483297\n"
          ]
        },
        {
          "output_type": "stream",
          "name": "stderr",
          "text": [
            "Epoch 297/300: 100%|█████████████████████████████████████████████████| 391/391 [01:15<00:00,  5.16batch/s, Loss=0.0536]\n"
          ]
        },
        {
          "output_type": "stream",
          "name": "stdout",
          "text": [
            "Epoch 297/300, Loss: 0.05362526890690645\n"
          ]
        },
        {
          "output_type": "stream",
          "name": "stderr",
          "text": [
            "Epoch 298/300: 100%|█████████████████████████████████████████████████| 391/391 [01:15<00:00,  5.15batch/s, Loss=0.0728]\n"
          ]
        },
        {
          "output_type": "stream",
          "name": "stdout",
          "text": [
            "Epoch 298/300, Loss: 0.07282300363951016\n"
          ]
        },
        {
          "output_type": "stream",
          "name": "stderr",
          "text": [
            "Epoch 299/300: 100%|█████████████████████████████████████████████████| 391/391 [01:15<00:00,  5.16batch/s, Loss=0.0405]\n"
          ]
        },
        {
          "output_type": "stream",
          "name": "stdout",
          "text": [
            "Epoch 299/300, Loss: 0.040527783281726834\n"
          ]
        },
        {
          "output_type": "stream",
          "name": "stderr",
          "text": [
            "Epoch 300/300: 100%|█████████████████████████████████████████████████| 391/391 [01:15<00:00,  5.15batch/s, Loss=0.0457]\n"
          ]
        },
        {
          "output_type": "stream",
          "name": "stdout",
          "text": [
            "Epoch 300/300, Loss: 0.04573522629623996\n",
            "Training Time: 22471.30559706688 seconds\n",
            "Accuracy after 300 epochs: 0.7749\n"
          ]
        }
      ]
    },
    {
      "cell_type": "code",
      "source": [
        "import torch\n",
        "import torch.nn as nn\n",
        "import torch.optim as optim\n",
        "import torchvision.transforms as transforms\n",
        "from torch.utils.data import DataLoader\n",
        "from torchvision.datasets import CIFAR10\n",
        "\n",
        "# Define the Residual Block\n",
        "class ResidualBlock(nn.Module):\n",
        "    def __init__(self, in_channels, out_channels, stride=1):\n",
        "        super(ResidualBlock, self).__init__()\n",
        "        self.conv1 = nn.Conv2d(in_channels, out_channels, kernel_size=3, stride=stride, padding=1, bias=False)\n",
        "        self.bn1 = nn.BatchNorm2d(out_channels)\n",
        "        self.relu = nn.ReLU(inplace=True)\n",
        "        self.conv2 = nn.Conv2d(out_channels, out_channels, kernel_size=3, stride=1, padding=1, bias=False)\n",
        "        self.bn2 = nn.BatchNorm2d(out_channels)\n",
        "\n",
        "        # Skip connection\n",
        "        self.shortcut = nn.Sequential()\n",
        "        if stride != 1 or in_channels != out_channels:\n",
        "            self.shortcut = nn.Sequential(\n",
        "                nn.Conv2d(in_channels, out_channels, kernel_size=1, stride=stride, bias=False),\n",
        "                nn.BatchNorm2d(out_channels)\n",
        "            )\n",
        "\n",
        "    def forward(self, x):\n",
        "        residual = x\n",
        "        out = self.conv1(x)\n",
        "        out = self.bn1(out)\n",
        "        out = self.relu(out)\n",
        "        out = self.conv2(out)\n",
        "        out = self.bn2(out)\n",
        "        out += self.shortcut(residual)\n",
        "        out = self.relu(out)\n",
        "        return out\n",
        "\n",
        "# Define the ResNet-10 model\n",
        "class ResNet10(nn.Module):\n",
        "    def __init__(self, num_classes=10):\n",
        "        super(ResNet10, self).__init__()\n",
        "        self.in_channels = 16  # Adjust this based on your requirements\n",
        "        self.conv1 = nn.Conv2d(3, self.in_channels, kernel_size=3, stride=1, padding=1, bias=False)\n",
        "        self.bn1 = nn.BatchNorm2d(self.in_channels)\n",
        "        self.relu = nn.ReLU(inplace=True)\n",
        "        self.layer1 = self.make_layer(ResidualBlock, 16, 2, stride=1)\n",
        "        self.layer2 = self.make_layer(ResidualBlock, 32, 2, stride=2)\n",
        "        self.layer3 = self.make_layer(ResidualBlock, 64, 2, stride=2)\n",
        "        self.avg_pool = nn.AdaptiveAvgPool2d((1, 1))\n",
        "        self.fc = nn.Linear(64, num_classes)\n",
        "\n",
        "    def make_layer(self, block, out_channels, num_blocks, stride):\n",
        "        strides = [stride] + [1] * (num_blocks - 1)\n",
        "        layers = []\n",
        "        for stride in strides:\n",
        "            layers.append(block(self.in_channels, out_channels, stride))\n",
        "            self.in_channels = out_channels\n",
        "        return nn.Sequential(*layers)\n",
        "\n",
        "    def forward(self, x):\n",
        "        out = self.conv1(x)\n",
        "        out = self.bn1(out)\n",
        "        out = self.relu(out)\n",
        "        out = self.layer1(out)\n",
        "        out = self.layer2(out)\n",
        "        out = self.layer3(out)\n",
        "        out = self.avg_pool(out)\n",
        "        out = out.view(out.size(0), -1)\n",
        "        out = self.fc(out)\n",
        "        return out\n",
        "\n",
        "# Hyperparameters\n",
        "batch_size = 64\n",
        "learning_rate = 0.001\n",
        "epochs = 300\n",
        "\n",
        "# Data loading and preprocessing\n",
        "transform = transforms.Compose([\n",
        "    transforms.ToTensor(),\n",
        "    transforms.Normalize((0.5, 0.5, 0.5), (0.5, 0.5, 0.5)),\n",
        "])\n",
        "\n",
        "train_dataset = CIFAR10(root='./data', train=True, download=True, transform=transform)\n",
        "train_loader = DataLoader(train_dataset, batch_size=batch_size, shuffle=True)\n",
        "\n",
        "# Model, loss function, and optimizer\n",
        "device = torch.device(\"cuda\" if torch.cuda.is_available() else \"cpu\")\n",
        "model = ResNet10().to(device)\n",
        "criterion = nn.CrossEntropyLoss()\n",
        "optimizer = optim.Adam(model.parameters(), lr=learning_rate)\n",
        "\n",
        "# Training the model\n",
        "for epoch in range(epochs):\n",
        "    model.train()\n",
        "    train_loader = tqdm(train_loader, desc=f'Epoch {epoch + 1}/{epochs}', dynamic_ncols=True)\n",
        "\n",
        "    for images, labels in train_loader:\n",
        "        images, labels = images.to(device), labels.to(device)\n",
        "        optimizer.zero_grad()\n",
        "        outputs = model(images)\n",
        "        loss = criterion(outputs, labels)\n",
        "        loss.backward()\n",
        "        optimizer.step()\n",
        "\n",
        "        train_loader.set_postfix({'Loss': loss.item()}, refresh=True)\n",
        "\n",
        "# Save the trained model if needed\n",
        "torch.save(model.state_dict(), 'resnet10_cifar10.pth')\n"
      ],
      "metadata": {
        "colab": {
          "base_uri": "https://localhost:8080/"
        },
        "id": "FA_hhaig5yuZ",
        "outputId": "3067a2fb-b939-4f3e-8054-db5080b42ea8"
      },
      "execution_count": null,
      "outputs": [
        {
          "output_type": "stream",
          "name": "stdout",
          "text": [
            "Files already downloaded and verified\n"
          ]
        },
        {
          "output_type": "stream",
          "name": "stderr",
          "text": [
            "Epoch 1/300: 100%|████████████████████████████████████████████████████████| 782/782 [00:48<00:00, 16.28it/s, Loss=1.44]\n",
            "Epoch 2/300: 100%|███████████████████████████████████████████████████████| 782/782 [00:49<00:00, 15.90it/s, Loss=0.837]\n",
            "Epoch 3/300: 100%|███████████████████████████████████████████████████████| 782/782 [00:48<00:00, 16.20it/s, Loss=0.616]\n",
            "Epoch 4/300: 100%|███████████████████████████████████████████████████████| 782/782 [00:48<00:00, 16.22it/s, Loss=0.718]\n",
            "Epoch 5/300: 100%|███████████████████████████████████████████████████████| 782/782 [00:48<00:00, 16.23it/s, Loss=0.632]\n",
            "Epoch 6/300: 100%|███████████████████████████████████████████████████████| 782/782 [00:48<00:00, 15.97it/s, Loss=0.636]\n",
            "Epoch 7/300: 100%|███████████████████████████████████████████████████████| 782/782 [00:48<00:00, 16.22it/s, Loss=0.572]\n",
            "Epoch 8/300: 100%|███████████████████████████████████████████████████████| 782/782 [00:48<00:00, 16.19it/s, Loss=0.309]\n",
            "Epoch 9/300: 100%|███████████████████████████████████████████████████████| 782/782 [00:48<00:00, 16.22it/s, Loss=0.329]\n",
            "Epoch 10/300: 100%|██████████████████████████████████████████████████████| 782/782 [00:48<00:00, 16.07it/s, Loss=0.166]\n",
            "Epoch 11/300: 100%|███████████████████████████████████████████████████████| 782/782 [00:48<00:00, 16.20it/s, Loss=0.21]\n",
            "Epoch 12/300: 100%|██████████████████████████████████████████████████████| 782/782 [00:48<00:00, 16.20it/s, Loss=0.306]\n",
            "Epoch 13/300: 100%|██████████████████████████████████████████████████████| 782/782 [00:48<00:00, 16.08it/s, Loss=0.555]\n",
            "Epoch 14/300: 100%|██████████████████████████████████████████████████████| 782/782 [00:48<00:00, 16.19it/s, Loss=0.134]\n",
            "Epoch 15/300: 100%|██████████████████████████████████████████████████████| 782/782 [00:48<00:00, 16.19it/s, Loss=0.326]\n",
            "Epoch 16/300: 100%|██████████████████████████████████████████████████████| 782/782 [00:48<00:00, 16.16it/s, Loss=0.829]\n",
            "Epoch 17/300: 100%|██████████████████████████████████████████████████████| 782/782 [00:48<00:00, 16.04it/s, Loss=0.207]\n",
            "Epoch 18/300: 100%|██████████████████████████████████████████████████████| 782/782 [00:48<00:00, 16.18it/s, Loss=0.476]\n",
            "Epoch 19/300: 100%|█████████████████████████████████████████████████████| 782/782 [00:48<00:00, 16.18it/s, Loss=0.0748]\n",
            "Epoch 20/300: 100%|████████████████████████████████████████████████████| 782/782 [00:48<00:00, 16.17it/s, Loss=0.00586]\n",
            "Epoch 21/300: 100%|█████████████████████████████████████████████████████| 782/782 [00:48<00:00, 16.02it/s, Loss=0.0206]\n",
            "Epoch 22/300: 100%|██████████████████████████████████████████████████████| 782/782 [00:48<00:00, 16.13it/s, Loss=0.159]\n",
            "Epoch 23/300: 100%|██████████████████████████████████████████████████████| 782/782 [00:48<00:00, 16.13it/s, Loss=0.105]\n",
            "Epoch 24/300: 100%|██████████████████████████████████████████████████████| 782/782 [00:49<00:00, 15.94it/s, Loss=0.141]\n",
            "Epoch 25/300: 100%|██████████████████████████████████████████████████████| 782/782 [00:48<00:00, 16.10it/s, Loss=0.141]\n",
            "Epoch 26/300: 100%|██████████████████████████████████████████████████████| 782/782 [00:48<00:00, 16.09it/s, Loss=0.229]\n",
            "Epoch 27/300: 100%|██████████████████████████████████████████████████████| 782/782 [00:48<00:00, 16.13it/s, Loss=0.192]\n",
            "Epoch 28/300: 100%|█████████████████████████████████████████████████████| 782/782 [00:49<00:00, 15.93it/s, Loss=0.0362]\n",
            "Epoch 29/300: 100%|██████████████████████████████████████████████████████| 782/782 [00:48<00:00, 16.10it/s, Loss=0.448]\n",
            "Epoch 30/300: 100%|██████████████████████████████████████████████████████| 782/782 [00:48<00:00, 16.14it/s, Loss=0.221]\n",
            "Epoch 31/300: 100%|█████████████████████████████████████████████████████| 782/782 [00:48<00:00, 16.12it/s, Loss=0.0737]\n",
            "Epoch 32/300: 100%|█████████████████████████████████████████████████████| 782/782 [00:49<00:00, 15.94it/s, Loss=0.0472]\n",
            "Epoch 33/300: 100%|██████████████████████████████████████████████████████| 782/782 [00:48<00:00, 16.13it/s, Loss=0.316]\n",
            "Epoch 34/300: 100%|██████████████████████████████████████████████████████| 782/782 [00:48<00:00, 16.12it/s, Loss=0.153]\n",
            "Epoch 35/300: 100%|██████████████████████████████████████████████████████| 782/782 [00:48<00:00, 16.08it/s, Loss=0.218]\n",
            "Epoch 36/300: 100%|█████████████████████████████████████████████████████| 782/782 [00:49<00:00, 15.86it/s, Loss=0.0181]\n",
            "Epoch 37/300: 100%|██████████████████████████████████████████████████████| 782/782 [00:48<00:00, 16.04it/s, Loss=0.113]\n",
            "Epoch 38/300: 100%|█████████████████████████████████████████████████████| 782/782 [00:48<00:00, 16.05it/s, Loss=0.0739]\n",
            "Epoch 39/300: 100%|██████████████████████████████████████████████████████| 782/782 [00:49<00:00, 15.94it/s, Loss=0.496]\n",
            "Epoch 40/300: 100%|███████████████████████████████████████████████████████| 782/782 [00:48<00:00, 16.05it/s, Loss=0.01]\n",
            "Epoch 41/300: 100%|██████████████████████████████████████████████████████| 782/782 [00:48<00:00, 16.05it/s, Loss=0.093]\n",
            "Epoch 42/300: 100%|██████████████████████████████████████████████████████| 782/782 [00:48<00:00, 16.08it/s, Loss=0.257]\n",
            "Epoch 43/300: 100%|█████████████████████████████████████████████████████| 782/782 [00:49<00:00, 15.91it/s, Loss=0.0427]\n",
            "Epoch 44/300: 100%|████████████████████████████████████████████████████| 782/782 [00:48<00:00, 16.09it/s, Loss=0.00819]\n",
            "Epoch 45/300: 100%|██████████████████████████████████████████████████████| 782/782 [00:48<00:00, 16.09it/s, Loss=0.484]\n",
            "Epoch 46/300: 100%|██████████████████████████████████████████████████████| 782/782 [00:48<00:00, 16.09it/s, Loss=0.133]\n",
            "Epoch 47/300: 100%|██████████████████████████████████████████████████████| 782/782 [00:49<00:00, 15.91it/s, Loss=0.123]\n",
            "Epoch 48/300: 100%|██████████████████████████████████████████████████████| 782/782 [00:48<00:00, 16.09it/s, Loss=0.243]\n",
            "Epoch 49/300: 100%|██████████████████████████████████████████████████████| 782/782 [00:48<00:00, 16.11it/s, Loss=0.155]\n",
            "Epoch 50/300: 100%|██████████████████████████████████████████████████████| 782/782 [00:49<00:00, 15.95it/s, Loss=0.553]\n",
            "Epoch 51/300: 100%|██████████████████████████████████████████████████████| 782/782 [00:48<00:00, 16.12it/s, Loss=0.128]\n",
            "Epoch 52/300: 100%|████████████████████████████████████████████████████| 782/782 [00:48<00:00, 16.09it/s, Loss=0.00195]\n",
            "Epoch 53/300: 100%|█████████████████████████████████████████████████████| 782/782 [00:48<00:00, 16.09it/s, Loss=0.0511]\n",
            "Epoch 54/300: 100%|█████████████████████████████████████████████████████| 782/782 [00:49<00:00, 15.93it/s, Loss=0.0989]\n",
            "Epoch 55/300: 100%|██████████████████████████████████████████████████████| 782/782 [00:48<00:00, 16.08it/s, Loss=0.013]\n",
            "Epoch 56/300: 100%|████████████████████████████████████████████████████| 782/782 [00:48<00:00, 16.13it/s, Loss=0.00756]\n",
            "Epoch 57/300: 100%|██████████████████████████████████████████████████████| 782/782 [00:48<00:00, 16.09it/s, Loss=0.214]\n",
            "Epoch 58/300: 100%|████████████████████████████████████████████████████| 782/782 [00:49<00:00, 15.93it/s, Loss=0.00349]\n",
            "Epoch 59/300: 100%|████████████████████████████████████████████████████| 782/782 [00:48<00:00, 16.13it/s, Loss=0.00198]\n",
            "Epoch 60/300: 100%|██████████████████████████████████████████████████████| 782/782 [00:48<00:00, 16.11it/s, Loss=0.236]\n",
            "Epoch 61/300: 100%|████████████████████████████████████████████████████| 782/782 [00:49<00:00, 15.94it/s, Loss=0.00575]\n",
            "Epoch 62/300: 100%|██████████████████████████████████████████████████████| 782/782 [00:48<00:00, 16.07it/s, Loss=0.178]\n",
            "Epoch 63/300: 100%|██████████████████████████████████████████████████████| 782/782 [00:48<00:00, 16.06it/s, Loss=0.238]\n",
            "Epoch 64/300: 100%|██████████████████████████████████████████████████████| 782/782 [00:48<00:00, 16.07it/s, Loss=0.019]\n",
            "Epoch 65/300: 100%|████████████████████████████████████████████████████| 782/782 [00:49<00:00, 15.89it/s, Loss=0.00803]\n",
            "Epoch 66/300: 100%|████████████████████████████████████████████████████| 782/782 [00:48<00:00, 16.06it/s, Loss=0.00341]\n",
            "Epoch 67/300: 100%|████████████████████████████████████████████████████| 782/782 [00:48<00:00, 16.03it/s, Loss=0.00675]\n",
            "Epoch 68/300: 100%|██████████████████████████████████████████████████████| 782/782 [00:48<00:00, 16.06it/s, Loss=0.213]\n",
            "Epoch 69/300: 100%|█████████████████████████████████████████████████████| 782/782 [00:49<00:00, 15.88it/s, Loss=0.0779]\n",
            "Epoch 70/300: 100%|█████████████████████████████████████████████████████| 782/782 [00:48<00:00, 16.08it/s, Loss=0.0617]\n",
            "Epoch 71/300: 100%|████████████████████████████████████████████████████| 782/782 [00:48<00:00, 16.06it/s, Loss=0.00337]\n",
            "Epoch 72/300: 100%|████████████████████████████████████████████████████| 782/782 [00:49<00:00, 15.96it/s, Loss=0.00273]\n",
            "Epoch 73/300: 100%|█████████████████████████████████████████████████████| 782/782 [00:48<00:00, 16.07it/s, Loss=0.0685]\n",
            "Epoch 74/300: 100%|█████████████████████████████████████████████████████| 782/782 [00:50<00:00, 15.63it/s, Loss=0.0136]\n",
            "Epoch 75/300: 100%|████████████████████████████████████████████████████| 782/782 [00:49<00:00, 15.95it/s, Loss=0.00588]\n",
            "Epoch 76/300: 100%|██████████████████████████████████████████████████████| 782/782 [00:49<00:00, 15.87it/s, Loss=0.695]\n",
            "Epoch 77/300: 100%|██████████████████████████████████████████████████████| 782/782 [00:48<00:00, 16.04it/s, Loss=0.129]\n",
            "Epoch 78/300: 100%|█████████████████████████████████████████████████████| 782/782 [00:48<00:00, 16.07it/s, Loss=0.0125]\n",
            "Epoch 79/300: 100%|████████████████████████████████████████████████████| 782/782 [00:48<00:00, 16.07it/s, Loss=2.31e-5]\n",
            "Epoch 80/300: 100%|█████████████████████████████████████████████████████| 782/782 [00:49<00:00, 15.89it/s, Loss=0.0331]\n",
            "Epoch 81/300: 100%|██████████████████████████████████████████████████████| 782/782 [00:48<00:00, 16.07it/s, Loss=0.397]\n",
            "Epoch 82/300: 100%|██████████████████████████████████████████████████████| 782/782 [00:48<00:00, 16.03it/s, Loss=0.015]\n",
            "Epoch 83/300: 100%|███████████████████████████████████████████████████████| 782/782 [00:49<00:00, 15.90it/s, Loss=0.23]\n",
            "Epoch 84/300: 100%|████████████████████████████████████████████████████| 782/782 [00:48<00:00, 16.03it/s, Loss=0.00749]\n",
            "Epoch 85/300: 100%|████████████████████████████████████████████████████| 782/782 [00:48<00:00, 16.03it/s, Loss=0.00869]\n",
            "Epoch 86/300: 100%|██████████████████████████████████████████████████████| 782/782 [00:48<00:00, 16.05it/s, Loss=0.152]\n",
            "Epoch 87/300: 100%|████████████████████████████████████████████████████| 782/782 [00:49<00:00, 15.90it/s, Loss=0.00216]\n",
            "Epoch 88/300: 100%|█████████████████████████████████████████████████████| 782/782 [00:48<00:00, 16.06it/s, Loss=0.0172]\n",
            "Epoch 89/300: 100%|██████████████████████████████████████████████████████| 782/782 [00:48<00:00, 16.07it/s, Loss=0.142]\n",
            "Epoch 90/300: 100%|████████████████████████████████████████████████████| 782/782 [00:48<00:00, 16.04it/s, Loss=2.21e-5]\n",
            "Epoch 91/300: 100%|██████████████████████████████████████████████████████| 782/782 [00:49<00:00, 15.91it/s, Loss=0.101]\n",
            "Epoch 92/300: 100%|████████████████████████████████████████████████████| 782/782 [00:48<00:00, 16.03it/s, Loss=0.00229]\n",
            "Epoch 93/300: 100%|████████████████████████████████████████████████████| 782/782 [00:48<00:00, 16.06it/s, Loss=5.03e-5]\n",
            "Epoch 94/300: 100%|█████████████████████████████████████████████████████| 782/782 [00:48<00:00, 16.04it/s, Loss=0.0361]\n",
            "Epoch 95/300: 100%|███████████████████████████████████████████████████| 782/782 [00:49<00:00, 15.90it/s, Loss=0.000911]\n",
            "Epoch 96/300: 100%|██████████████████████████████████████████████████████| 782/782 [00:48<00:00, 16.05it/s, Loss=0.615]\n",
            "Epoch 97/300: 100%|████████████████████████████████████████████████████| 782/782 [00:48<00:00, 16.02it/s, Loss=0.00316]\n",
            "Epoch 98/300: 100%|████████████████████████████████████████████████████| 782/782 [00:49<00:00, 15.90it/s, Loss=0.00326]\n",
            "Epoch 99/300: 100%|████████████████████████████████████████████████████| 782/782 [00:48<00:00, 15.96it/s, Loss=0.00074]\n",
            "Epoch 100/300: 100%|██████████████████████████████████████████████████| 782/782 [00:48<00:00, 16.03it/s, Loss=0.000249]\n",
            "Epoch 101/300: 100%|███████████████████████████████████████████████████| 782/782 [00:48<00:00, 16.01it/s, Loss=0.00559]\n",
            "Epoch 102/300: 100%|████████████████████████████████████████████████████| 782/782 [00:49<00:00, 15.87it/s, Loss=0.0186]\n",
            "Epoch 103/300: 100%|█████████████████████████████████████████████████████| 782/782 [00:48<00:00, 16.08it/s, Loss=0.266]\n",
            "Epoch 104/300: 100%|█████████████████████████████████████████████████████| 782/782 [00:48<00:00, 16.03it/s, Loss=0.116]\n",
            "Epoch 105/300: 100%|███████████████████████████████████████████████████| 782/782 [00:48<00:00, 16.06it/s, Loss=7.52e-5]\n",
            "Epoch 106/300: 100%|█████████████████████████████████████████████████████| 782/782 [00:49<00:00, 15.88it/s, Loss=0.397]\n",
            "Epoch 107/300: 100%|████████████████████████████████████████████████████| 782/782 [00:48<00:00, 16.05it/s, Loss=0.0058]\n",
            "Epoch 108/300: 100%|████████████████████████████████████████████████████| 782/782 [00:48<00:00, 16.02it/s, Loss=0.0315]\n",
            "Epoch 109/300: 100%|████████████████████████████████████████████████████| 782/782 [00:49<00:00, 15.90it/s, Loss=0.0183]\n",
            "Epoch 110/300: 100%|████████████████████████████████████████████████████| 782/782 [00:48<00:00, 16.02it/s, Loss=0.0214]\n",
            "Epoch 111/300: 100%|████████████████████████████████████████████████████| 782/782 [00:48<00:00, 16.01it/s, Loss=0.0512]\n",
            "Epoch 112/300: 100%|███████████████████████████████████████████████████| 782/782 [00:48<00:00, 16.03it/s, Loss=0.00316]\n",
            "Epoch 113/300: 100%|█████████████████████████████████████████████████████| 782/782 [00:49<00:00, 15.88it/s, Loss=0.248]\n",
            "Epoch 114/300: 100%|███████████████████████████████████████████████████| 782/782 [00:48<00:00, 16.00it/s, Loss=0.00103]\n",
            "Epoch 115/300: 100%|██████████████████████████████████████████████████| 782/782 [00:48<00:00, 16.03it/s, Loss=0.000905]\n",
            "Epoch 116/300: 100%|████████████████████████████████████████████████████| 782/782 [00:48<00:00, 16.02it/s, Loss=0.0418]\n",
            "Epoch 117/300: 100%|███████████████████████████████████████████████████| 782/782 [00:49<00:00, 15.91it/s, Loss=0.00267]\n",
            "Epoch 118/300: 100%|███████████████████████████████████████████████████| 782/782 [00:48<00:00, 16.00it/s, Loss=0.00796]\n",
            "Epoch 119/300: 100%|███████████████████████████████████████████████████| 782/782 [00:48<00:00, 16.04it/s, Loss=0.00235]\n",
            "Epoch 120/300: 100%|█████████████████████████████████████████████████████| 782/782 [00:49<00:00, 15.86it/s, Loss=0.617]\n",
            "Epoch 121/300: 100%|████████████████████████████████████████████████████| 782/782 [00:48<00:00, 16.07it/s, Loss=0.0205]\n",
            "Epoch 122/300: 100%|█████████████████████████████████████████████████████| 782/782 [00:48<00:00, 16.02it/s, Loss=0.675]\n",
            "Epoch 123/300: 100%|███████████████████████████████████████████████████| 782/782 [00:48<00:00, 16.05it/s, Loss=0.00359]\n",
            "Epoch 124/300: 100%|██████████████████████████████████████████████████████| 782/782 [00:49<00:00, 15.89it/s, Loss=0.66]\n",
            "Epoch 125/300: 100%|██████████████████████████████████████████████████| 782/782 [00:48<00:00, 16.01it/s, Loss=0.000475]\n",
            "Epoch 126/300: 100%|███████████████████████████████████████████████████| 782/782 [00:48<00:00, 16.05it/s, Loss=0.00211]\n",
            "Epoch 127/300: 100%|██████████████████████████████████████████████████| 782/782 [00:48<00:00, 16.03it/s, Loss=0.000377]\n",
            "Epoch 128/300: 100%|████████████████████████████████████████████████████| 782/782 [00:49<00:00, 15.86it/s, Loss=0.0192]\n",
            "Epoch 129/300: 100%|█████████████████████████████████████████████████████| 782/782 [00:48<00:00, 16.01it/s, Loss=0.197]\n",
            "Epoch 130/300: 100%|████████████████████████████████████████████████████| 782/782 [00:48<00:00, 16.02it/s, Loss=0.0154]\n",
            "Epoch 131/300: 100%|████████████████████████████████████████████████████| 782/782 [00:49<00:00, 15.84it/s, Loss=0.0215]\n",
            "Epoch 132/300: 100%|███████████████████████████████████████████████████| 782/782 [00:48<00:00, 16.04it/s, Loss=0.00579]\n",
            "Epoch 133/300: 100%|████████████████████████████████████████████████████| 782/782 [00:48<00:00, 16.00it/s, Loss=0.0105]\n",
            "Epoch 134/300: 100%|███████████████████████████████████████████████████| 782/782 [00:48<00:00, 16.00it/s, Loss=0.00435]\n",
            "Epoch 135/300: 100%|███████████████████████████████████████████████████| 782/782 [00:49<00:00, 15.83it/s, Loss=0.00173]\n",
            "Epoch 136/300: 100%|██████████████████████████████████████████████████| 782/782 [00:48<00:00, 16.02it/s, Loss=0.000144]\n",
            "Epoch 137/300: 100%|███████████████████████████████████████████████████| 782/782 [00:48<00:00, 16.02it/s, Loss=0.00326]\n",
            "Epoch 138/300: 100%|█████████████████████████████████████████████████████| 782/782 [00:48<00:00, 16.04it/s, Loss=0.274]\n",
            "Epoch 139/300: 100%|█████████████████████████████████████████████████████| 782/782 [00:49<00:00, 15.87it/s, Loss=0.383]\n",
            "Epoch 140/300: 100%|████████████████████████████████████████████████████| 782/782 [00:48<00:00, 16.00it/s, Loss=0.0895]\n",
            "Epoch 141/300: 100%|████████████████████████████████████████████████████| 782/782 [00:48<00:00, 16.01it/s, Loss=0.0194]\n",
            "Epoch 142/300: 100%|███████████████████████████████████████████████████| 782/782 [00:49<00:00, 15.82it/s, Loss=0.00356]\n",
            "Epoch 143/300: 100%|████████████████████████████████████████████████████| 782/782 [00:48<00:00, 16.03it/s, Loss=0.0591]\n",
            "Epoch 144/300: 100%|███████████████████████████████████████████████████| 782/782 [00:48<00:00, 15.99it/s, Loss=0.00241]\n",
            "Epoch 145/300: 100%|████████████████████████████████████████████████████| 782/782 [00:48<00:00, 16.04it/s, Loss=0.0168]\n",
            "Epoch 146/300: 100%|███████████████████████████████████████████████████| 782/782 [00:49<00:00, 15.90it/s, Loss=0.00087]\n",
            "Epoch 147/300: 100%|███████████████████████████████████████████████████| 782/782 [00:48<00:00, 16.00it/s, Loss=0.00244]\n",
            "Epoch 148/300: 100%|████████████████████████████████████████████████████| 782/782 [00:48<00:00, 15.99it/s, Loss=0.0773]\n",
            "Epoch 149/300: 100%|████████████████████████████████████████████████████| 782/782 [00:48<00:00, 16.01it/s, Loss=0.0236]\n",
            "Epoch 150/300: 100%|██████████████████████████████████████████████████| 782/782 [00:49<00:00, 15.83it/s, Loss=0.000187]\n",
            "Epoch 151/300: 100%|██████████████████████████████████████████████████| 782/782 [00:48<00:00, 16.01it/s, Loss=0.000353]\n",
            "Epoch 152/300: 100%|███████████████████████████████████████████████████| 782/782 [00:48<00:00, 15.99it/s, Loss=0.00248]\n",
            "Epoch 153/300: 100%|████████████████████████████████████████████████████| 782/782 [00:49<00:00, 15.80it/s, Loss=0.0264]\n",
            "Epoch 154/300: 100%|█████████████████████████████████████████████████████| 782/782 [00:48<00:00, 16.04it/s, Loss=0.131]\n",
            "Epoch 155/300: 100%|████████████████████████████████████████████████████| 782/782 [00:49<00:00, 15.95it/s, Loss=0.0138]\n",
            "Epoch 156/300: 100%|███████████████████████████████████████████████████| 782/782 [00:48<00:00, 15.99it/s, Loss=0.00536]\n",
            "Epoch 157/300: 100%|██████████████████████████████████████████████████| 782/782 [00:49<00:00, 15.81it/s, Loss=0.000379]\n",
            "Epoch 158/300: 100%|████████████████████████████████████████████████████| 782/782 [00:48<00:00, 15.97it/s, Loss=0.0564]\n",
            "Epoch 159/300: 100%|██████████████████████████████████████████████████████| 782/782 [00:48<00:00, 16.02it/s, Loss=0.14]\n",
            "Epoch 160/300: 100%|████████████████████████████████████████████████████| 782/782 [00:48<00:00, 15.97it/s, Loss=0.0203]\n",
            "Epoch 161/300: 100%|████████████████████████████████████████████████████| 782/782 [00:49<00:00, 15.85it/s, Loss=0.0384]\n",
            "Epoch 162/300: 100%|████████████████████████████████████████████████████| 782/782 [00:48<00:00, 16.02it/s, Loss=0.0211]\n",
            "Epoch 163/300: 100%|███████████████████████████████████████████████████| 782/782 [00:48<00:00, 16.01it/s, Loss=0.00231]\n",
            "Epoch 164/300: 100%|███████████████████████████████████████████████████| 782/782 [00:49<00:00, 15.85it/s, Loss=0.00218]\n",
            "Epoch 165/300: 100%|█████████████████████████████████████████████████████| 782/782 [00:48<00:00, 15.98it/s, Loss=0.114]\n",
            "Epoch 166/300: 100%|█████████████████████████████████████████████████████| 782/782 [00:48<00:00, 15.99it/s, Loss=0.254]\n",
            "Epoch 167/300: 100%|██████████████████████████████████████████████████| 782/782 [00:48<00:00, 16.00it/s, Loss=0.000489]\n",
            "Epoch 168/300: 100%|███████████████████████████████████████████████████| 782/782 [00:49<00:00, 15.84it/s, Loss=0.00556]\n",
            "Epoch 169/300: 100%|██████████████████████████████████████████████████| 782/782 [00:48<00:00, 16.00it/s, Loss=0.000194]\n",
            "Epoch 170/300: 100%|███████████████████████████████████████████████████| 782/782 [00:48<00:00, 15.99it/s, Loss=0.00092]\n",
            "Epoch 171/300: 100%|███████████████████████████████████████████████████| 782/782 [00:48<00:00, 16.04it/s, Loss=0.00023]\n",
            "Epoch 172/300: 100%|████████████████████████████████████████████████████| 782/782 [00:49<00:00, 15.79it/s, Loss=0.0233]\n",
            "Epoch 173/300: 100%|█████████████████████████████████████████████████████| 782/782 [00:48<00:00, 16.01it/s, Loss=0.107]\n",
            "Epoch 174/300: 100%|██████████████████████████████████████████████████| 782/782 [00:48<00:00, 16.02it/s, Loss=0.000902]\n",
            "Epoch 175/300: 100%|████████████████████████████████████████████████████| 782/782 [00:49<00:00, 15.82it/s, Loss=0.0171]\n",
            "Epoch 176/300: 100%|█████████████████████████████████████████████████████| 782/782 [00:48<00:00, 16.00it/s, Loss=0.478]\n",
            "Epoch 177/300: 100%|███████████████████████████████████████████████████| 782/782 [00:48<00:00, 16.05it/s, Loss=0.00458]\n",
            "Epoch 178/300: 100%|██████████████████████████████████████████████████| 782/782 [00:48<00:00, 16.01it/s, Loss=0.000964]\n",
            "Epoch 179/300: 100%|███████████████████████████████████████████████████| 782/782 [00:49<00:00, 15.85it/s, Loss=0.00198]\n",
            "Epoch 180/300: 100%|███████████████████████████████████████████████████| 782/782 [00:48<00:00, 16.00it/s, Loss=0.00165]\n",
            "Epoch 181/300: 100%|███████████████████████████████████████████████████| 782/782 [00:48<00:00, 16.04it/s, Loss=0.00144]\n",
            "Epoch 182/300: 100%|███████████████████████████████████████████████████| 782/782 [00:48<00:00, 15.97it/s, Loss=7.36e-6]\n",
            "Epoch 183/300: 100%|██████████████████████████████████████████████████| 782/782 [00:49<00:00, 15.80it/s, Loss=0.000101]\n",
            "Epoch 184/300: 100%|██████████████████████████████████████████████████| 782/782 [00:49<00:00, 15.95it/s, Loss=0.000749]\n",
            "Epoch 185/300: 100%|███████████████████████████████████████████████████| 782/782 [00:48<00:00, 15.96it/s, Loss=0.00329]\n",
            "Epoch 186/300: 100%|███████████████████████████████████████████████████| 782/782 [00:49<00:00, 15.84it/s, Loss=0.00275]\n",
            "Epoch 187/300: 100%|████████████████████████████████████████████████████| 782/782 [00:49<00:00, 15.96it/s, Loss=0.0803]\n",
            "Epoch 188/300: 100%|████████████████████████████████████████████████████| 782/782 [00:49<00:00, 15.91it/s, Loss=0.0118]\n",
            "Epoch 189/300: 100%|████████████████████████████████████████████████████| 782/782 [00:48<00:00, 16.00it/s, Loss=0.0142]\n",
            "Epoch 190/300: 100%|██████████████████████████████████████████████████| 782/782 [00:49<00:00, 15.79it/s, Loss=0.000583]\n",
            "Epoch 191/300: 100%|████████████████████████████████████████████████████| 782/782 [00:48<00:00, 15.98it/s, Loss=0.0602]\n",
            "Epoch 192/300: 100%|███████████████████████████████████████████████████| 782/782 [00:48<00:00, 15.99it/s, Loss=0.00015]\n",
            "Epoch 193/300: 100%|███████████████████████████████████████████████████| 782/782 [00:48<00:00, 16.02it/s, Loss=4.41e-5]\n",
            "Epoch 194/300: 100%|███████████████████████████████████████████████████| 782/782 [00:49<00:00, 15.79it/s, Loss=5.44e-5]\n",
            "Epoch 195/300: 100%|█████████████████████████████████████████████████████| 782/782 [00:48<00:00, 15.99it/s, Loss=0.327]\n",
            "Epoch 196/300: 100%|█████████████████████████████████████████████████████| 782/782 [00:48<00:00, 15.98it/s, Loss=0.105]\n",
            "Epoch 197/300: 100%|████████████████████████████████████████████████████| 782/782 [00:49<00:00, 15.83it/s, Loss=0.0229]\n",
            "Epoch 198/300: 100%|████████████████████████████████████████████████████| 782/782 [00:48<00:00, 15.98it/s, Loss=0.0171]\n",
            "Epoch 199/300: 100%|█████████████████████████████████████████████████████| 782/782 [00:49<00:00, 15.95it/s, Loss=0.025]\n",
            "Epoch 200/300: 100%|███████████████████████████████████████████████████| 782/782 [00:49<00:00, 15.95it/s, Loss=0.00528]\n",
            "Epoch 201/300: 100%|███████████████████████████████████████████████████| 782/782 [00:49<00:00, 15.76it/s, Loss=0.00163]\n",
            "Epoch 202/300: 100%|███████████████████████████████████████████████████████| 782/782 [00:49<00:00, 15.95it/s, Loss=0.4]\n",
            "Epoch 203/300: 100%|█████████████████████████████████████████████████████| 782/782 [00:49<00:00, 15.93it/s, Loss=0.032]\n",
            "Epoch 204/300: 100%|████████████████████████████████████████████████████| 782/782 [00:48<00:00, 16.01it/s, Loss=0.0431]\n",
            "Epoch 205/300: 100%|███████████████████████████████████████████████████| 782/782 [00:49<00:00, 15.79it/s, Loss=0.00181]\n",
            "Epoch 206/300: 100%|███████████████████████████████████████████████████| 782/782 [00:48<00:00, 15.99it/s, Loss=0.00437]\n",
            "Epoch 207/300: 100%|██████████████████████████████████████████████████| 782/782 [00:48<00:00, 15.96it/s, Loss=0.000769]\n",
            "Epoch 208/300: 100%|██████████████████████████████████████████████████| 782/782 [00:49<00:00, 15.77it/s, Loss=0.000387]\n",
            "Epoch 209/300: 100%|████████████████████████████████████████████████████| 782/782 [00:49<00:00, 15.96it/s, Loss=0.0123]\n",
            "Epoch 210/300: 100%|████████████████████████████████████████████████████| 782/782 [00:49<00:00, 15.94it/s, Loss=0.0626]\n",
            "Epoch 211/300: 100%|█████████████████████████████████████████████████████| 782/782 [00:48<00:00, 15.98it/s, Loss=0.179]\n",
            "Epoch 212/300: 100%|████████████████████████████████████████████████████| 782/782 [00:49<00:00, 15.79it/s, Loss=0.0005]\n",
            "Epoch 213/300: 100%|██████████████████████████████████████████████████| 782/782 [00:48<00:00, 15.96it/s, Loss=0.000764]\n",
            "Epoch 214/300: 100%|█████████████████████████████████████████████████████| 782/782 [00:49<00:00, 15.95it/s, Loss=0.293]\n",
            "Epoch 215/300: 100%|████████████████████████████████████████████████████| 782/782 [00:49<00:00, 15.94it/s, Loss=0.0273]\n",
            "Epoch 216/300: 100%|█████████████████████████████████████████████████████| 782/782 [00:49<00:00, 15.76it/s, Loss=0.178]\n",
            "Epoch 217/300: 100%|████████████████████████████████████████████████████| 782/782 [00:49<00:00, 15.96it/s, Loss=0.0164]\n",
            "Epoch 218/300: 100%|███████████████████████████████████████████████████| 782/782 [00:48<00:00, 15.96it/s, Loss=0.00104]\n",
            "Epoch 219/300: 100%|███████████████████████████████████████████████████| 782/782 [00:49<00:00, 15.77it/s, Loss=0.00665]\n",
            "Epoch 220/300: 100%|█████████████████████████████████████████████████████| 782/782 [00:49<00:00, 15.90it/s, Loss=0.145]\n",
            "Epoch 221/300: 100%|█████████████████████████████████████████████████████| 782/782 [00:48<00:00, 15.97it/s, Loss=0.125]\n",
            "Epoch 222/300: 100%|██████████████████████████████████████████████████| 782/782 [00:49<00:00, 15.95it/s, Loss=0.000147]\n",
            "Epoch 223/300: 100%|█████████████████████████████████████████████████████| 782/782 [00:49<00:00, 15.77it/s, Loss=0.197]\n",
            "Epoch 224/300: 100%|███████████████████████████████████████████████████| 782/782 [00:49<00:00, 15.95it/s, Loss=0.00151]\n",
            "Epoch 225/300: 100%|████████████████████████████████████████████████████| 782/782 [00:49<00:00, 15.90it/s, Loss=0.0911]\n",
            "Epoch 226/300: 100%|████████████████████████████████████████████████████| 782/782 [00:49<00:00, 15.96it/s, Loss=0.0121]\n",
            "Epoch 227/300: 100%|████████████████████████████████████████████████████| 782/782 [00:49<00:00, 15.79it/s, Loss=0.0315]\n",
            "Epoch 228/300: 100%|█████████████████████████████████████████████████████| 782/782 [00:49<00:00, 15.93it/s, Loss=0.654]\n",
            "Epoch 229/300: 100%|████████████████████████████████████████████████████| 782/782 [00:49<00:00, 15.95it/s, Loss=0.0275]\n",
            "Epoch 230/300: 100%|█████████████████████████████████████████████████████| 782/782 [00:49<00:00, 15.76it/s, Loss=0.144]\n",
            "Epoch 231/300: 100%|███████████████████████████████████████████████████| 782/782 [00:49<00:00, 15.93it/s, Loss=0.00471]\n",
            "Epoch 232/300: 100%|███████████████████████████████████████████████████| 782/782 [00:49<00:00, 15.90it/s, Loss=0.00205]\n",
            "Epoch 233/300: 100%|██████████████████████████████████████████████████| 782/782 [00:49<00:00, 15.93it/s, Loss=0.000261]\n",
            "Epoch 234/300: 100%|████████████████████████████████████████████████████| 782/782 [00:49<00:00, 15.74it/s, Loss=0.0919]\n",
            "Epoch 235/300: 100%|███████████████████████████████████████████████████| 782/782 [00:48<00:00, 15.96it/s, Loss=2.49e-5]\n",
            "Epoch 236/300: 100%|██████████████████████████████████████████████████| 782/782 [00:49<00:00, 15.94it/s, Loss=0.000114]\n",
            "Epoch 237/300: 100%|███████████████████████████████████████████████████| 782/782 [00:49<00:00, 15.94it/s, Loss=0.00496]\n",
            "Epoch 238/300: 100%|████████████████████████████████████████████████████| 782/782 [00:49<00:00, 15.72it/s, Loss=0.0493]\n",
            "Epoch 239/300: 100%|███████████████████████████████████████████████████| 782/782 [00:49<00:00, 15.89it/s, Loss=0.00847]\n",
            "Epoch 240/300: 100%|███████████████████████████████████████████████████| 782/782 [00:49<00:00, 15.93it/s, Loss=0.00215]\n",
            "Epoch 241/300: 100%|███████████████████████████████████████████████████| 782/782 [00:49<00:00, 15.74it/s, Loss=0.00172]\n",
            "Epoch 242/300: 100%|████████████████████████████████████████████████████| 782/782 [00:49<00:00, 15.93it/s, Loss=0.0267]\n",
            "Epoch 243/300: 100%|████████████████████████████████████████████████████| 782/782 [00:49<00:00, 15.95it/s, Loss=0.0897]\n",
            "Epoch 244/300: 100%|███████████████████████████████████████████████████| 782/782 [00:49<00:00, 15.91it/s, Loss=0.00246]\n",
            "Epoch 245/300: 100%|██████████████████████████████████████████████████| 782/782 [00:49<00:00, 15.73it/s, Loss=0.000151]\n",
            "Epoch 246/300: 100%|███████████████████████████████████████████████████| 782/782 [00:49<00:00, 15.92it/s, Loss=0.00156]\n",
            "Epoch 247/300: 100%|████████████████████████████████████████████████████| 782/782 [00:49<00:00, 15.94it/s, Loss=0.0699]\n",
            "Epoch 248/300: 100%|███████████████████████████████████████████████████| 782/782 [00:49<00:00, 15.92it/s, Loss=0.00109]\n",
            "Epoch 249/300: 100%|███████████████████████████████████████████████████| 782/782 [00:49<00:00, 15.75it/s, Loss=0.00251]\n",
            "Epoch 250/300: 100%|████████████████████████████████████████████████████| 782/782 [00:49<00:00, 15.94it/s, Loss=0.0157]\n",
            "Epoch 251/300: 100%|███████████████████████████████████████████████████| 782/782 [00:49<00:00, 15.91it/s, Loss=0.00537]\n",
            "Epoch 252/300: 100%|████████████████████████████████████████████████████| 782/782 [00:49<00:00, 15.75it/s, Loss=0.0544]\n",
            "Epoch 253/300: 100%|███████████████████████████████████████████████████| 782/782 [00:49<00:00, 15.92it/s, Loss=2.34e-5]\n",
            "Epoch 254/300: 100%|█████████████████████████████████████████████████████| 782/782 [00:49<00:00, 15.91it/s, Loss=0.459]\n",
            "Epoch 255/300: 100%|███████████████████████████████████████████████████| 782/782 [00:49<00:00, 15.95it/s, Loss=0.00055]\n",
            "Epoch 256/300: 100%|█████████████████████████████████████████████████████| 782/782 [00:49<00:00, 15.68it/s, Loss=0.255]\n",
            "Epoch 257/300: 100%|█████████████████████████████████████████████████████| 782/782 [00:49<00:00, 15.87it/s, Loss=0.102]\n",
            "Epoch 258/300: 100%|████████████████████████████████████████████████████| 782/782 [00:49<00:00, 15.88it/s, Loss=0.0254]\n",
            "Epoch 259/300: 100%|███████████████████████████████████████████████████| 782/782 [00:49<00:00, 15.82it/s, Loss=0.00199]\n",
            "Epoch 260/300: 100%|█████████████████████████████████████████████████████| 782/782 [00:49<00:00, 15.72it/s, Loss=0.205]\n",
            "Epoch 261/300: 100%|███████████████████████████████████████████████████| 782/782 [00:49<00:00, 15.91it/s, Loss=0.00768]\n",
            "Epoch 262/300: 100%|██████████████████████████████████████████████████| 782/782 [00:49<00:00, 15.92it/s, Loss=0.000225]\n",
            "Epoch 263/300: 100%|██████████████████████████████████████████████████| 782/782 [00:49<00:00, 15.72it/s, Loss=0.000669]\n",
            "Epoch 264/300: 100%|███████████████████████████████████████████████████| 782/782 [00:49<00:00, 15.91it/s, Loss=0.00244]\n",
            "Epoch 265/300: 100%|█████████████████████████████████████████████████████| 782/782 [00:49<00:00, 15.89it/s, Loss=0.179]\n",
            "Epoch 266/300: 100%|████████████████████████████████████████████████████| 782/782 [00:49<00:00, 15.90it/s, Loss=0.0276]\n",
            "Epoch 267/300: 100%|████████████████████████████████████████████████████| 782/782 [00:49<00:00, 15.71it/s, Loss=0.0314]\n",
            "Epoch 268/300: 100%|████████████████████████████████████████████████████| 782/782 [00:49<00:00, 15.91it/s, Loss=0.0242]\n",
            "Epoch 269/300: 100%|██████████████████████████████████████████████████| 782/782 [00:49<00:00, 15.87it/s, Loss=0.000905]\n",
            "Epoch 270/300: 100%|███████████████████████████████████████████████████| 782/782 [00:49<00:00, 15.90it/s, Loss=3.11e-6]\n",
            "Epoch 271/300: 100%|████████████████████████████████████████████████████| 782/782 [00:49<00:00, 15.78it/s, Loss=0.0051]\n",
            "Epoch 272/300: 100%|██████████████████████████████████████████████████| 782/782 [00:49<00:00, 15.92it/s, Loss=0.000247]\n",
            "Epoch 273/300: 100%|██████████████████████████████████████████████████| 782/782 [00:49<00:00, 15.89it/s, Loss=0.000531]\n",
            "Epoch 274/300: 100%|██████████████████████████████████████████████████| 782/782 [00:49<00:00, 15.70it/s, Loss=0.000261]\n",
            "Epoch 275/300: 100%|████████████████████████████████████████████████████| 782/782 [00:49<00:00, 15.91it/s, Loss=0.0133]\n",
            "Epoch 276/300: 100%|███████████████████████████████████████████████████| 782/782 [00:49<00:00, 15.91it/s, Loss=0.00935]\n",
            "Epoch 277/300: 100%|████████████████████████████████████████████████████| 782/782 [00:49<00:00, 15.92it/s, Loss=0.0052]\n",
            "Epoch 278/300: 100%|████████████████████████████████████████████████████| 782/782 [00:49<00:00, 15.71it/s, Loss=0.0196]\n",
            "Epoch 279/300: 100%|██████████████████████████████████████████████████| 782/782 [00:49<00:00, 15.92it/s, Loss=0.000971]\n",
            "Epoch 280/300: 100%|███████████████████████████████████████████████████| 782/782 [00:49<00:00, 15.90it/s, Loss=0.00313]\n",
            "Epoch 281/300: 100%|███████████████████████████████████████████████████| 782/782 [00:49<00:00, 15.72it/s, Loss=1.94e-5]\n",
            "Epoch 282/300: 100%|███████████████████████████████████████████████████| 782/782 [00:49<00:00, 15.85it/s, Loss=3.33e-6]\n",
            "Epoch 283/300: 100%|█████████████████████████████████████████████████████| 782/782 [00:49<00:00, 15.86it/s, Loss=0.188]\n",
            "Epoch 284/300: 100%|███████████████████████████████████████████████████| 782/782 [00:49<00:00, 15.88it/s, Loss=0.00168]\n",
            "Epoch 285/300: 100%|████████████████████████████████████████████████████| 782/782 [00:49<00:00, 15.70it/s, Loss=0.0828]\n",
            "Epoch 286/300: 100%|███████████████████████████████████████████████████| 782/782 [00:49<00:00, 15.90it/s, Loss=0.00851]\n",
            "Epoch 287/300: 100%|████████████████████████████████████████████████████| 782/782 [00:49<00:00, 15.88it/s, Loss=9.3e-5]\n",
            "Epoch 288/300: 100%|██████████████████████████████████████████████████| 782/782 [00:49<00:00, 15.89it/s, Loss=0.000405]\n",
            "Epoch 289/300: 100%|███████████████████████████████████████████████████| 782/782 [00:49<00:00, 15.75it/s, Loss=0.00952]\n",
            "Epoch 290/300: 100%|██████████████████████████████████████████████████| 782/782 [00:49<00:00, 15.92it/s, Loss=0.000241]\n",
            "Epoch 291/300: 100%|████████████████████████████████████████████████████| 782/782 [00:49<00:00, 15.90it/s, Loss=0.0124]\n",
            "Epoch 292/300: 100%|███████████████████████████████████████████████████| 782/782 [00:49<00:00, 15.69it/s, Loss=2.72e-5]\n",
            "Epoch 293/300: 100%|██████████████████████████████████████████████████| 782/782 [00:49<00:00, 15.90it/s, Loss=0.000441]\n",
            "Epoch 294/300: 100%|████████████████████████████████████████████████████| 782/782 [00:49<00:00, 15.87it/s, Loss=0.0785]\n",
            "Epoch 295/300: 100%|███████████████████████████████████████████████████| 782/782 [00:49<00:00, 15.86it/s, Loss=0.00235]\n",
            "Epoch 296/300: 100%|███████████████████████████████████████████████████| 782/782 [00:49<00:00, 15.67it/s, Loss=2.97e-5]\n",
            "Epoch 297/300: 100%|███████████████████████████████████████████████████| 782/782 [00:49<00:00, 15.83it/s, Loss=7.03e-5]\n",
            "Epoch 298/300: 100%|███████████████████████████████████████████████████| 782/782 [00:49<00:00, 15.87it/s, Loss=0.00539]\n",
            "Epoch 299/300: 100%|█████████████████████████████████████████████████████| 782/782 [00:49<00:00, 15.84it/s, Loss=0.074]\n",
            "Epoch 300/300: 100%|███████████████████████████████████████████████████| 782/782 [00:49<00:00, 15.70it/s, Loss=0.00519]\n"
          ]
        }
      ]
    },
    {
      "cell_type": "code",
      "source": [
        "# Define the Residual Block\n",
        "class ResidualBlock(nn.Module):\n",
        "    def __init__(self, in_channels, out_channels, stride=1):\n",
        "        super(ResidualBlock, self).__init__()\n",
        "        self.conv1 = nn.Conv2d(in_channels, out_channels, kernel_size=3, stride=stride, padding=1, bias=False)\n",
        "        self.bn1 = nn.BatchNorm2d(out_channels)\n",
        "        self.relu = nn.ReLU(inplace=True)\n",
        "        self.conv2 = nn.Conv2d(out_channels, out_channels, kernel_size=3, stride=1, padding=1, bias=False)\n",
        "        self.bn2 = nn.BatchNorm2d(out_channels)\n",
        "\n",
        "        # Skip connection\n",
        "        self.shortcut = nn.Sequential()\n",
        "        if stride != 1 or in_channels != out_channels:\n",
        "            self.shortcut = nn.Sequential(\n",
        "                nn.Conv2d(in_channels, out_channels, kernel_size=1, stride=stride, bias=False),\n",
        "                nn.BatchNorm2d(out_channels)\n",
        "            )\n",
        "\n",
        "    def forward(self, x):\n",
        "        residual = x\n",
        "        out = self.conv1(x)\n",
        "        out = self.bn1(out)\n",
        "        out = self.relu(out)\n",
        "        out = self.conv2(out)\n",
        "        out = self.bn2(out)\n",
        "        out += self.shortcut(residual)\n",
        "        out = self.relu(out)\n",
        "        return out\n",
        "\n",
        "class ResNet10WeightDecay(nn.Module):\n",
        "    def __init__(self, num_classes=10, weight_decay=0.001):\n",
        "        super(ResNet10WeightDecay, self).__init__()\n",
        "        self.in_channels = 16\n",
        "        self.conv1 = nn.Conv2d(3, self.in_channels, kernel_size=3, stride=1, padding=1, bias=False)\n",
        "        self.optimizer = optim.Adam(model.parameters(), lr=learning_rate, weight_decay=weight_decay)\n",
        "\n",
        "# Training loop\n",
        "model_weight_decay = ResNet10WeightDecay().to(device)\n",
        "\n",
        "    def forward(self, x):\n",
        "        out = self.conv1(x)\n",
        "        out = self.bn1(out)\n",
        "        out = self.relu(out)\n",
        "        out = self.layer1(out)\n",
        "        out = self.layer2(out)\n",
        "        out = self.layer3(out)\n",
        "        out = self.avg_pool(out)\n",
        "        out = out.view(out.size(0), -1)\n",
        "        out = self.fc(out)\n",
        "        return out\n",
        "\n",
        "# Hyperparameters\n",
        "batch_size = 64\n",
        "learning_rate = 0.001\n",
        "epochs = 300\n",
        "\n",
        "# Data loading and preprocessing\n",
        "transform = transforms.Compose([\n",
        "    transforms.ToTensor(),\n",
        "    transforms.Normalize((0.5, 0.5, 0.5), (0.5, 0.5, 0.5)),\n",
        "])\n",
        "\n",
        "train_dataset = CIFAR10(root='./data', train=True, download=True, transform=transform)\n",
        "train_loader = DataLoader(train_dataset, batch_size=batch_size, shuffle=True)\n",
        "\n",
        "# Model, loss function, and optimizer\n",
        "device = torch.device(\"cuda\" if torch.cuda.is_available() else \"cpu\")\n",
        "model = ResNet10().to(device)\n",
        "criterion = nn.CrossEntropyLoss()\n",
        "optimizer = optim.Adam(model.parameters(), lr=learning_rate)\n",
        "\n",
        "# Training the model\n",
        "for epoch in range(epochs):\n",
        "    model.train()\n",
        "    train_loader = tqdm(train_loader, desc=f'Epoch {epoch + 1}/{epochs}', dynamic_ncols=True)\n",
        "\n",
        "    for images, labels in train_loader:\n",
        "        images, labels = images.to(device), labels.to(device)\n",
        "        optimizer.zero_grad()\n",
        "        outputs = model(images)\n",
        "        loss = criterion(outputs, labels)\n",
        "        loss.backward()\n",
        "        optimizer.step()\n",
        "\n",
        "        train_loader.set_postfix({'Loss': loss.item()}, refresh=True)\n"
      ],
      "metadata": {
        "id": "b5r3BrVkQw5E"
      },
      "execution_count": null,
      "outputs": []
    },
    {
      "cell_type": "code",
      "source": [
        "# Define the Residual Block\n",
        "class ResidualBlock(nn.Module):\n",
        "    def __init__(self, in_channels, out_channels, stride=1):\n",
        "        super(ResidualBlock, self).__init__()\n",
        "        self.conv1 = nn.Conv2d(in_channels, out_channels, kernel_size=3, stride=stride, padding=1, bias=False)\n",
        "        self.bn1 = nn.BatchNorm2d(out_channels)\n",
        "        self.relu = nn.ReLU(inplace=True)\n",
        "        self.conv2 = nn.Conv2d(out_channels, out_channels, kernel_size=3, stride=1, padding=1, bias=False)\n",
        "        self.bn2 = nn.BatchNorm2d(out_channels)\n",
        "\n",
        "        # Skip connection\n",
        "        self.shortcut = nn.Sequential()\n",
        "        if stride != 1 or in_channels != out_channels:\n",
        "            self.shortcut = nn.Sequential(\n",
        "                nn.Conv2d(in_channels, out_channels, kernel_size=1, stride=stride, bias=False),\n",
        "                nn.BatchNorm2d(out_channels)\n",
        "            )\n",
        "\n",
        "    def forward(self, x):\n",
        "        residual = x\n",
        "        out = self.conv1(x)\n",
        "        out = self.bn1(out)\n",
        "        out = self.relu(out)\n",
        "        out = self.conv2(out)\n",
        "        out = self.bn2(out)\n",
        "        out += self.shortcut(residual)\n",
        "        out = self.relu(out)\n",
        "        return out\n",
        "\n",
        "class ResNet10Dropout(nn.Module):\n",
        "    def __init__(self, num_classes=10, dropout_prob=0.3):\n",
        "        super(ResNet10Dropout, self).__init__()\n",
        "        self.in_channels = 16\n",
        "        self.dropout = nn.Dropout(p=dropout_prob)\n",
        "\n",
        "# Training loop\n",
        "model_weight_decay = ResNet10WeightDecay().to(device)\n",
        "\n",
        "    def forward(self, x):\n",
        "        out = self.conv1(x)\n",
        "        out = self.bn1(out)\n",
        "        out = self.relu(out)\n",
        "        out = self.layer1(out)\n",
        "        out = self.layer2(out)\n",
        "        out = self.layer3(out)\n",
        "        out = self.avg_pool(out)\n",
        "        out = out.view(out.size(0), -1)\n",
        "        out = self.fc(out)\n",
        "        return out\n",
        "\n",
        "# Hyperparameters\n",
        "batch_size = 64\n",
        "learning_rate = 0.001\n",
        "epochs = 300\n",
        "\n",
        "# Data loading and preprocessing\n",
        "transform = transforms.Compose([\n",
        "    transforms.ToTensor(),\n",
        "    transforms.Normalize((0.5, 0.5, 0.5), (0.5, 0.5, 0.5)),\n",
        "])\n",
        "\n",
        "train_dataset = CIFAR10(root='./data', train=True, download=True, transform=transform)\n",
        "train_loader = DataLoader(train_dataset, batch_size=batch_size, shuffle=True)\n",
        "\n",
        "# Model, loss function, and optimizer\n",
        "device = torch.device(\"cuda\" if torch.cuda.is_available() else \"cpu\")\n",
        "model = ResNet10().to(device)\n",
        "criterion = nn.CrossEntropyLoss()\n",
        "optimizer = optim.Adam(model.parameters(), lr=learning_rate)\n",
        "\n",
        "# Training the model\n",
        "for epoch in range(epochs):\n",
        "    model.train()\n",
        "    train_loader = tqdm(train_loader, desc=f'Epoch {epoch + 1}/{epochs}', dynamic_ncols=True)\n",
        "\n",
        "    for images, labels in train_loader:\n",
        "        images, labels = images.to(device), labels.to(device)\n",
        "        optimizer.zero_grad()\n",
        "        outputs = model(images)\n",
        "        loss = criterion(outputs, labels)\n",
        "        loss.backward()\n",
        "        optimizer.step()\n",
        "\n",
        "        train_loader.set_postfix({'Loss': loss.item()}, refresh=True)\n",
        "\n"
      ],
      "metadata": {
        "id": "mBwmOfZISD9J"
      },
      "execution_count": null,
      "outputs": []
    },
    {
      "cell_type": "code",
      "source": [
        "# Define the Residual Block\n",
        "class ResidualBlock(nn.Module):\n",
        "    def __init__(self, in_channels, out_channels, stride=1):\n",
        "        super(ResidualBlock, self).__init__()\n",
        "        self.conv1 = nn.Conv2d(in_channels, out_channels, kernel_size=3, stride=stride, padding=1, bias=False)\n",
        "        self.bn1 = nn.BatchNorm2d(out_channels)\n",
        "        self.relu = nn.ReLU(inplace=True)\n",
        "        self.conv2 = nn.Conv2d(out_channels, out_channels, kernel_size=3, stride=1, padding=1, bias=False)\n",
        "        self.bn2 = nn.BatchNorm2d(out_channels)\n",
        "\n",
        "        # Skip connection\n",
        "        self.shortcut = nn.Sequential()\n",
        "        if stride != 1 or in_channels != out_channels:\n",
        "            self.shortcut = nn.Sequential(\n",
        "                nn.Conv2d(in_channels, out_channels, kernel_size=1, stride=stride, bias=False),\n",
        "                nn.BatchNorm2d(out_channels)\n",
        "            )\n",
        "\n",
        "    def forward(self, x):\n",
        "        residual = x\n",
        "        out = self.conv1(x)\n",
        "        out = self.bn1(out)\n",
        "        out = self.relu(out)\n",
        "        out = self.conv2(out)\n",
        "        out = self.bn2(out)\n",
        "        out += self.shortcut(residual)\n",
        "        out = self.relu(out)\n",
        "        return out\n",
        "\n",
        "class ResNet10BatchNorm(nn.Module):\n",
        "    def __init__(self, num_classes=10):\n",
        "        super(ResNet10BatchNorm, self).__init__()\n",
        "        self.in_channels = 16\n",
        "        self.bn1 = nn.BatchNorm2d(self.in_channels)\n",
        "model_batch_norm = ResNet10BatchNorm().to(device)\n",
        "# Training loop\n",
        "model_weight_decay = ResNet10WeightDecay().to(device)\n",
        "\n",
        "    def forward(self, x):\n",
        "        out = self.conv1(x)\n",
        "        out = self.bn1(out)\n",
        "        out = self.relu(out)\n",
        "        out = self.layer1(out)\n",
        "        out = self.layer2(out)\n",
        "        out = self.layer3(out)\n",
        "        out = self.avg_pool(out)\n",
        "        out = out.view(out.size(0), -1)\n",
        "        out = self.fc(out)\n",
        "        return out\n",
        "\n",
        "# Hyperparameters\n",
        "batch_size = 64\n",
        "learning_rate = 0.001\n",
        "epochs = 300\n",
        "\n",
        "# Data loading and preprocessing\n",
        "transform = transforms.Compose([\n",
        "    transforms.ToTensor(),\n",
        "    transforms.Normalize((0.5, 0.5, 0.5), (0.5, 0.5, 0.5)),\n",
        "])\n",
        "\n",
        "train_dataset = CIFAR10(root='./data', train=True, download=True, transform=transform)\n",
        "train_loader = DataLoader(train_dataset, batch_size=batch_size, shuffle=True)\n",
        "\n",
        "# Model, loss function, and optimizer\n",
        "device = torch.device(\"cuda\" if torch.cuda.is_available() else \"cpu\")\n",
        "model = ResNet10().to(device)\n",
        "criterion = nn.CrossEntropyLoss()\n",
        "optimizer = optim.Adam(model.parameters(), lr=learning_rate)\n",
        "\n",
        "# Training the model\n",
        "for epoch in range(epochs):\n",
        "    model.train()\n",
        "    train_loader = tqdm(train_loader, desc=f'Epoch {epoch + 1}/{epochs}', dynamic_ncols=True)\n",
        "\n",
        "    for images, labels in train_loader:\n",
        "        images, labels = images.to(device), labels.to(device)\n",
        "        optimizer.zero_grad()\n",
        "        outputs = model(images)\n",
        "        loss = criterion(outputs, labels)\n",
        "        loss.backward()\n",
        "        optimizer.step()\n",
        "\n",
        "        train_loader.set_postfix({'Loss': loss.item()}, refresh=True)\n"
      ],
      "metadata": {
        "id": "mH9bvRi4SE-k"
      },
      "execution_count": null,
      "outputs": []
    }
  ],
  "metadata": {
    "colab": {
      "provenance": [],
      "gpuType": "T4",
      "authorship_tag": "ABX9TyP6Kn17+TMxBjZ5aXgI2J5j",
      "include_colab_link": true
    },
    "kernelspec": {
      "display_name": "Python 3",
      "name": "python3"
    },
    "language_info": {
      "name": "python"
    },
    "accelerator": "GPU"
  },
  "nbformat": 4,
  "nbformat_minor": 0
}